{
  "nbformat": 4,
  "nbformat_minor": 0,
  "metadata": {
    "colab": {
      "name": "TensorflowPrac5_Tensors.ipynb",
      "provenance": [],
      "collapsed_sections": [],
      "authorship_tag": "ABX9TyPMBPNPTYWDRI3EHIYXXqTG",
      "include_colab_link": true
    },
    "kernelspec": {
      "name": "python3",
      "display_name": "Python 3"
    }
  },
  "cells": [
    {
      "cell_type": "markdown",
      "metadata": {
        "id": "view-in-github",
        "colab_type": "text"
      },
      "source": [
        "<a href=\"https://colab.research.google.com/github/Vinaypatil-Ev/vinEvPy-GoCoLab/blob/main/Tensorflow/TensorflowPrac5_Tensors.ipynb\" target=\"_parent\"><img src=\"https://colab.research.google.com/assets/colab-badge.svg\" alt=\"Open In Colab\"/></a>"
      ]
    },
    {
      "cell_type": "code",
      "metadata": {
        "id": "XrYUO87NYV2l"
      },
      "source": [
        "import tensorflow as tf\r\n",
        "import timeit"
      ],
      "execution_count": null,
      "outputs": []
    },
    {
      "cell_type": "markdown",
      "metadata": {
        "id": "ZAvQeiB58Grs"
      },
      "source": [
        "# Tensor\r\n",
        "## Tensor in tensorflow support eagar execution and graph execution.\r\n",
        "## In graph execution, a computation graph is created for later evaluation\r\n"
      ]
    },
    {
      "cell_type": "code",
      "metadata": {
        "id": "Zm2VMem0Ycy6",
        "colab": {
          "base_uri": "https://localhost:8080/"
        },
        "outputId": "9049fe01-9bfa-4d42-b2ae-72c5842bec07"
      },
      "source": [
        "a = tf.constant([[1, 3.0], [3.0, 1]])\r\n",
        "b = tf.constant([[1.0, 1], [1, 1]])\r\n",
        "tf.matmul(a, b)"
      ],
      "execution_count": null,
      "outputs": [
        {
          "output_type": "execute_result",
          "data": {
            "text/plain": [
              "<tf.Tensor: shape=(2, 2), dtype=float32, numpy=\n",
              "array([[4., 4.],\n",
              "       [4., 4.]], dtype=float32)>"
            ]
          },
          "metadata": {
            "tags": []
          },
          "execution_count": 2
        }
      ]
    },
    {
      "cell_type": "markdown",
      "metadata": {
        "id": "ugu4ZiTQ9FSG"
      },
      "source": [
        "### as you can see type of tensor it is in eager mode"
      ]
    },
    {
      "cell_type": "code",
      "metadata": {
        "colab": {
          "base_uri": "https://localhost:8080/"
        },
        "id": "3_fSjUJQ8sTr",
        "outputId": "2005d23c-c58c-4d6f-e4ce-e9dd20e173db"
      },
      "source": [
        "type(a)"
      ],
      "execution_count": null,
      "outputs": [
        {
          "output_type": "execute_result",
          "data": {
            "text/plain": [
              "tensorflow.python.framework.ops.EagerTensor"
            ]
          },
          "metadata": {
            "tags": []
          },
          "execution_count": 3
        }
      ]
    },
    {
      "cell_type": "code",
      "metadata": {
        "colab": {
          "base_uri": "https://localhost:8080/"
        },
        "id": "VKFQgzDN9C4X",
        "outputId": "b60b4658-cd0b-4be9-b737-0a8a7a3b11c1"
      },
      "source": [
        "type(b)"
      ],
      "execution_count": null,
      "outputs": [
        {
          "output_type": "execute_result",
          "data": {
            "text/plain": [
              "tensorflow.python.framework.ops.EagerTensor"
            ]
          },
          "metadata": {
            "tags": []
          },
          "execution_count": 4
        }
      ]
    },
    {
      "cell_type": "markdown",
      "metadata": {
        "id": "Ye669C8y-YvD"
      },
      "source": [
        "# In tensorflow *tf.function* is common way define graphs\r\n",
        "\r\n",
        "\r\n",
        "## *tf.function* creates callable that executes graphs\r\n",
        "## grpah are extermely useful and run faster, efficiently and on run on multiple devices"
      ]
    },
    {
      "cell_type": "code",
      "metadata": {
        "id": "gtP4LMWk9Dw7",
        "colab": {
          "base_uri": "https://localhost:8080/"
        },
        "outputId": "dedf3742-d790-41e5-c663-72b0ecae77cc"
      },
      "source": [
        "a"
      ],
      "execution_count": null,
      "outputs": [
        {
          "output_type": "execute_result",
          "data": {
            "text/plain": [
              "<tf.Tensor: shape=(2, 2), dtype=float32, numpy=\n",
              "array([[1., 3.],\n",
              "       [3., 1.]], dtype=float32)>"
            ]
          },
          "metadata": {
            "tags": []
          },
          "execution_count": 5
        }
      ]
    },
    {
      "cell_type": "code",
      "metadata": {
        "colab": {
          "base_uri": "https://localhost:8080/"
        },
        "id": "LG-H8O6YnSmv",
        "outputId": "ce730057-07ef-461d-9ff1-23b743ffd6de"
      },
      "source": [
        "b"
      ],
      "execution_count": null,
      "outputs": [
        {
          "output_type": "execute_result",
          "data": {
            "text/plain": [
              "<tf.Tensor: shape=(2, 2), dtype=float32, numpy=\n",
              "array([[1., 1.],\n",
              "       [1., 1.]], dtype=float32)>"
            ]
          },
          "metadata": {
            "tags": []
          },
          "execution_count": 6
        }
      ]
    },
    {
      "cell_type": "markdown",
      "metadata": {
        "id": "hxfCQBiUnp88"
      },
      "source": [
        "### define a function"
      ]
    },
    {
      "cell_type": "code",
      "metadata": {
        "id": "ob704wjanS8A"
      },
      "source": [
        "def execution_fun(x, y):\r\n",
        "  z = tf.matmul(x, y)\r\n",
        "  z = z + tf.constant(2.0)\r\n",
        "  return z"
      ],
      "execution_count": null,
      "outputs": []
    },
    {
      "cell_type": "markdown",
      "metadata": {
        "id": "3GFDy2oRntuw"
      },
      "source": [
        "### create function object that contains graph"
      ]
    },
    {
      "cell_type": "code",
      "metadata": {
        "id": "YCA9CL4_nYki"
      },
      "source": [
        "a_fun = tf.function(execution_fun)"
      ],
      "execution_count": null,
      "outputs": []
    },
    {
      "cell_type": "markdown",
      "metadata": {
        "id": "didZnqz8odHw"
      },
      "source": [
        "### executing with graph mode"
      ]
    },
    {
      "cell_type": "code",
      "metadata": {
        "colab": {
          "base_uri": "https://localhost:8080/"
        },
        "id": "2MbqfKaEn7PM",
        "outputId": "2878fa62-37f3-4019-c1d1-2a7584f82bef"
      },
      "source": [
        "timeit.timeit(lambda: a_fun(a, b), number=100)"
      ],
      "execution_count": null,
      "outputs": [
        {
          "output_type": "execute_result",
          "data": {
            "text/plain": [
              "0.11203651399955561"
            ]
          },
          "metadata": {
            "tags": []
          },
          "execution_count": 9
        }
      ]
    },
    {
      "cell_type": "markdown",
      "metadata": {
        "id": "MPQZ0jwcojVc"
      },
      "source": [
        "###executing with eager mode"
      ]
    },
    {
      "cell_type": "code",
      "metadata": {
        "colab": {
          "base_uri": "https://localhost:8080/"
        },
        "id": "-TYnUGzfoifS",
        "outputId": "583a03ec-77d7-4000-9bc0-6a06c21d3488"
      },
      "source": [
        "timeit.timeit(lambda: execution_fun(a, b), number=100)"
      ],
      "execution_count": null,
      "outputs": [
        {
          "output_type": "execute_result",
          "data": {
            "text/plain": [
              "0.008310146999065182"
            ]
          },
          "metadata": {
            "tags": []
          },
          "execution_count": 10
        }
      ]
    },
    {
      "cell_type": "markdown",
      "metadata": {
        "id": "0bMvJIgcpHPB"
      },
      "source": [
        "### above we can see that eager mode is taking less time\r\n",
        "### but for many layers in model it will take less time as compare to eager mode"
      ]
    },
    {
      "cell_type": "code",
      "metadata": {
        "id": "1sLcB6IbpGWr"
      },
      "source": [
        "class SequentialModel(tf.keras.Model):\r\n",
        "  def __init__(self, **kwargs):\r\n",
        "    super(SequentialModel, self).__init__(**kwargs)\r\n",
        "    self.flatten = tf.keras.layers.Flatten(input_shape=(28, 28))\r\n",
        "    # Add a lot of small layers\r\n",
        "    num_layers = 1000\r\n",
        "    self.my_layers = [tf.keras.layers.Dense(64, activation=\"relu\")\r\n",
        "                      for n in range(num_layers)]\r\n",
        "    self.dropout = tf.keras.layers.Dropout(0.2)\r\n",
        "    self.dense_2 = tf.keras.layers.Dense(10)\r\n",
        "\r\n",
        "  def call(self, x):\r\n",
        "    x = self.flatten(x)\r\n",
        "    for layer in self.my_layers:\r\n",
        "      x = layer(x)\r\n",
        "    x = self.dropout(x)\r\n",
        "    x = self.dense_2(x)\r\n",
        "    return x"
      ],
      "execution_count": null,
      "outputs": []
    },
    {
      "cell_type": "code",
      "metadata": {
        "id": "Ab5jfaDgp157"
      },
      "source": [
        "input_data = tf.random.uniform([100, 28, 28])"
      ],
      "execution_count": null,
      "outputs": []
    },
    {
      "cell_type": "code",
      "metadata": {
        "colab": {
          "base_uri": "https://localhost:8080/"
        },
        "id": "_J7PRQD7p5wg",
        "outputId": "54f4f623-329a-4b1f-b334-0b6d14d34776"
      },
      "source": [
        "eager_model = SequentialModel()\r\n",
        "\r\n",
        "# Don't count the time for the initial build.\r\n",
        "eager_model(input_data)\r\n",
        "print(\"Eager time:\", timeit.timeit(lambda: eager_model(input_data), number=100))"
      ],
      "execution_count": null,
      "outputs": [
        {
          "output_type": "stream",
          "text": [
            "Eager time: 20.266556350999963\n"
          ],
          "name": "stdout"
        }
      ]
    },
    {
      "cell_type": "code",
      "metadata": {
        "colab": {
          "base_uri": "https://localhost:8080/"
        },
        "id": "KpY3vPyWqcEw",
        "outputId": "8cc69bf3-112d-4c10-d511-4345fcedb9dd"
      },
      "source": [
        "print(\"Eager time:\", timeit.timeit(lambda: eager_model(input_data), number=100))"
      ],
      "execution_count": null,
      "outputs": [
        {
          "output_type": "stream",
          "text": [
            "Eager time: 20.364811526000267\n"
          ],
          "name": "stdout"
        }
      ]
    },
    {
      "cell_type": "code",
      "metadata": {
        "colab": {
          "base_uri": "https://localhost:8080/"
        },
        "id": "g3mybsfhp8Kf",
        "outputId": "c27e0334-e649-4f90-8331-58bd4b9558de"
      },
      "source": [
        "graph_model = SequentialModel()\r\n",
        "graph_model.call = tf.function(graph_model.call)\r\n",
        "\r\n",
        "# Don't count the time for the initial build and trace.\r\n",
        "graph_model(input_data)\r\n",
        "print(\"Graph time:\", timeit.timeit(lambda: graph_model(input_data), number=100))"
      ],
      "execution_count": null,
      "outputs": [
        {
          "output_type": "stream",
          "text": [
            "Graph time: 2.776997308999853\n"
          ],
          "name": "stdout"
        }
      ]
    },
    {
      "cell_type": "code",
      "metadata": {
        "colab": {
          "base_uri": "https://localhost:8080/"
        },
        "id": "sVBlJ1iXqEm0",
        "outputId": "de8fd8a9-86b4-4959-feb3-7aff86c21ba9"
      },
      "source": [
        "print(\"Graph time:\", timeit.timeit(lambda: graph_model(input_data), number=100))"
      ],
      "execution_count": null,
      "outputs": [
        {
          "output_type": "stream",
          "text": [
            "Graph time: 2.7888064760009\n"
          ],
          "name": "stdout"
        }
      ]
    },
    {
      "cell_type": "code",
      "metadata": {
        "colab": {
          "base_uri": "https://localhost:8080/"
        },
        "id": "Xq1Edsz3qeZ3",
        "outputId": "eecbcb29-10e0-469a-e28e-76628df883e2"
      },
      "source": [
        "print(\"Graph time:\", timeit.timeit(lambda: graph_model(input_data), number=100))"
      ],
      "execution_count": null,
      "outputs": [
        {
          "output_type": "stream",
          "text": [
            "Graph time: 2.717407947000538\n"
          ],
          "name": "stdout"
        }
      ]
    },
    {
      "cell_type": "code",
      "metadata": {
        "colab": {
          "base_uri": "https://localhost:8080/"
        },
        "id": "dWP3k6E7qjgN",
        "outputId": "fa69034a-afa7-49e8-f713-da840799871a"
      },
      "source": [
        "print(\"Graph time:\", timeit.timeit(lambda: graph_model(input_data), number=100))"
      ],
      "execution_count": null,
      "outputs": [
        {
          "output_type": "stream",
          "text": [
            "Graph time: 2.802857902001051\n"
          ],
          "name": "stdout"
        }
      ]
    },
    {
      "cell_type": "code",
      "metadata": {
        "colab": {
          "base_uri": "https://localhost:8080/"
        },
        "id": "rrA1PAMnqlvf",
        "outputId": "b69cb07f-9bba-44ca-b914-d9735d0461e0"
      },
      "source": [
        "print(\"Graph time:\", timeit.timeit(lambda: graph_model(input_data), number=100))"
      ],
      "execution_count": null,
      "outputs": [
        {
          "output_type": "stream",
          "text": [
            "Graph time: 2.7655795900009252\n"
          ],
          "name": "stdout"
        }
      ]
    },
    {
      "cell_type": "markdown",
      "metadata": {
        "id": "fOldL3WgN819"
      },
      "source": [
        "### *tf.function* also traces any python function it calls"
      ]
    },
    {
      "cell_type": "code",
      "metadata": {
        "id": "5uw-61T9LkWh"
      },
      "source": [
        "@tf.function\r\n",
        "def graph_to_func():\r\n",
        "  x = a\r\n",
        "  y = b\r\n",
        "  return execution_fun(x, y)"
      ],
      "execution_count": null,
      "outputs": []
    },
    {
      "cell_type": "code",
      "metadata": {
        "colab": {
          "base_uri": "https://localhost:8080/"
        },
        "id": "Y8V4MffCObyw",
        "outputId": "654994bd-665c-4f99-8d9c-82dd482f2c0e"
      },
      "source": [
        "timeit.timeit(lambda: graph_to_func(), number=100)"
      ],
      "execution_count": null,
      "outputs": [
        {
          "output_type": "execute_result",
          "data": {
            "text/plain": [
              "0.09431496599972888"
            ]
          },
          "metadata": {
            "tags": []
          },
          "execution_count": 21
        }
      ]
    },
    {
      "cell_type": "code",
      "metadata": {
        "colab": {
          "base_uri": "https://localhost:8080/"
        },
        "id": "AE-wNj9opHww",
        "outputId": "5c472d5c-bcae-495a-daea-2dd3a83c86d2"
      },
      "source": [
        "def fab_series(n):\r\n",
        "  def fab(n):\r\n",
        "    # if(n == 0):\r\n",
        "    #   return 0\r\n",
        "    # if(n == 1):\r\n",
        "    #   return 1\r\n",
        "    # return fab(n-1) + fab(n-2)\r\n",
        "    return 0 if n == 0 else 1 if n == 1 else fab(n-1) + fab(n-2)\r\n",
        "  fabs = list()\r\n",
        "  for i in range(n):\r\n",
        "    fabs.append(fab(i))\r\n",
        "  return fabs\r\n",
        "\r\n",
        "fab_series(10)"
      ],
      "execution_count": null,
      "outputs": [
        {
          "output_type": "execute_result",
          "data": {
            "text/plain": [
              "[0, 1, 1, 2, 3, 5, 8, 13, 21, 34]"
            ]
          },
          "metadata": {
            "tags": []
          },
          "execution_count": 22
        }
      ]
    },
    {
      "cell_type": "code",
      "metadata": {
        "colab": {
          "base_uri": "https://localhost:8080/"
        },
        "id": "ZOUDhHcpdvyq",
        "outputId": "0cde3b52-a5e7-44fb-972d-b163ecbb306f"
      },
      "source": [
        "v = tf.Variable(0)\r\n",
        "@tf.function\r\n",
        "def fab_series_g(n):\r\n",
        "  def fab(n):\r\n",
        "    return 0 if n == 0 else 1 if n == 1 else fab(n-1) + fab(n-2)\r\n",
        "  \r\n",
        "  st = tf.TensorArray(tf.int32, 0, dynamic_size=True)\r\n",
        "  for i in range(n):\r\n",
        "     st = st.write(i, fab(i))\r\n",
        "  return st.stack()\r\n",
        "\r\n",
        "fab_series_g(10)\r\n"
      ],
      "execution_count": null,
      "outputs": [
        {
          "output_type": "execute_result",
          "data": {
            "text/plain": [
              "<tf.Tensor: shape=(10,), dtype=int32, numpy=array([ 0,  1,  1,  2,  3,  5,  8, 13, 21, 34], dtype=int32)>"
            ]
          },
          "metadata": {
            "tags": []
          },
          "execution_count": 24
        }
      ]
    },
    {
      "cell_type": "code",
      "metadata": {
        "colab": {
          "base_uri": "https://localhost:8080/"
        },
        "id": "PayG4hOnhs-m",
        "outputId": "5d5183dc-b224-42c0-d097-f3e3a8d8b2b8"
      },
      "source": [
        "v = tf.Variable(0)\r\n",
        "@tf.function\r\n",
        "def fab_series2_g(n):  \r\n",
        "  st = tf.TensorArray(tf.int32, 0, dynamic_size=True)\r\n",
        "  for i in range(n):\r\n",
        "     st = st.write(i, v.assign_add(i))\r\n",
        "  \r\n",
        "  return st.stack()\r\n",
        "\r\n",
        "fab_series2_g(10)"
      ],
      "execution_count": null,
      "outputs": [
        {
          "output_type": "execute_result",
          "data": {
            "text/plain": [
              "<tf.Tensor: shape=(10,), dtype=int32, numpy=array([ 0,  1,  3,  6, 10, 15, 21, 28, 36, 45], dtype=int32)>"
            ]
          },
          "metadata": {
            "tags": []
          },
          "execution_count": 25
        }
      ]
    },
    {
      "cell_type": "code",
      "metadata": {
        "colab": {
          "base_uri": "https://localhost:8080/"
        },
        "id": "eJpv5RioiLo4",
        "outputId": "9adef578-5e0e-44cc-940c-ab8686df9ea6"
      },
      "source": [
        "timeit.timeit(lambda: fab_series2_g(10), number=100 )"
      ],
      "execution_count": null,
      "outputs": [
        {
          "output_type": "execute_result",
          "data": {
            "text/plain": [
              "0.042450536999240285"
            ]
          },
          "metadata": {
            "tags": []
          },
          "execution_count": 26
        }
      ]
    },
    {
      "cell_type": "code",
      "metadata": {
        "colab": {
          "base_uri": "https://localhost:8080/"
        },
        "id": "jlBF7sI8jeFE",
        "outputId": "325b74af-0ac0-4af0-f3d2-93a1d8b254a4"
      },
      "source": [
        "timeit.timeit(lambda: fab_series2_g(10), number=100 )"
      ],
      "execution_count": null,
      "outputs": [
        {
          "output_type": "execute_result",
          "data": {
            "text/plain": [
              "0.0437701789996936"
            ]
          },
          "metadata": {
            "tags": []
          },
          "execution_count": 27
        }
      ]
    },
    {
      "cell_type": "markdown",
      "metadata": {
        "id": "MCTMa2x30sLY"
      },
      "source": [
        "# Solving Machine Learning Problems"
      ]
    },
    {
      "cell_type": "code",
      "metadata": {
        "id": "e_gPbb2z3sYK"
      },
      "source": [
        "import matplotlib.pyplot as plt\r\n"
      ],
      "execution_count": null,
      "outputs": []
    },
    {
      "cell_type": "code",
      "metadata": {
        "colab": {
          "base_uri": "https://localhost:8080/",
          "height": 265
        },
        "id": "c8ibXY7j1SKi",
        "outputId": "5ec401dc-783a-4620-9497-338423b9edda"
      },
      "source": [
        "w = 3.0\r\n",
        "b = 2.0\r\n",
        "\r\n",
        "x = tf.random.normal([1000], dtype=tf.float16)\r\n",
        "noise = tf.random.normal([1000], dtype=tf.float16)\r\n",
        "\r\n",
        "y = x * w + b + noise\r\n",
        "\r\n",
        "plt.scatter(x, y, c=\"b\")\r\n",
        "# plt.plot(x, y, c=\"r\")\r\n",
        "plt.show()"
      ],
      "execution_count": null,
      "outputs": [
        {
          "output_type": "display_data",
          "data": {
            "image/png": "[encoded data removed]",
            "text/plain": [
              "<Figure size 432x288 with 1 Axes>"
            ]
          },
          "metadata": {
            "tags": [],
            "needs_background": "light"
          }
        }
      ]
    },
    {
      "cell_type": "code",
      "metadata": {
        "id": "ZNLiWiLC4OI5"
      },
      "source": [
        "class Model(tf.Module):\r\n",
        "  def __init__(self, *kwargs):\r\n",
        "    super().__init__(*kwargs)\r\n",
        "  @tf.function\r\n",
        "  def __call__(self, x):\r\n",
        "    w = tf.random.normal([x.shape[-1], x.shape[-1] + 100], dtype=tf.float64)\r\n",
        "    b = tf.random.normal([x.shape[0], 1], dtype=tf.float64)\r\n",
        "    return tf.matmul(x, w) + b"
      ],
      "execution_count": null,
      "outputs": []
    },
    {
      "cell_type": "code",
      "metadata": {
        "id": "KeSnK_qJ7VB9"
      },
      "source": [
        "m = Model()"
      ],
      "execution_count": null,
      "outputs": []
    },
    {
      "cell_type": "code",
      "metadata": {
        "id": "ybsOGrxn_rMV"
      },
      "source": [
        "x = tf.random.normal([9000, 1000], dtype=tf.float64)"
      ],
      "execution_count": null,
      "outputs": []
    },
    {
      "cell_type": "code",
      "metadata": {
        "colab": {
          "base_uri": "https://localhost:8080/"
        },
        "id": "fXu5s7sH737W",
        "outputId": "ba9f0958-9c83-44a4-a58e-9ec47490bb0b"
      },
      "source": [
        "timeit.timeit(lambda: m(x), number=100)"
      ],
      "execution_count": null,
      "outputs": [
        {
          "output_type": "execute_result",
          "data": {
            "text/plain": [
              "67.4734651710005"
            ]
          },
          "metadata": {
            "tags": []
          },
          "execution_count": 66
        }
      ]
    },
    {
      "cell_type": "code",
      "metadata": {
        "colab": {
          "base_uri": "https://localhost:8080/"
        },
        "id": "lHHAdB1i8c8H",
        "outputId": "ac4daf59-938a-415f-ed51-44194d550501"
      },
      "source": [
        "m.__call__ = tf.function(m.__call__)\r\n",
        "timeit.timeit(lambda: m(x).numpy(), number=100)"
      ],
      "execution_count": null,
      "outputs": [
        {
          "output_type": "execute_result",
          "data": {
            "text/plain": [
              "71.05285244800143"
            ]
          },
          "metadata": {
            "tags": []
          },
          "execution_count": 59
        }
      ]
    },
    {
      "cell_type": "code",
      "metadata": {
        "id": "v50VoXQeEQkY"
      },
      "source": [
        ""
      ],
      "execution_count": null,
      "outputs": []
    }
  ]
}