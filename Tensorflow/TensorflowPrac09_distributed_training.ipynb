{
  "nbformat": 4,
  "nbformat_minor": 0,
  "metadata": {
    "colab": {
      "name": "TensorflowPrac9_distributed_training.ipynb",
      "provenance": [],
      "authorship_tag": "ABX9TyO2i4/JQSlk41+LvlWrklgj",
      "include_colab_link": true
    },
    "kernelspec": {
      "name": "python3",
      "display_name": "Python 3"
    }
  },
  "cells": [
    {
      "cell_type": "markdown",
      "metadata": {
        "id": "view-in-github",
        "colab_type": "text"
      },
      "source": [
        "<a href=\"https://colab.research.google.com/github/Vinaypatil-Ev/vinEvPy-GoCoLab/blob/main/Tensorflow/TensorflowPrac09_distributed_training.ipynb\" target=\"_parent\"><img src=\"https://colab.research.google.com/assets/colab-badge.svg\" alt=\"Open In Colab\"/></a>"
      ]
    },
    {
      "cell_type": "markdown",
      "metadata": {
        "id": "dG-EzxkNv3qy"
      },
      "source": [
        "# Distributed traininig with tensorflow"
      ]
    },
    {
      "cell_type": "markdown",
      "metadata": {
        "id": "3ORPuB_HwJsv"
      },
      "source": [
        "## *tf.distribute.Strategy* \r\n",
        "### 1. It is tensorflow api that allows to distribute training across multiple GPU's and even TPU's\r\n",
        "### 2. It can be used with keras smoothly\r\n",
        "### 3. It supports eager mode and graph mode (tf.function) of execution"
      ]
    },
    {
      "cell_type": "code",
      "metadata": {
        "id": "9yFdEsMovxFp"
      },
      "source": [
        ""
      ],
      "execution_count": null,
      "outputs": []
    }
  ]
}