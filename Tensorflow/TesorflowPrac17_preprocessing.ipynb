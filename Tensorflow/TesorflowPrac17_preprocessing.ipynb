{
  "nbformat": 4,
  "nbformat_minor": 0,
  "metadata": {
    "colab": {
      "name": "TesorflowPrac17_preprocessing.ipynb",
      "provenance": [],
      "collapsed_sections": [],
      "authorship_tag": "ABX9TyOlayLzYDvpv9nyFc3ycc1P",
      "include_colab_link": true
    },
    "kernelspec": {
      "name": "python3",
      "display_name": "Python 3"
    }
  },
  "cells": [
    {
      "cell_type": "markdown",
      "metadata": {
        "id": "view-in-github",
        "colab_type": "text"
      },
      "source": [
        "<a href=\"https://colab.research.google.com/github/Vinaypatil-Ev/vinEvPy-GoCoLab/blob/main/Tensorflow/TesorflowPrac17_preprocessing.ipynb\" target=\"_parent\"><img src=\"https://colab.research.google.com/assets/colab-badge.svg\" alt=\"Open In Colab\"/></a>"
      ]
    },
    {
      "cell_type": "code",
      "metadata": {
        "id": "RDFUBaI8xlHG"
      },
      "source": [
        "import tensorflow as tf"
      ],
      "execution_count": null,
      "outputs": []
    },
    {
      "cell_type": "markdown",
      "metadata": {
        "id": "GdYhQ9XYsxMX"
      },
      "source": [
        "##1. adapt() method"
      ]
    },
    {
      "cell_type": "code",
      "metadata": {
        "id": "I41KEnYm0YWR"
      },
      "source": [
        "from tensorflow.keras.layers.experimental import preprocessing"
      ],
      "execution_count": null,
      "outputs": []
    },
    {
      "cell_type": "code",
      "metadata": {
        "id": "Oet1rlOZ0ymj"
      },
      "source": [
        "data = [\"thiss is first line\", \"This is second line\", \"This is third line\", \"This is fourth line\", \"This is fifth line\"]\r\n",
        "layer = preprocessing.TextVectorization()\r\n",
        "layer.adapt(data)"
      ],
      "execution_count": null,
      "outputs": []
    },
    {
      "cell_type": "code",
      "metadata": {
        "colab": {
          "base_uri": "https://localhost:8080/"
        },
        "id": "QHbgHBKl06l7",
        "outputId": "0500df4b-18c1-4da3-b69f-0f83bd1bb18e"
      },
      "source": [
        "layer(data)"
      ],
      "execution_count": null,
      "outputs": [
        {
          "output_type": "execute_result",
          "data": {
            "text/plain": [
              "<tf.Tensor: shape=(5, 4), dtype=int64, numpy=\n",
              "array([[ 5,  3,  9,  2],\n",
              "       [ 4,  3,  7,  2],\n",
              "       [ 4,  3,  6,  2],\n",
              "       [ 4,  3,  8,  2],\n",
              "       [ 4,  3, 10,  2]])>"
            ]
          },
          "metadata": {
            "tags": []
          },
          "execution_count": 14
        }
      ]
    },
    {
      "cell_type": "markdown",
      "metadata": {
        "id": "t5Dcbps3y1AH"
      },
      "source": [
        "## Image data Augmentation"
      ]
    },
    {
      "cell_type": "code",
      "metadata": {
        "id": "V5Sf9efo07Lc"
      },
      "source": [
        "augment_layer = tf.keras.Sequential([preprocessing.RandomFlip(\"horizontal\"),\r\n",
        "                                     preprocessing.RandomRotation(0.1),\r\n",
        "                                     preprocessing.RandomZoom(0.1),\r\n",
        "])"
      ],
      "execution_count": null,
      "outputs": []
    },
    {
      "cell_type": "code",
      "metadata": {
        "id": "4tBNaqJ0zhZW"
      },
      "source": [
        "input_shape = (32, 32, 3)\r\n",
        "classes = 10\r\n"
      ],
      "execution_count": null,
      "outputs": []
    },
    {
      "cell_type": "code",
      "metadata": {
        "id": "ymk5bwaEztpx"
      },
      "source": [
        "inputs = tf.keras.Input(\r\n",
        "    shape=input_shape)\r\n",
        "x = augment_layer(inputs)\r\n",
        "x = preprocessing.Rescaling(1.0 / 255)(x)\r\n",
        "outputs = tf.keras.applications.ResNet50(weights=None, input_shape=input_shape, classes=classes)(x)\r\n",
        "model = tf.keras.Model(inputs, outputs)"
      ],
      "execution_count": null,
      "outputs": []
    },
    {
      "cell_type": "markdown",
      "metadata": {
        "id": "KdHyEK3YEFZi"
      },
      "source": [
        "## Noramalization"
      ]
    },
    {
      "cell_type": "code",
      "metadata": {
        "id": "Gt2bucYpEyxK"
      },
      "source": [
        "(xtrn, ytrn), (_, _) = tf.keras.datasets.cifar10.load_data()\r\n",
        "data = xtrn.reshape((len(xtrn), -1))\r\n",
        "input_shape = data.shape[1:]\r\n",
        "classes=10"
      ],
      "execution_count": null,
      "outputs": []
    },
    {
      "cell_type": "code",
      "metadata": {
        "id": "iAgpDb-V3rKX"
      },
      "source": [
        "normalize_layer = preprocessing.Normalization()\r\n",
        "normalize_layer.adapt(data)"
      ],
      "execution_count": null,
      "outputs": []
    },
    {
      "cell_type": "code",
      "metadata": {
        "id": "WfBAxL5yEhF6"
      },
      "source": [
        "inputs = tf.keras.Input(shape=input_shape)\r\n",
        "x = normalize_layer(inputs)\r\n",
        "outputs = tf.keras.layers.Dense(classes, activation=\"softmax\")(x)\r\n",
        "model = tf.keras.Model(inputs, outputs)"
      ],
      "execution_count": null,
      "outputs": []
    },
    {
      "cell_type": "code",
      "metadata": {
        "colab": {
          "base_uri": "https://localhost:8080/"
        },
        "id": "iultj70AH5rc",
        "outputId": "bd3595b5-2319-4e93-9019-bae9d20a3797"
      },
      "source": [
        "model.compile(\"adam\", \"sparse_categorical_crossentropy\")\r\n",
        "model.fit(data, ytrn)"
      ],
      "execution_count": null,
      "outputs": [
        {
          "output_type": "stream",
          "text": [
            "1563/1563 [==============================] - 4s 2ms/step - loss: 2.1959\n"
          ],
          "name": "stdout"
        },
        {
          "output_type": "execute_result",
          "data": {
            "text/plain": [
              "<tensorflow.python.keras.callbacks.History at 0x7fe454c39630>"
            ]
          },
          "metadata": {
            "tags": []
          },
          "execution_count": 46
        }
      ]
    },
    {
      "cell_type": "code",
      "metadata": {
        "id": "4R0vLUBfQ5s1"
      },
      "source": [
        "data = tf.constant([\"a\", \"b\", \"c\", \"d\", \"\", \"  \",\" \",\" \"])"
      ],
      "execution_count": null,
      "outputs": []
    },
    {
      "cell_type": "code",
      "metadata": {
        "colab": {
          "base_uri": "https://localhost:8080/"
        },
        "id": "jAUm4C5fPm5n",
        "outputId": "c0d1e75a-e9d7-4638-9ae7-d0fab3f5a2b6"
      },
      "source": [
        "x = preprocessing.StringLookup()\r\n",
        "x.adapt(data)\r\n",
        "x(data)"
      ],
      "execution_count": null,
      "outputs": [
        {
          "output_type": "execute_result",
          "data": {
            "text/plain": [
              "<tf.Tensor: shape=(8,), dtype=int64, numpy=array([6, 5, 4, 3, 0, 7, 2, 2])>"
            ]
          },
          "metadata": {
            "tags": []
          },
          "execution_count": 90
        }
      ]
    },
    {
      "cell_type": "code",
      "metadata": {
        "colab": {
          "base_uri": "https://localhost:8080/"
        },
        "id": "V3WzpGK3QPXI",
        "outputId": "5b47d771-61ed-4dc2-d977-7c25360a60e0"
      },
      "source": [
        "x1 = preprocessing.CategoryEncoding(output_mode=\"binary\")\r\n",
        "x1.adapt(x(data))\r\n",
        "# data = tf.constant([\"a\", \"b\", \"c\", \"d\", \"\"])\r\n",
        "x1(x(data))"
      ],
      "execution_count": null,
      "outputs": [
        {
          "output_type": "execute_result",
          "data": {
            "text/plain": [
              "<tf.Tensor: shape=(8, 8), dtype=float32, numpy=\n",
              "array([[0., 0., 0., 0., 0., 0., 1., 0.],\n",
              "       [0., 0., 0., 0., 0., 1., 0., 0.],\n",
              "       [0., 0., 0., 0., 1., 0., 0., 0.],\n",
              "       [0., 0., 0., 1., 0., 0., 0., 0.],\n",
              "       [1., 0., 0., 0., 0., 0., 0., 0.],\n",
              "       [0., 0., 0., 0., 0., 0., 0., 1.],\n",
              "       [0., 0., 1., 0., 0., 0., 0., 0.],\n",
              "       [0., 0., 1., 0., 0., 0., 0., 0.]], dtype=float32)>"
            ]
          },
          "metadata": {
            "tags": []
          },
          "execution_count": 91
        }
      ]
    },
    {
      "cell_type": "code",
      "metadata": {
        "colab": {
          "base_uri": "https://localhost:8080/"
        },
        "id": "rOQqnJ7bR7PL",
        "outputId": "a440df1f-996c-4346-e45c-26a718753d97"
      },
      "source": [
        "x(data)"
      ],
      "execution_count": null,
      "outputs": [
        {
          "output_type": "execute_result",
          "data": {
            "text/plain": [
              "<tf.Tensor: shape=(4,), dtype=int64, numpy=array([5, 4, 3, 2])>"
            ]
          },
          "metadata": {
            "tags": []
          },
          "execution_count": 75
        }
      ]
    },
    {
      "cell_type": "markdown",
      "metadata": {
        "id": "M7sFqiXval9O"
      },
      "source": [
        "## Hashing (for large no of categories in onehot range:1e3)"
      ]
    },
    {
      "cell_type": "code",
      "metadata": {
        "id": "S74yVVyrbJcK"
      },
      "source": [
        "import numpy as np\r\n"
      ],
      "execution_count": null,
      "outputs": []
    },
    {
      "cell_type": "code",
      "metadata": {
        "colab": {
          "base_uri": "https://localhost:8080/"
        },
        "id": "eqrmlLwPSLXw",
        "outputId": "dc5d887c-f2dc-4252-c166-8611e751b234"
      },
      "source": [
        "data = np.random.randint(0, 10000, size=(10000, 1))\r\n",
        "hash = preprocessing.Hashing(num_bins=64, salt=1337)\r\n",
        "o = preprocessing.CategoryEncoding(max_tokens=64, output_mode=\"binary\")\r\n",
        "o = o(hash(data))\r\n",
        "o.shape"
      ],
      "execution_count": null,
      "outputs": [
        {
          "output_type": "execute_result",
          "data": {
            "text/plain": [
              "TensorShape([10000, 64])"
            ]
          },
          "metadata": {
            "tags": []
          },
          "execution_count": 96
        }
      ]
    },
    {
      "cell_type": "code",
      "metadata": {
        "id": "VqM4writb35Y"
      },
      "source": [
        "def encode_text_model(data, mode=\"tf-idf\", ngrams=None):\r\n",
        "    tvector = preprocessing.TextVectorization(output_mode=mode, ngrams=ngrams)\r\n",
        "    tvector.adapt(data)\r\n",
        "\r\n",
        "    inputs = tf.keras.Input(shape=(1,), dtype=\"string\")\r\n",
        "    x = tvector(inputs)\r\n",
        "    outputs = tf.keras.layers.Dense(10)(x)\r\n",
        "    model = tf.keras.Model(inputs, outputs)\r\n",
        "    return model"
      ],
      "execution_count": null,
      "outputs": []
    },
    {
      "cell_type": "code",
      "metadata": {
        "id": "59Twl8aJejQ8"
      },
      "source": [
        "data = tf.constant(\r\n",
        "    [\r\n",
        "        \"The Brain is wider than the Sky\",\r\n",
        "        \"For put them side by side\",\r\n",
        "        \"The one the other will contain\",\r\n",
        "        \"With ease and You beside\",\r\n",
        "    ]\r\n",
        ")\r\n",
        "\r\n",
        "test_data = tf.constant([\"The Brain is deeper than the see\"])"
      ],
      "execution_count": null,
      "outputs": []
    },
    {
      "cell_type": "code",
      "metadata": {
        "colab": {
          "base_uri": "https://localhost:8080/"
        },
        "id": "27l7yxvUgebZ",
        "outputId": "fce42dda-fc86-4756-f428-a74f9242be9b"
      },
      "source": [
        "encoder = [\"tf-idf\", \"binary\"]\r\n",
        "for i in encoder:\r\n",
        "    model = encode_text_model(data, i, 2)\r\n",
        "    print(model(test_data).numpy().argmax())\r\n",
        "    print(\"_______________\")"
      ],
      "execution_count": null,
      "outputs": [
        {
          "output_type": "stream",
          "text": [
            "6\n",
            "_______________\n",
            "7\n",
            "_______________\n"
          ],
          "name": "stdout"
        }
      ]
    },
    {
      "cell_type": "code",
      "metadata": {
        "colab": {
          "base_uri": "https://localhost:8080/"
        },
        "id": "Bq_flQYYg2lg",
        "outputId": "76f6330f-c65d-4d56-979e-459a922566ce"
      },
      "source": [
        "36*13.50"
      ],
      "execution_count": null,
      "outputs": [
        {
          "output_type": "execute_result",
          "data": {
            "text/plain": [
              "486.0"
            ]
          },
          "metadata": {
            "tags": []
          },
          "execution_count": 136
        }
      ]
    },
    {
      "cell_type": "code",
      "metadata": {
        "colab": {
          "base_uri": "https://localhost:8080/"
        },
        "id": "Hqwt8bz0ihPc",
        "outputId": "120c53a6-870b-4c2b-a461-e09effe935c8"
      },
      "source": [
        "np.array([10, 2, 3, 4, 5]).argmax()"
      ],
      "execution_count": null,
      "outputs": [
        {
          "output_type": "execute_result",
          "data": {
            "text/plain": [
              "0"
            ]
          },
          "metadata": {
            "tags": []
          },
          "execution_count": 139
        }
      ]
    },
    {
      "cell_type": "code",
      "metadata": {
        "colab": {
          "base_uri": "https://localhost:8080/"
        },
        "id": "jYp-ukIskQaB",
        "outputId": "1acbac22-cbe5-4f89-96cf-d00c9ae9bcb4"
      },
      "source": [
        "tvector = preprocessing.TextVectorization()\r\n",
        "tvector.adapt(data)\r\n",
        "inputs = tf.keras.Input(shape=(1, ), dtype=\"string\")\r\n",
        "x = tvector(inputs)\r\n",
        "vocab = tvector.get_vocabulary()\r\n",
        "x = tf.keras.layers.Embedding(input_dim=len(vocab), output_dim=64)(x)\r\n",
        "outputs = tf.keras.layers.LSTM(1)(x)\r\n",
        "model = tf.keras.Model(inputs, outputs)\r\n",
        "model(test_data)"
      ],
      "execution_count": null,
      "outputs": [
        {
          "output_type": "execute_result",
          "data": {
            "text/plain": [
              "<tf.Tensor: shape=(1, 1), dtype=float32, numpy=array([[-0.00553942]], dtype=float32)>"
            ]
          },
          "metadata": {
            "tags": []
          },
          "execution_count": 142
        }
      ]
    },
    {
      "cell_type": "code",
      "metadata": {
        "id": "PyLmaPztmAYC"
      },
      "source": [
        ""
      ],
      "execution_count": null,
      "outputs": []
    }
  ]
}