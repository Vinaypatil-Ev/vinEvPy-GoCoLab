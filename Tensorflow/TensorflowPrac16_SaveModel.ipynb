{
  "nbformat": 4,
  "nbformat_minor": 0,
  "metadata": {
    "colab": {
      "name": "TensorflowPrac16_SaveModel.ipynb",
      "provenance": [],
      "collapsed_sections": [],
      "authorship_tag": "ABX9TyP5vq5RzAZjh0/KaXi6tTC0",
      "include_colab_link": true
    },
    "kernelspec": {
      "name": "python3",
      "display_name": "Python 3"
    }
  },
  "cells": [
    {
      "cell_type": "markdown",
      "metadata": {
        "id": "view-in-github",
        "colab_type": "text"
      },
      "source": [
        "<a href=\"https://colab.research.google.com/github/Vinaypatil-Ev/vinEvPy-GoCoLab/blob/main/Tensorflow/TensorflowPrac16_SaveModel.ipynb\" target=\"_parent\"><img src=\"https://colab.research.google.com/assets/colab-badge.svg\" alt=\"Open In Colab\"/></a>"
      ]
    },
    {
      "cell_type": "code",
      "metadata": {
        "id": "49DjSHacqvM9"
      },
      "source": [
        "import tensorflow as tf"
      ],
      "execution_count": null,
      "outputs": []
    },
    {
      "cell_type": "code",
      "metadata": {
        "id": "bIJscUiTuNd0"
      },
      "source": [
        "import numpy as np"
      ],
      "execution_count": null,
      "outputs": []
    },
    {
      "cell_type": "markdown",
      "metadata": {
        "id": "w7xp2Qbw5oXU"
      },
      "source": [
        "# Save and Load Models"
      ]
    },
    {
      "cell_type": "markdown",
      "metadata": {
        "id": "kxq3HRqi5YyI"
      },
      "source": [
        "## create simple model"
      ]
    },
    {
      "cell_type": "code",
      "metadata": {
        "id": "Fg2x-2sWq4jq"
      },
      "source": [
        "def get_model():\r\n",
        "    inputs = tf.keras.Input((32,))\r\n",
        "    outputs = tf.keras.layers.Dense(1, activation=\"relu\")(inputs)\r\n",
        "    model = tf.keras.Model(inputs, outputs)\r\n",
        "    model.compile(optimizer=\"adam\", loss=\"mse\")\r\n",
        "    return model"
      ],
      "execution_count": null,
      "outputs": []
    },
    {
      "cell_type": "code",
      "metadata": {
        "id": "yvwueYSyr6Dl"
      },
      "source": [
        "model = get_model()"
      ],
      "execution_count": null,
      "outputs": []
    },
    {
      "cell_type": "code",
      "metadata": {
        "colab": {
          "base_uri": "https://localhost:8080/"
        },
        "id": "bkZ0IRB7sjjo",
        "outputId": "6219dc6e-f57d-4c93-af36-70aa695031bf"
      },
      "source": [
        "input_data = np.random.random((128, 32))\r\n",
        "output_data = np.random.random((128, 1))\r\n",
        "model.fit(input_data, output_data)"
      ],
      "execution_count": null,
      "outputs": [
        {
          "output_type": "stream",
          "text": [
            "4/4 [==============================] - 0s 3ms/step - loss: 0.2135\n"
          ],
          "name": "stdout"
        },
        {
          "output_type": "execute_result",
          "data": {
            "text/plain": [
              "<tensorflow.python.keras.callbacks.History at 0x7facd02585f8>"
            ]
          },
          "metadata": {
            "tags": []
          },
          "execution_count": 5
        }
      ]
    },
    {
      "cell_type": "markdown",
      "metadata": {
        "id": "fh9RdudJ5VAC"
      },
      "source": [
        "## Saving above model"
      ]
    },
    {
      "cell_type": "code",
      "metadata": {
        "colab": {
          "base_uri": "https://localhost:8080/"
        },
        "id": "vhvRItIstuVd",
        "outputId": "d2a1ea63-1ff5-4ea9-f1c7-7a00b4deb111"
      },
      "source": [
        "model.save(\"saved_model123\")"
      ],
      "execution_count": null,
      "outputs": [
        {
          "output_type": "stream",
          "text": [
            "INFO:tensorflow:Assets written to: saved_model123/assets\n"
          ],
          "name": "stdout"
        }
      ]
    },
    {
      "cell_type": "markdown",
      "metadata": {
        "id": "8c-ia_XU7mbp"
      },
      "source": [
        "### save as **.h5** model(keras way)"
      ]
    },
    {
      "cell_type": "code",
      "metadata": {
        "id": "xKtC1bGb71aF"
      },
      "source": [
        "model.save(\"saved_model11.keras\")"
      ],
      "execution_count": null,
      "outputs": []
    },
    {
      "cell_type": "code",
      "metadata": {
        "id": "7TGo65vZ7-5z"
      },
      "source": [
        "model.save(\"saved_model12.h5\")"
      ],
      "execution_count": null,
      "outputs": []
    },
    {
      "cell_type": "code",
      "metadata": {
        "colab": {
          "base_uri": "https://localhost:8080/"
        },
        "id": "RnGAQ1ZM8Jjq",
        "outputId": "b1792115-053b-4ac4-ba92-58aa3996f28f"
      },
      "source": [
        "!ls"
      ],
      "execution_count": null,
      "outputs": [
        {
          "output_type": "stream",
          "text": [
            "sample_data  saved_model11.keras  saved_model123  saved_model12.h5\n"
          ],
          "name": "stdout"
        }
      ]
    },
    {
      "cell_type": "markdown",
      "metadata": {
        "id": "Ej8ofzFd5uHX"
      },
      "source": [
        "# load saved model"
      ]
    },
    {
      "cell_type": "code",
      "metadata": {
        "id": "yutkoQMEykA7"
      },
      "source": [
        "saved_model = tf.keras.models.load_model(\"saved_model123\")"
      ],
      "execution_count": null,
      "outputs": []
    },
    {
      "cell_type": "code",
      "metadata": {
        "colab": {
          "base_uri": "https://localhost:8080/"
        },
        "id": "pKThDTBE6GDu",
        "outputId": "fed89792-ed8d-4367-f41b-a48096552896"
      },
      "source": [
        "saved_model.predict(input_data[:5])"
      ],
      "execution_count": null,
      "outputs": [
        {
          "output_type": "execute_result",
          "data": {
            "text/plain": [
              "array([[0.9347816 ],\n",
              "       [0.17120656],\n",
              "       [0.5414269 ],\n",
              "       [0.15207213],\n",
              "       [0.41472995]], dtype=float32)"
            ]
          },
          "metadata": {
            "tags": []
          },
          "execution_count": 9
        }
      ]
    },
    {
      "cell_type": "code",
      "metadata": {
        "colab": {
          "base_uri": "https://localhost:8080/"
        },
        "id": "YS1KjCTZ6NZV",
        "outputId": "25af2e7f-6ab9-4e60-f6dd-ada15f376b9b"
      },
      "source": [
        "model.predict(input_data[:5])"
      ],
      "execution_count": null,
      "outputs": [
        {
          "output_type": "execute_result",
          "data": {
            "text/plain": [
              "array([[0.9347816 ],\n",
              "       [0.17120656],\n",
              "       [0.5414269 ],\n",
              "       [0.15207213],\n",
              "       [0.41472995]], dtype=float32)"
            ]
          },
          "metadata": {
            "tags": []
          },
          "execution_count": 10
        }
      ]
    },
    {
      "cell_type": "markdown",
      "metadata": {
        "id": "RHrVkT3b7e7L"
      },
      "source": [
        "## How saved model handles custom format"
      ]
    },
    {
      "cell_type": "markdown",
      "metadata": {
        "id": "pxqzEL-n8-ZZ"
      },
      "source": [
        "### It is neccessary to define get_config() and from_config() for custom models and layers\r\n",
        "\r\n",
        "### Lets see what happenes with config method\r\n"
      ]
    },
    {
      "cell_type": "markdown",
      "metadata": {
        "id": "ZJv0CvblaUMR"
      },
      "source": [
        "###1.*getconfig()* \r\n",
        "###2. *from_config()* \r\n",
        "###3. *to_json()* \r\n",
        "###4. *tf.keras.models.model_from_json()*"
      ]
    },
    {
      "cell_type": "code",
      "metadata": {
        "id": "QfAa3eVU6xqv"
      },
      "source": [
        "class CustomModel(tf.keras.Model):\r\n",
        "    def __init__(self, dense_list):\r\n",
        "        super(CustomModel, self).__init__()\r\n",
        "        self.dense_layers = [tf.keras.layers.Dense(o) for o in dense_list]\r\n",
        "    \r\n",
        "    def call(self, inputs):\r\n",
        "        x = inputs\r\n",
        "        for layers in self.dense_layers:\r\n",
        "            x = layers(x)\r\n",
        "        return x"
      ],
      "execution_count": null,
      "outputs": []
    },
    {
      "cell_type": "code",
      "metadata": {
        "id": "GFPZreCb_a0Q"
      },
      "source": [
        "model = CustomModel([64, 64, 64, 1])\r\n",
        "input_data = np.random.random((1, 5))"
      ],
      "execution_count": null,
      "outputs": []
    },
    {
      "cell_type": "code",
      "metadata": {
        "id": "7tBx0kHP_fYb",
        "colab": {
          "base_uri": "https://localhost:8080/"
        },
        "outputId": "ecca7b54-bec0-4fe2-bed1-384e563a635d"
      },
      "source": [
        "outputs = model(input_data)\r\n",
        "outputs"
      ],
      "execution_count": null,
      "outputs": [
        {
          "output_type": "execute_result",
          "data": {
            "text/plain": [
              "<tf.Tensor: shape=(1, 1), dtype=float32, numpy=array([[0.15760417]], dtype=float32)>"
            ]
          },
          "metadata": {
            "tags": []
          },
          "execution_count": 47
        }
      ]
    },
    {
      "cell_type": "code",
      "metadata": {
        "colab": {
          "base_uri": "https://localhost:8080/"
        },
        "id": "XgPgIHi-ECmb",
        "outputId": "244a73d0-bb68-4468-cb78-c621467543b3"
      },
      "source": [
        "mp = \"check_saved_model\"\r\n",
        "model.save(mp)"
      ],
      "execution_count": null,
      "outputs": [
        {
          "output_type": "stream",
          "text": [
            "INFO:tensorflow:Assets written to: check_saved_model/assets\n"
          ],
          "name": "stdout"
        }
      ]
    },
    {
      "cell_type": "code",
      "metadata": {
        "colab": {
          "base_uri": "https://localhost:8080/"
        },
        "id": "Hy_4rYoTEZUn",
        "outputId": "ed8a0b24-3b98-4a93-93b3-6d898e1fa288"
      },
      "source": [
        "del CustomModel\r\n",
        "model123 = tf.keras.models.load_model(mp)"
      ],
      "execution_count": null,
      "outputs": [
        {
          "output_type": "stream",
          "text": [
            "WARNING:tensorflow:No training configuration found in save file, so the model was *not* compiled. Compile it manually.\n"
          ],
          "name": "stdout"
        }
      ]
    },
    {
      "cell_type": "code",
      "metadata": {
        "colab": {
          "base_uri": "https://localhost:8080/"
        },
        "id": "No91mM9eEnVH",
        "outputId": "d22a17b1-7df0-4d2b-ac36-874f317282db"
      },
      "source": [
        "model123(input_data)"
      ],
      "execution_count": null,
      "outputs": [
        {
          "output_type": "execute_result",
          "data": {
            "text/plain": [
              "<tf.Tensor: shape=(1, 1), dtype=float32, numpy=array([[0.15760417]], dtype=float32)>"
            ]
          },
          "metadata": {
            "tags": []
          },
          "execution_count": 51
        }
      ]
    },
    {
      "cell_type": "markdown",
      "metadata": {
        "id": "HTiXq4xwFSdj"
      },
      "source": [
        "## loder create model that acts like original model"
      ]
    },
    {
      "cell_type": "code",
      "metadata": {
        "colab": {
          "base_uri": "https://localhost:8080/"
        },
        "id": "4_hKE89bE4J_",
        "outputId": "14b4e8bf-1eb3-435d-b4a4-f71e1068f254"
      },
      "source": [
        "model"
      ],
      "execution_count": null,
      "outputs": [
        {
          "output_type": "execute_result",
          "data": {
            "text/plain": [
              "<__main__.CustomModel at 0x7facc490b710>"
            ]
          },
          "metadata": {
            "tags": []
          },
          "execution_count": 52
        }
      ]
    },
    {
      "cell_type": "code",
      "metadata": {
        "colab": {
          "base_uri": "https://localhost:8080/"
        },
        "id": "nCmAtHP4FQo2",
        "outputId": "ebfe4e4f-7509-4597-d9f0-2b5b8117f441"
      },
      "source": [
        "model123"
      ],
      "execution_count": null,
      "outputs": [
        {
          "output_type": "execute_result",
          "data": {
            "text/plain": [
              "<tensorflow.python.keras.saving.saved_model.load.CustomModel at 0x7facc48bc208>"
            ]
          },
          "metadata": {
            "tags": []
          },
          "execution_count": 53
        }
      ]
    },
    {
      "cell_type": "markdown",
      "metadata": {
        "id": "YiDiEIOOIS7N"
      },
      "source": [
        "## Creating layers and models from configuration\r\n",
        "\r\n"
      ]
    },
    {
      "cell_type": "markdown",
      "metadata": {
        "id": "QzA81stPKr8W"
      },
      "source": [
        "###1 Layers"
      ]
    },
    {
      "cell_type": "code",
      "metadata": {
        "id": "1C6kwqF6N-Vu"
      },
      "source": [
        "import pprint"
      ],
      "execution_count": null,
      "outputs": []
    },
    {
      "cell_type": "code",
      "metadata": {
        "id": "weLFMTHmISkS"
      },
      "source": [
        "layer = tf.keras.layers.Dense(64, activation=\"relu\")\r\n",
        "layer_config = layer.get_config()\r\n",
        "generated_layer = tf.keras.layers.Dense.from_config(layer_config)"
      ],
      "execution_count": null,
      "outputs": []
    },
    {
      "cell_type": "code",
      "metadata": {
        "colab": {
          "base_uri": "https://localhost:8080/"
        },
        "id": "wOuaPalCN9Og",
        "outputId": "3cdf2872-5493-4f1a-b2dd-b3a93a8521aa"
      },
      "source": [
        "pprint.pprint(layer_config)"
      ],
      "execution_count": null,
      "outputs": [
        {
          "output_type": "stream",
          "text": [
            "{'activation': 'relu',\n",
            " 'activity_regularizer': None,\n",
            " 'bias_constraint': None,\n",
            " 'bias_initializer': {'class_name': 'Zeros', 'config': {}},\n",
            " 'bias_regularizer': None,\n",
            " 'dtype': 'float32',\n",
            " 'kernel_constraint': None,\n",
            " 'kernel_initializer': {'class_name': 'GlorotUniform',\n",
            "                        'config': {'seed': None}},\n",
            " 'kernel_regularizer': None,\n",
            " 'name': 'dense_43',\n",
            " 'trainable': True,\n",
            " 'units': 64,\n",
            " 'use_bias': True}\n"
          ],
          "name": "stdout"
        }
      ]
    },
    {
      "cell_type": "markdown",
      "metadata": {
        "id": "oncTodedJUvS"
      },
      "source": [
        "###2 Sequential Model"
      ]
    },
    {
      "cell_type": "code",
      "metadata": {
        "colab": {
          "base_uri": "https://localhost:8080/"
        },
        "id": "EAOuDI6fFRlq",
        "outputId": "d9c29b4f-8de8-4438-bacc-ca8e8d306b00"
      },
      "source": [
        "smodel = tf.keras.Sequential([tf.keras.layers.Dense(64)])\r\n",
        "smodel_config = smodel.get_config()\r\n",
        "smodelc = tf.keras.Sequential.from_config(smodel_config)\r\n",
        "smodelc"
      ],
      "execution_count": null,
      "outputs": [
        {
          "output_type": "execute_result",
          "data": {
            "text/plain": [
              "<tensorflow.python.keras.engine.sequential.Sequential at 0x7facc45efe48>"
            ]
          },
          "metadata": {
            "tags": []
          },
          "execution_count": 71
        }
      ]
    },
    {
      "cell_type": "code",
      "metadata": {
        "colab": {
          "base_uri": "https://localhost:8080/"
        },
        "id": "2AcFtrMhOSzy",
        "outputId": "bf93ee73-9e15-4f0b-b1dc-345fccb95e71"
      },
      "source": [
        "pprint.pprint(smodel_config)"
      ],
      "execution_count": null,
      "outputs": [
        {
          "output_type": "stream",
          "text": [
            "{'layers': [{'class_name': 'Dense',\n",
            "             'config': {'activation': 'linear',\n",
            "                        'activity_regularizer': None,\n",
            "                        'bias_constraint': None,\n",
            "                        'bias_initializer': {'class_name': 'Zeros',\n",
            "                                             'config': {}},\n",
            "                        'bias_regularizer': None,\n",
            "                        'dtype': 'float32',\n",
            "                        'kernel_constraint': None,\n",
            "                        'kernel_initializer': {'class_name': 'GlorotUniform',\n",
            "                                               'config': {'seed': None}},\n",
            "                        'kernel_regularizer': None,\n",
            "                        'name': 'dense_44',\n",
            "                        'trainable': True,\n",
            "                        'units': 64,\n",
            "                        'use_bias': True}}],\n",
            " 'name': 'sequential'}\n"
          ],
          "name": "stdout"
        }
      ]
    },
    {
      "cell_type": "markdown",
      "metadata": {
        "id": "grvZQLvzOrrL"
      },
      "source": [
        "###3. Funtional API"
      ]
    },
    {
      "cell_type": "code",
      "metadata": {
        "id": "98Syng_yOYlr"
      },
      "source": [
        "inputs = tf.keras.Input((32,))\r\n",
        "outputs = tf.keras.layers.Dense(64, activation=\"relu\")(inputs)\r\n",
        "fmodel = tf.keras.Model(inputs, outputs)\r\n",
        "fmodel_config = fmodel.get_config()\r\n",
        "fomdelc = tf.keras.Model.from_config(fmodel_config)"
      ],
      "execution_count": null,
      "outputs": []
    },
    {
      "cell_type": "code",
      "metadata": {
        "colab": {
          "base_uri": "https://localhost:8080/"
        },
        "id": "ymCqzHyMPJ1D",
        "outputId": "7225aa10-cb48-4d1f-a535-8d441a80e158"
      },
      "source": [
        "pprint.pprint(fmodel_config)"
      ],
      "execution_count": null,
      "outputs": [
        {
          "output_type": "stream",
          "text": [
            "{'input_layers': [['input_2', 0, 0]],\n",
            " 'layers': [{'class_name': 'InputLayer',\n",
            "             'config': {'batch_input_shape': (None, 32),\n",
            "                        'dtype': 'float32',\n",
            "                        'name': 'input_2',\n",
            "                        'ragged': False,\n",
            "                        'sparse': False},\n",
            "             'inbound_nodes': [],\n",
            "             'name': 'input_2'},\n",
            "            {'class_name': 'Dense',\n",
            "             'config': {'activation': 'relu',\n",
            "                        'activity_regularizer': None,\n",
            "                        'bias_constraint': None,\n",
            "                        'bias_initializer': {'class_name': 'Zeros',\n",
            "                                             'config': {}},\n",
            "                        'bias_regularizer': None,\n",
            "                        'dtype': 'float32',\n",
            "                        'kernel_constraint': None,\n",
            "                        'kernel_initializer': {'class_name': 'GlorotUniform',\n",
            "                                               'config': {'seed': None}},\n",
            "                        'kernel_regularizer': None,\n",
            "                        'name': 'dense_47',\n",
            "                        'trainable': True,\n",
            "                        'units': 64,\n",
            "                        'use_bias': True},\n",
            "             'inbound_nodes': [[['input_2', 0, 0, {}]]],\n",
            "             'name': 'dense_47'}],\n",
            " 'name': 'model_1',\n",
            " 'output_layers': [['dense_47', 0, 0]]}\n"
          ],
          "name": "stdout"
        }
      ]
    },
    {
      "cell_type": "markdown",
      "metadata": {
        "id": "O2ZywhVTSQnH"
      },
      "source": [
        "### Similary to *to_config()* *and from_config()* , we can use *get_json()* *and from_json()*"
      ]
    },
    {
      "cell_type": "code",
      "metadata": {
        "id": "fZCJQyc0PeCk"
      },
      "source": [
        "smodel1 = tf.keras.Sequential([tf.keras.layers.Dense(64)])\r\n",
        "smodel_json = smodel1.to_json()\r\n",
        "smodel1c = tf.keras.models.model_from_json(smodel_json)"
      ],
      "execution_count": null,
      "outputs": []
    },
    {
      "cell_type": "code",
      "metadata": {
        "colab": {
          "base_uri": "https://localhost:8080/"
        },
        "id": "e8C-y-_dTMVr",
        "outputId": "3902c55a-83c4-4fcd-d857-fbd6327bee2f"
      },
      "source": [
        "pprint.pprint(smodel_json)"
      ],
      "execution_count": null,
      "outputs": [
        {
          "output_type": "stream",
          "text": [
            "('{\"class_name\": \"Sequential\", \"config\": {\"name\": \"sequential_6\", \"layers\": '\n",
            " '[{\"class_name\": \"Dense\", \"config\": {\"name\": \"dense_51\", \"trainable\": true, '\n",
            " '\"dtype\": \"float32\", \"units\": 64, \"activation\": \"linear\", \"use_bias\": true, '\n",
            " '\"kernel_initializer\": {\"class_name\": \"GlorotUniform\", \"config\": {\"seed\": '\n",
            " 'null}}, \"bias_initializer\": {\"class_name\": \"Zeros\", \"config\": {}}, '\n",
            " '\"kernel_regularizer\": null, \"bias_regularizer\": null, '\n",
            " '\"activity_regularizer\": null, \"kernel_constraint\": null, \"bias_constraint\": '\n",
            " 'null}}]}, \"keras_version\": \"2.4.0\", \"backend\": \"tensorflow\"}')\n"
          ],
          "name": "stdout"
        }
      ]
    },
    {
      "cell_type": "markdown",
      "metadata": {
        "id": "z9q-GVHubEvo"
      },
      "source": [
        "###4. custom_layers()"
      ]
    },
    {
      "cell_type": "code",
      "metadata": {
        "id": "UwJU-JhabEaZ"
      },
      "source": [
        "class CustomLayer(tf.keras.layers.Layer):\r\n",
        "    def __init__(self, x):\r\n",
        "        self.x = tf.Variable(x)\r\n",
        "    def call(self, inputs):\r\n",
        "        return inputs * self.x\r\n",
        "    \r\n",
        "    def get_config(self):\r\n",
        "        return {\"x\": self.x.numpy()}\r\n",
        "    \r\n",
        "    @classmethod\r\n",
        "    def from_config(cls, config):\r\n",
        "        return cls(**config)"
      ],
      "execution_count": null,
      "outputs": []
    },
    {
      "cell_type": "markdown",
      "metadata": {
        "id": "ujvPWrBwfIND"
      },
      "source": [
        "### Serializing custom layers"
      ]
    },
    {
      "cell_type": "markdown",
      "metadata": {
        "id": "9L7jcW9MfW3b"
      },
      "source": [
        "####1. Serialize"
      ]
    },
    {
      "cell_type": "code",
      "metadata": {
        "colab": {
          "base_uri": "https://localhost:8080/"
        },
        "id": "04H69JK9TOEg",
        "outputId": "d56c4817-b242-4659-ce3c-ba5ad67b3b9a"
      },
      "source": [
        "layer = CustomLayer(5)\r\n",
        "serialized_layer = tf.keras.layers.serialize(layer)\r\n",
        "serialized_layer"
      ],
      "execution_count": null,
      "outputs": [
        {
          "output_type": "execute_result",
          "data": {
            "text/plain": [
              "{'class_name': 'CustomLayer', 'config': {'x': 5}}"
            ]
          },
          "metadata": {
            "tags": []
          },
          "execution_count": 97
        }
      ]
    },
    {
      "cell_type": "markdown",
      "metadata": {
        "id": "cW3rLoESfw1K"
      },
      "source": [
        "####2.deserialize"
      ]
    },
    {
      "cell_type": "code",
      "metadata": {
        "id": "T_qWY7_gfcWz"
      },
      "source": [
        "deserialized_layer = tf.keras.layers.deserialize(\r\n",
        "    serialized_layer, custom_objects={\"CustomLayer\": CustomLayer}\r\n",
        ")"
      ],
      "execution_count": null,
      "outputs": []
    },
    {
      "cell_type": "code",
      "metadata": {
        "colab": {
          "base_uri": "https://localhost:8080/"
        },
        "id": "PgYEEP08fuoX",
        "outputId": "e9f67d6e-3066-444c-d3e6-f9e6641c8d35"
      },
      "source": [
        "deserialized_layer"
      ],
      "execution_count": null,
      "outputs": [
        {
          "output_type": "execute_result",
          "data": {
            "text/plain": [
              "<__main__.CustomLayer at 0x7facc4444278>"
            ]
          },
          "metadata": {
            "tags": []
          },
          "execution_count": 101
        }
      ]
    },
    {
      "cell_type": "code",
      "metadata": {
        "colab": {
          "base_uri": "https://localhost:8080/"
        },
        "id": "XuCXzKyjipHR",
        "outputId": "ad70705c-40c7-460d-dd77-37e7f4d3d631"
      },
      "source": [
        "layer"
      ],
      "execution_count": null,
      "outputs": [
        {
          "output_type": "execute_result",
          "data": {
            "text/plain": [
              "<__main__.CustomLayer at 0x7facc4588e10>"
            ]
          },
          "metadata": {
            "tags": []
          },
          "execution_count": 102
        }
      ]
    },
    {
      "cell_type": "markdown",
      "metadata": {
        "id": "UGLP9g4UkvIs"
      },
      "source": [
        "## Custom layer and Function\r\n",
        "\r\n",
        "### *tf.keras.utils.custom_object_scope* and *tf.keras.utils.CustomObjectsScope*\r\n",
        "### *tf.keras.regester_keras_serializable*"
      ]
    },
    {
      "cell_type": "code",
      "metadata": {
        "id": "DMn8xhfNkucV"
      },
      "source": [
        "class CustomLayer(tf.keras.layers.Layer):\r\n",
        "    def __init__(self,units, **kwargs):\r\n",
        "        super(CustomLayer, self).__init__(**kwargs)\r\n",
        "        self.units = units\r\n",
        "    \r\n",
        "    def build(self, input_shape):\r\n",
        "        self.w = self.add_weight(shape=(input_shape[-1], self.units), initializer=\"random_normal\", trainable=True)\r\n",
        "        self.b = self.add_weight(shape=(self.units), initializer=\"zeros\", trainable=True)\r\n",
        "\r\n",
        "    def call(self, inputs):\r\n",
        "        return tf.matmul(inputs, self.w) + self.b\r\n",
        "    \r\n",
        "    def get_config(self):\r\n",
        "        config = super().get_config()\r\n",
        "        config.update({\"units\": self.units})\r\n",
        "        return config"
      ],
      "execution_count": null,
      "outputs": []
    },
    {
      "cell_type": "code",
      "metadata": {
        "id": "150sao6xi-ic"
      },
      "source": [
        "def CustomActivation(inputs):\r\n",
        "    return tf.nn.relu(inputs)\r\n"
      ],
      "execution_count": null,
      "outputs": []
    },
    {
      "cell_type": "code",
      "metadata": {
        "id": "8m-17xvfopy1"
      },
      "source": [
        "inputs = tf.keras.Input((32,))\r\n",
        "x = CustomLayer(32)(inputs)\r\n",
        "outputs = tf.keras.layers.Activation(CustomActivation)(x)\r\n",
        "model = tf.keras.Model(inputs, outputs)"
      ],
      "execution_count": null,
      "outputs": []
    },
    {
      "cell_type": "code",
      "metadata": {
        "id": "L31g4lhQqTM5"
      },
      "source": [
        "custom_object = {\"CustomLayer\": CustomLayer,  \"CustomActivation\": CustomActivaion}\r\n",
        "with tf.keras.utils.custom_object_scope(custom_object):\r\n",
        "    new_model = tf.keras.Model.from_config(model.get_config())"
      ],
      "execution_count": null,
      "outputs": []
    },
    {
      "cell_type": "markdown",
      "metadata": {
        "id": "RO-wAydmtLUV"
      },
      "source": [
        "### also you can do memory clonning"
      ]
    },
    {
      "cell_type": "code",
      "metadata": {
        "id": "0cXtWSe9q3Fl"
      },
      "source": [
        "with tf.keras.utils.custom_object_scope(custom_object):\r\n",
        "    new_model1 = tf.keras.models.clone_model(model)"
      ],
      "execution_count": null,
      "outputs": []
    },
    {
      "cell_type": "code",
      "metadata": {
        "colab": {
          "base_uri": "https://localhost:8080/"
        },
        "id": "vfjy_FPltdGW",
        "outputId": "d0409f90-5498-4553-b03c-24198f9ddbbd"
      },
      "source": [
        "new_model"
      ],
      "execution_count": null,
      "outputs": [
        {
          "output_type": "execute_result",
          "data": {
            "text/plain": [
              "<tensorflow.python.keras.engine.functional.Functional at 0x7facc48e5ac8>"
            ]
          },
          "metadata": {
            "tags": []
          },
          "execution_count": 144
        }
      ]
    },
    {
      "cell_type": "code",
      "metadata": {
        "id": "_C-H1_kYtwXH",
        "colab": {
          "base_uri": "https://localhost:8080/"
        },
        "outputId": "c4231c59-54e7-4768-c84d-11c7450c5038"
      },
      "source": [
        "new_model1"
      ],
      "execution_count": null,
      "outputs": [
        {
          "output_type": "execute_result",
          "data": {
            "text/plain": [
              "<tensorflow.python.keras.engine.functional.Functional at 0x7facc4823908>"
            ]
          },
          "metadata": {
            "tags": []
          },
          "execution_count": 145
        }
      ]
    },
    {
      "cell_type": "markdown",
      "metadata": {
        "id": "u_VclCWsRkVB"
      },
      "source": [
        "## Saving and Loading only weights of model"
      ]
    },
    {
      "cell_type": "markdown",
      "metadata": {
        "id": "rOY0AdJESjY3"
      },
      "source": [
        "### We choose this step when:\r\n",
        "####1. You only need model for inference; not compilation information and optimizer state\r\n",
        "####2. You are doing transfere learning: training of model using weights of prebuilt model"
      ]
    },
    {
      "cell_type": "markdown",
      "metadata": {
        "id": "2nZScS_VTugr"
      },
      "source": [
        "### Saving loading weight API\r\n",
        "####1. *get_weight()*\r\n",
        "####2. *set_weight()*"
      ]
    },
    {
      "cell_type": "markdown",
      "metadata": {
        "id": "I5SYk3NCUK1W"
      },
      "source": [
        "## Transferring Weights from:"
      ]
    },
    {
      "cell_type": "markdown",
      "metadata": {
        "id": "pVYmjAc3UkVh"
      },
      "source": [
        "###1. Layers to Layer\r\n",
        "\r\n"
      ]
    },
    {
      "cell_type": "code",
      "metadata": {
        "id": "MSThIzOBRjEP"
      },
      "source": [
        "layer = tf.keras.layers.Dense(64, activation=\"relu\")\r\n"
      ],
      "execution_count": null,
      "outputs": []
    },
    {
      "cell_type": "code",
      "metadata": {
        "id": "NKqc1TRvtypf"
      },
      "source": [
        ""
      ],
      "execution_count": null,
      "outputs": []
    }
  ]
}