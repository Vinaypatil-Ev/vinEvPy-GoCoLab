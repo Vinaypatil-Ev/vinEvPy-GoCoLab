{
  "nbformat": 4,
  "nbformat_minor": 0,
  "metadata": {
    "colab": {
      "name": "TensorflowPrac10.ipynb",
      "provenance": [],
      "collapsed_sections": [],
      "authorship_tag": "ABX9TyOygFDpgOqQFkaxirvlXvtn",
      "include_colab_link": true
    },
    "kernelspec": {
      "name": "python3",
      "display_name": "Python 3"
    }
  },
  "cells": [
    {
      "cell_type": "markdown",
      "metadata": {
        "id": "view-in-github",
        "colab_type": "text"
      },
      "source": [
        "<a href=\"https://colab.research.google.com/github/Vinaypatil-Ev/vinEvPy-GoCoLab/blob/main/Tensorflow/TensorflowPrac10.ipynb\" target=\"_parent\"><img src=\"https://colab.research.google.com/assets/colab-badge.svg\" alt=\"Open In Colab\"/></a>"
      ]
    },
    {
      "cell_type": "code",
      "metadata": {
        "id": "e0_C8UOcABAq"
      },
      "source": [
        "import tensorflow as tf"
      ],
      "execution_count": null,
      "outputs": []
    },
    {
      "cell_type": "code",
      "metadata": {
        "colab": {
          "base_uri": "https://localhost:8080/"
        },
        "id": "IAoYfpYuAOCK",
        "outputId": "ea7830bd-6313-4de8-d6de-debc7c52dfd1"
      },
      "source": [
        "tf.config.list_physical_devices()"
      ],
      "execution_count": null,
      "outputs": [
        {
          "output_type": "execute_result",
          "data": {
            "text/plain": [
              "[PhysicalDevice(name='/physical_device:CPU:0', device_type='CPU'),\n",
              " PhysicalDevice(name='/physical_device:GPU:0', device_type='GPU')]"
            ]
          },
          "metadata": {
            "tags": []
          },
          "execution_count": 2
        }
      ]
    },
    {
      "cell_type": "code",
      "metadata": {
        "id": "kj3YzT0uAToY"
      },
      "source": [
        "# tf.debugging.set_log_device_placement(True)\r\n"
      ],
      "execution_count": null,
      "outputs": []
    },
    {
      "cell_type": "code",
      "metadata": {
        "id": "gxd4FTaGAhBb"
      },
      "source": [
        "# x = tf.constant([[1, 3, 4], [3, 5, 6], [3, 5, 5]])\r\n",
        "# y = tf.constant([[5, 5, 6], [1, 3, 1]])\r\n",
        "# x = x.gpu()\r\n",
        "# y = y.gpu()\r\n",
        "# tf.matmul(y, x)"
      ],
      "execution_count": null,
      "outputs": []
    },
    {
      "cell_type": "code",
      "metadata": {
        "id": "KG-zenT0nPJL"
      },
      "source": [
        "# tf.config.set_soft_device_placement(True)"
      ],
      "execution_count": null,
      "outputs": []
    },
    {
      "cell_type": "code",
      "metadata": {
        "id": "h3gdL063CU2b"
      },
      "source": [
        "# with tf.device(\"/device:GPU:0\"):\r\n",
        "#   xx = tf.constant([[1, 3, 4], [3, 5, 6], [3, 5, 5]])\r\n",
        "#   yx = tf.constant([[5, 5, 6], [1, 3, 1]])\r\n",
        "# tf.matmul(yx, xx)"
      ],
      "execution_count": null,
      "outputs": []
    },
    {
      "cell_type": "code",
      "metadata": {
        "colab": {
          "base_uri": "https://localhost:8080/"
        },
        "id": "HbOrv4xN3q-W",
        "outputId": "86494f60-ae46-4199-b3a9-1ff219b76e19"
      },
      "source": [
        "gpu = tf.config.list_physical_devices(\"GPU\")\r\n",
        "gpu"
      ],
      "execution_count": null,
      "outputs": [
        {
          "output_type": "execute_result",
          "data": {
            "text/plain": [
              "[PhysicalDevice(name='/physical_device:GPU:0', device_type='GPU')]"
            ]
          },
          "metadata": {
            "tags": []
          },
          "execution_count": 7
        }
      ]
    },
    {
      "cell_type": "code",
      "metadata": {
        "id": "528E97Jzsjcl"
      },
      "source": [
        "tf.config.experimental.set_virtual_device_configuration(\r\n",
        "        gpu[0],\r\n",
        "        [tf.config.experimental.VirtualDeviceConfiguration(memory_limit=1024),\r\n",
        "         tf.config.experimental.VirtualDeviceConfiguration(memory_limit=1024),\r\n",
        "        tf.config.experimental.VirtualDeviceConfiguration(memory_limit=1024),\r\n",
        "         tf.config.experimental.VirtualDeviceConfiguration(memory_limit=1024)\r\n",
        "         ])"
      ],
      "execution_count": null,
      "outputs": []
    },
    {
      "cell_type": "code",
      "metadata": {
        "id": "G7MHQtJXsiaC"
      },
      "source": [
        "logical_gpu = tf.config.list_logical_devices(\"GPU\")"
      ],
      "execution_count": null,
      "outputs": []
    },
    {
      "cell_type": "code",
      "metadata": {
        "colab": {
          "base_uri": "https://localhost:8080/"
        },
        "id": "puGbFxrb6Q8c",
        "outputId": "be9f540a-a68e-443c-9499-d8199ed23226"
      },
      "source": [
        "logical_gpu"
      ],
      "execution_count": null,
      "outputs": [
        {
          "output_type": "execute_result",
          "data": {
            "text/plain": [
              "[LogicalDevice(name='/device:GPU:0', device_type='GPU'),\n",
              " LogicalDevice(name='/device:GPU:1', device_type='GPU'),\n",
              " LogicalDevice(name='/device:GPU:2', device_type='GPU'),\n",
              " LogicalDevice(name='/device:GPU:3', device_type='GPU')]"
            ]
          },
          "metadata": {
            "tags": []
          },
          "execution_count": 10
        }
      ]
    },
    {
      "cell_type": "code",
      "metadata": {
        "id": "T-HCKleDslCK"
      },
      "source": [
        "tf.debugging.set_log_device_placement(True)\r\n",
        "\r\n",
        "strategy = tf.distribute.MirroredStrategy(cross_device_ops=tf.distribute.HierarchicalCopyAllReduce())\r\n",
        "with strategy.scope():\r\n",
        "  inputs = tf.keras.layers.Input(shape=(1,))\r\n",
        "  predictions = tf.keras.layers.Dense(1)(inputs)\r\n",
        "  model = tf.keras.models.Model(inputs=inputs, outputs=predictions)\r\n",
        "  model.compile(loss='mse',\r\n",
        "                optimizer=tf.keras.optimizers.SGD(learning_rate=0.2))"
      ],
      "execution_count": null,
      "outputs": []
    },
    {
      "cell_type": "code",
      "metadata": {
        "id": "Ah-_LOGqTusK"
      },
      "source": [
        "gpu = tf.config.list_physical_devices(\"GPU\")\r\n",
        "if gpu:\r\n",
        "  print(\"using GPU for computation \\n\\n\")\r\n",
        "  tf.debugging.set_log_device_placement(True)\r\n",
        "  tf.config.experimental.set_memory_growth(physical_devices[0], True)\r\n",
        "  tf.config.experimental.set_virtual_device_configuration(\r\n",
        "        gpu[0],\r\n",
        "        [tf.config.experimental.VirtualDeviceConfiguration(memory_limit=1024),\r\n",
        "         tf.config.experimental.VirtualDeviceConfiguration(memory_limit=1024),\r\n",
        "        tf.config.experimental.VirtualDeviceConfiguration(memory_limit=1024),\r\n",
        "         tf.config.experimental.VirtualDeviceConfiguration(memory_limit=1024)\r\n",
        "         ])\r\n",
        "  strategy = tf.distribute.MirroredStrategy(cross_device_ops=tf.distribute.HierarchicalCopyAllReduce())\r\n",
        "else:\r\n",
        "  print(\"using CPU for computation \\n\\n\")\r\n",
        "  strategy = tf.distribute.get_strategy()\r\n",
        "with strategy.scope():\r\n",
        "    model = tf.keras.Sequential([tf.keras.layers.Dense(1, input_shape=(1, ))])\r\n",
        "\r\n",
        "model.compile(loss=\"mse\", optimizer=\"sgd\")\r\n",
        "\r\n",
        "dataset = tf.data.Dataset.from_tensors(([1.], [1.])).repeat(1000).batch(1000)\r\n",
        "\r\n",
        "model.fit(dataset, epochs=2)"
      ],
      "execution_count": null,
      "outputs": []
    }
  ]
}