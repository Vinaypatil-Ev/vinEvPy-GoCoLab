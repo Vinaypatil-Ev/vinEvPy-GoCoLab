{
  "nbformat": 4,
  "nbformat_minor": 0,
  "metadata": {
    "colab": {
      "name": "TensorflowPrac18_customize_modedl.fit().ipynb",
      "provenance": [],
      "collapsed_sections": [],
      "authorship_tag": "ABX9TyMcv9rvvmulytyKQgz3MP2V",
      "include_colab_link": true
    },
    "kernelspec": {
      "name": "python3",
      "display_name": "Python 3"
    }
  },
  "cells": [
    {
      "cell_type": "markdown",
      "metadata": {
        "id": "view-in-github",
        "colab_type": "text"
      },
      "source": [
        "<a href=\"https://colab.research.google.com/github/Vinaypatil-Ev/vinEvPy-GoCoLab/blob/main/Tensorflow/TensorflowPrac18_customize_modedl_fit().ipynb\" target=\"_parent\"><img src=\"https://colab.research.google.com/assets/colab-badge.svg\" alt=\"Open In Colab\"/></a>"
      ]
    },
    {
      "cell_type": "code",
      "metadata": {
        "id": "JQNRhcSvJs6m"
      },
      "source": [
        "import tensorflow as tf\r\n",
        "import numpy as np"
      ],
      "execution_count": null,
      "outputs": []
    },
    {
      "cell_type": "markdown",
      "metadata": {
        "id": "XjO4E63oSJQX"
      },
      "source": [
        "## Customize model.fit"
      ]
    },
    {
      "cell_type": "code",
      "metadata": {
        "id": "PHzmBePUSI3X"
      },
      "source": [
        "class CustomModel(tf.keras.Model):\r\n",
        "    def train_step(self, data):\r\n",
        "        x, y = data\r\n",
        "\r\n",
        "        with tf.GradientTape() as tape:\r\n",
        "            ypred = self(x, training=True)\r\n",
        "\r\n",
        "            loss = self.compiled_loss(y, ypred, regularization_losses=self.losses)\r\n",
        "        \r\n",
        "        grad = tape.gradient(loss, self.trainable_variables)\r\n",
        "\r\n",
        "        self.optimizer.apply_gradients(zip(grad, self.trainable_variables))\r\n",
        "\r\n",
        "        self.compiled_metrics.update_state(y, ypred)\r\n",
        "\r\n",
        "        return {m.name: m.result() for m in self.metrics}"
      ],
      "execution_count": null,
      "outputs": []
    },
    {
      "cell_type": "code",
      "metadata": {
        "id": "WK0nCq_bSDO6"
      },
      "source": [
        "inputs = tf.keras.Input((100))\r\n",
        "x = tf.keras.layers.Dense(64, activation=\"relu\")(inputs)\r\n",
        "outputs = tf.keras.layers.Dense(1, activation='softmax')(x)\r\n",
        "model = CustomModel(inputs, outputs)\r\n",
        "model.compile(\"adam\", \"mse\", metrics=[\"mae\"])"
      ],
      "execution_count": null,
      "outputs": []
    },
    {
      "cell_type": "code",
      "metadata": {
        "id": "9HrDHpYoUvBX"
      },
      "source": [
        "x = tf.random.normal((1, 100))\r\n",
        "y = tf.random.normal((1, 1))"
      ],
      "execution_count": null,
      "outputs": []
    },
    {
      "cell_type": "code",
      "metadata": {
        "colab": {
          "base_uri": "https://localhost:8080/"
        },
        "id": "Tx_OwhJoVDfS",
        "outputId": "24f1582f-5990-4d72-9904-7e1cb8bdf112"
      },
      "source": [
        "model.fit(x, y, epochs=10)"
      ],
      "execution_count": null,
      "outputs": [
        {
          "output_type": "stream",
          "text": [
            "Epoch 1/10\n",
            "1/1 [==============================] - 0s 2ms/step - loss: 0.8169 - mae: 0.9038\n",
            "Epoch 2/10\n",
            "1/1 [==============================] - 0s 4ms/step - loss: 0.8169 - mae: 0.9038\n",
            "Epoch 3/10\n",
            "1/1 [==============================] - 0s 2ms/step - loss: 0.8169 - mae: 0.9038\n",
            "Epoch 4/10\n",
            "1/1 [==============================] - 0s 2ms/step - loss: 0.8169 - mae: 0.9038\n",
            "Epoch 5/10\n",
            "1/1 [==============================] - 0s 2ms/step - loss: 0.8169 - mae: 0.9038\n",
            "Epoch 6/10\n",
            "1/1 [==============================] - 0s 2ms/step - loss: 0.8169 - mae: 0.9038\n",
            "Epoch 7/10\n",
            "1/1 [==============================] - 0s 4ms/step - loss: 0.8169 - mae: 0.9038\n",
            "Epoch 8/10\n",
            "1/1 [==============================] - 0s 2ms/step - loss: 0.8169 - mae: 0.9038\n",
            "Epoch 9/10\n",
            "1/1 [==============================] - 0s 1ms/step - loss: 0.8169 - mae: 0.9038\n",
            "Epoch 10/10\n",
            "1/1 [==============================] - 0s 3ms/step - loss: 0.8169 - mae: 0.9038\n"
          ],
          "name": "stdout"
        },
        {
          "output_type": "execute_result",
          "data": {
            "text/plain": [
              "<tensorflow.python.keras.callbacks.History at 0x1edff873730>"
            ]
          },
          "metadata": {
            "tags": []
          },
          "execution_count": 20
        }
      ]
    },
    {
      "cell_type": "markdown",
      "metadata": {
        "id": "geupWkcGZfcz"
      },
      "source": [
        "## Customize compile()"
      ]
    },
    {
      "cell_type": "code",
      "metadata": {
        "id": "hGH2DAO9VDzh"
      },
      "source": [
        "msem = tf.keras.metrics.MeanAbsoluteError(name=\"mse\")\r\n",
        "lossm = tf.keras.metrics.Mean(name=\"loss\")\r\n",
        "class CustomCompile(tf.keras.Model):\r\n",
        "    def train_step(self, data):\r\n",
        "        x, y = data\r\n",
        "\r\n",
        "        with tf.GradientTape() as tape:\r\n",
        "            ypred = self(x, training=True)\r\n",
        "            loss = tf.keras.losses.mean_squared_error(y, ypred)\r\n",
        "        \r\n",
        "        grad = tape.gradient(loss, self.trainable_variables)\r\n",
        "\r\n",
        "        self.optimizer.apply_gradients(zip(grad, self.trainable_variables))\r\n",
        "        \r\n",
        "        lossm.update_state(loss)\r\n",
        "\r\n",
        "        msem.update_state(y, ypred)\r\n",
        "\r\n",
        "\r\n",
        "        return {\"loss\": msem.result(), \"mse\": lossm.result()}\r\n",
        "\r\n",
        "    @property\r\n",
        "    def metrics(self):\r\n",
        "        return [lossm, msem]"
      ],
      "execution_count": null,
      "outputs": []
    },
    {
      "cell_type": "code",
      "metadata": {
        "id": "dw76yjKhVE7w"
      },
      "source": [
        "inputs = tf.keras.Input((32, ))\r\n",
        "outputs = tf.keras.layers.Dense(1, activation=\"relu\")(inputs)\r\n",
        "model = CustomCompile(inputs, outputs)\r\n",
        "model.compile(\"adam\")"
      ],
      "execution_count": null,
      "outputs": []
    },
    {
      "cell_type": "code",
      "metadata": {
        "colab": {
          "base_uri": "https://localhost:8080/"
        },
        "id": "20zew_AUgjqz",
        "outputId": "849e9473-6ef5-46b9-bb16-2cf96fd531f9"
      },
      "source": [
        "x = tf.random.uniform((100, 32))\r\n",
        "y = tf.random.normal((100, 1))\r\n",
        "model.fit(x, y, epochs=5)"
      ],
      "execution_count": null,
      "outputs": [
        {
          "output_type": "stream",
          "text": [
            "Epoch 1/5\n",
            "4/4 [==============================] - 0s 4ms/step - loss: 0.8616 - mse: 1.0883\n",
            "Epoch 2/5\n",
            "4/4 [==============================] - 0s 3ms/step - loss: 0.8613 - mse: 1.0874\n",
            "Epoch 3/5\n",
            "4/4 [==============================] - 0s 4ms/step - loss: 0.8609 - mse: 1.0868\n",
            "Epoch 4/5\n",
            "4/4 [==============================] - 0s 4ms/step - loss: 0.8607 - mse: 1.0863\n",
            "Epoch 5/5\n",
            "4/4 [==============================] - 0s 4ms/step - loss: 0.8604 - mse: 1.0858\n"
          ],
          "name": "stdout"
        },
        {
          "output_type": "execute_result",
          "data": {
            "text/plain": [
              "<tensorflow.python.keras.callbacks.History at 0x1ed19d719d0>"
            ]
          },
          "metadata": {
            "tags": []
          },
          "execution_count": 23
        }
      ]
    },
    {
      "cell_type": "markdown",
      "metadata": {
        "id": "seqqR9ODkjML"
      },
      "source": [
        "# GAN"
      ]
    },
    {
      "cell_type": "code",
      "metadata": {
        "id": "s1JceO-0hA0d"
      },
      "source": [
        "descriminator = tf.keras.Sequential([\r\n",
        "    tf.keras.Input((28, 28, 1)),\r\n",
        "    tf.keras.layers.Conv2D(64, 3, strides=(2, 2), padding=\"same\"),\r\n",
        "    tf.keras.layers.LeakyReLU(alpha=0.2),\r\n",
        "    tf.keras.layers.Conv2D(128, 3, strides=(2, 2), padding=\"same\"),\r\n",
        "    tf.keras.layers.LeakyReLU(alpha=0.2),\r\n",
        "    tf.keras.layers.GlobalMaxPooling2D(),\r\n",
        "    tf.keras.layers.Dense(1)\r\n",
        "])\r\n"
      ],
      "execution_count": null,
      "outputs": []
    },
    {
      "cell_type": "code",
      "metadata": {
        "id": "sbnuBLc_oFdd"
      },
      "source": [
        "latent_dim = 128\r\n",
        "\r\n",
        "generator = tf.keras.Sequential([\r\n",
        "    tf.keras.Input(latent_dim),\r\n",
        "    tf.keras.layers.Dense(7 *  7 * 128),\r\n",
        "    tf.keras.layers.LeakyReLU(alpha=0.2),\r\n",
        "    tf.keras.layers.Reshape((7, 7, 128)),\r\n",
        "    tf.keras.layers.Conv2DTranspose(128, (4, 4), strides=(2, 2), padding=\"same\"),\r\n",
        "    tf.keras.layers.LeakyReLU(alpha=0.2),\r\n",
        "    tf.keras.layers.Conv2DTranspose(128, (4, 4), strides=(2, 2), padding=\"same\"),\r\n",
        "    tf.keras.layers.LeakyReLU(alpha=0.2),\r\n",
        "    tf.keras.layers.Conv2D(1, (7, 7), padding=\"same\", activation=\"sigmoid\")\r\n",
        "])"
      ],
      "execution_count": null,
      "outputs": []
    },
    {
      "cell_type": "code",
      "metadata": {
        "id": "4tRz2-GVrAIM"
      },
      "source": [
        "class GAN(tf.keras.Model):\r\n",
        "    def __init__(self, descriminator, generator, latent_dim):\r\n",
        "        super(GAN, self).__init__()\r\n",
        "        self.descriminator = descriminator\r\n",
        "        self.generator = generator\r\n",
        "        self.latent_dim = latent_dim\r\n",
        "\r\n",
        "    def compile(self, d_optimizer, g_optimizer, loss_fn):\r\n",
        "        super(GAN, self).compile()\r\n",
        "        self.d_otimizer = d_optimizer\r\n",
        "        self.g_optimizer = g_optimizer\r\n",
        "        self.loss_fn = loss_fn\r\n",
        "    \r\n",
        "    def train_step(self, real_img):\r\n",
        "        if isinstance(real_img, tuple):\r\n",
        "            real_img = real_img[0]\r\n",
        "        \r\n",
        "        batch_size = tf.shape(real_img)[0]\r\n",
        "        random_latent_vector = tf.random.normal(shape=(batch_size, self.latent_dim))\r\n",
        "        generated_img = self.generator(random_latent_vector)\r\n",
        "        combined_img = tf.concat([real_img, generated_img], axis=0)\r\n",
        "        label = tf.concat([\r\n",
        "                           tf.ones((batch_size, 1)),\r\n",
        "                           tf.zeros((batch_size, 2))\r\n",
        "                           ], axis=0)\r\n",
        "        label = label + 0.5 * tf.random.uniform(tf.shape(label))\r\n",
        "\r\n",
        "        with tf.GradientTape() as d_tape:\r\n",
        "            d_pred = self.descriminator(combined_img)\r\n",
        "            d_loss = self.loss_fn(label, d_pred)\r\n",
        "\r\n",
        "        d_grad = d_tape.gradient(d_loss, self.descriminator.trainable_weights)\r\n",
        "        self.d_optimizer.apply_gradient(zip(d_grad, self.descriminator.trainable_weights))\r\n",
        "\r\n",
        "        random_latent_vector = tf.random.normal(shape=(batch_size, self.latent_dim))\r\n",
        "        false_labels = tf.ones((batch_size, 1))\r\n",
        "\r\n",
        "        with tf.GradientTape() as g_tape:\r\n",
        "            g_pred = self.generator(self.descriminator(random_latent_vector))\r\n",
        "            g_loss = self.loss_fn(false_labels, g_pred)\r\n",
        "        \r\n",
        "        g_grad = g_tape.gradient(g_loss, self.generator.trainable_weights)\r\n",
        "        self.g_otimizer.apply_gradients(zip(g_grad, self.trainable_weights))\r\n",
        "\r\n",
        "        return {\"d_loss\": d_loss, \"g_loss\": g_loss}\r\n",
        "\r\n",
        "\r\n"
      ],
      "execution_count": null,
      "outputs": []
    },
    {
      "cell_type": "code",
      "metadata": {
        "id": "pl2iej8MQkGv"
      },
      "source": [
        "batch_size = 64\r\n",
        "(x_trn, _), (x_tst, _) = tf.keras.datasets.mnist.load_data()\r\n",
        "x = np.concatenate([x_trn, x_tst])\r\n",
        "x = x.astype(\"float32\") / 255.0\r\n",
        "x = np.reshape(x, (-1, 28, 28, 1))\r\n",
        "data = tf.data.Dataset.from_tensor_slices(x)\r\n",
        "data = data.shuffle(buffer_size=1024).batch(batch_size)"
      ],
      "execution_count": null,
      "outputs": []
    },
    {
      "cell_type": "code",
      "metadata": {
        "id": "yy4kumIoUfye"
      },
      "source": [
        "gan = GAN(descriminator, generator, latent_dim)\r\n",
        "gan.compile(\r\n",
        "    tf.keras.optimizers.Adam(learning_rate=0.0003),\r\n",
        "    tf.keras.optimizers.Adam(learning_rate=0.0003),\r\n",
        "    loss_fn = tf.keras.losses.BinaryCrossentropy(from_logits=True)\r\n",
        ")"
      ],
      "execution_count": null,
      "outputs": []
    },
    {
      "cell_type": "code",
      "metadata": {
        "id": "e1VVn21DVHrI"
      },
      "source": [
        "gan.fit(data.take(100), epochs=1)"
      ],
      "execution_count": null,
      "outputs": []
    },
    {
      "cell_type": "code",
      "metadata": {
        "id": "TBdHcsS_Y7n-"
      },
      "source": [
        ""
      ],
      "execution_count": null,
      "outputs": []
    },
    {
      "cell_type": "code",
      "metadata": {
        "id": "FworczEyjQbZ"
      },
      "source": [
        "descriminator = tf.keras.Sequential([\r\n",
        "    tf.keras.Input((28, 28, 1)),\r\n",
        "    tf.keras.layers.Conv2D(64, 3, strides=(2, 2), padding=\"same\"),\r\n",
        "    tf.keras.layers.LeakyReLU(alpha=0.2),\r\n",
        "    tf.keras.layers.Conv2D(128, 3, strides=(2, 2), padding=\"same\"),\r\n",
        "    tf.keras.layers.LeakyReLU(alpha=0.2),\r\n",
        "    tf.keras.layers.GlobalMaxPooling2D(),\r\n",
        "    tf.keras.layers.Dense(1)\r\n",
        "])"
      ],
      "execution_count": null,
      "outputs": []
    },
    {
      "cell_type": "code",
      "metadata": {
        "id": "C274rjShjRIT"
      },
      "source": [
        "latent_dim = 128\r\n",
        "\r\n",
        "generator = tf.keras.Sequential([\r\n",
        "    tf.keras.Input(shape=(latent_dim,)),\r\n",
        "    tf.keras.layers.Dense(7 *  7 * 128),\r\n",
        "    tf.keras.layers.LeakyReLU(alpha=0.2),\r\n",
        "    tf.keras.layers.Reshape((7, 7, 128)),\r\n",
        "    tf.keras.layers.Conv2DTranspose(128, (4, 4), strides=(2, 2), padding=\"same\"),\r\n",
        "    tf.keras.layers.LeakyReLU(alpha=0.2),\r\n",
        "    tf.keras.layers.Conv2DTranspose(128, (4, 4), strides=(2, 2), padding=\"same\"),\r\n",
        "    tf.keras.layers.LeakyReLU(alpha=0.2),\r\n",
        "    tf.keras.layers.Conv2D(1, (7, 7), padding=\"same\", activation=\"sigmoid\")\r\n",
        "])"
      ],
      "execution_count": null,
      "outputs": []
    },
    {
      "cell_type": "code",
      "metadata": {
        "id": "fEs2BMswju-D"
      },
      "source": [
        "inputs = tf.keras.Input((28, 28, 1))\r\n",
        "x = generator(inputs)\r\n",
        "outputs = descriminator(x)\r\n",
        "model = tf.keras.Model(inputs, outputs)"
      ],
      "execution_count": null,
      "outputs": []
    },
    {
      "cell_type": "code",
      "metadata": {
        "id": "lfzMEHoXyhOy"
      },
      "source": [
        "# tf.keras.utils.plot_model(descriminator, show_shapes=True)"
      ],
      "execution_count": null,
      "outputs": []
    },
    {
      "cell_type": "code",
      "metadata": {
        "id": "yQCM6lxVkjTX"
      },
      "source": [
        "# tf.keras.utils.plot_model(generator, show_shapes=True)"
      ],
      "execution_count": null,
      "outputs": []
    },
    {
      "cell_type": "code",
      "metadata": {
        "id": "0xE6hjrTzXEi"
      },
      "source": [
        ""
      ],
      "execution_count": null,
      "outputs": []
    }
  ]
}