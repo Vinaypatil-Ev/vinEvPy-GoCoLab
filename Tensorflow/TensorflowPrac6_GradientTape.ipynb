{
  "nbformat": 4,
  "nbformat_minor": 0,
  "metadata": {
    "colab": {
      "name": "TensorflowPrac6_GradientTape.ipynb",
      "provenance": [],
      "collapsed_sections": [],
      "authorship_tag": "ABX9TyOP4j/TP2nk2NiiGlq/ZBdi",
      "include_colab_link": true
    },
    "kernelspec": {
      "display_name": "Python 3",
      "name": "python3"
    }
  },
  "cells": [
    {
      "cell_type": "markdown",
      "metadata": {
        "id": "view-in-github",
        "colab_type": "text"
      },
      "source": [
        "<a href=\"https://colab.research.google.com/github/Vinaypatil-Ev/vinEvPy-GoCoLab/blob/main/Tensorflow/TensorflowPrac6_GradientTape.ipynb\" target=\"_parent\"><img src=\"https://colab.research.google.com/assets/colab-badge.svg\" alt=\"Open In Colab\"/></a>"
      ]
    },
    {
      "cell_type": "code",
      "metadata": {
        "id": "oV4IASjvnGdW"
      },
      "source": [
        "import tensorflow as tf"
      ],
      "execution_count": null,
      "outputs": []
    },
    {
      "cell_type": "markdown",
      "metadata": {
        "id": "Onq2OSOB34LW"
      },
      "source": [
        "## Gradient Tape in tensorflow\r\n",
        "\r\n",
        "### Gradients and automatic differntiation\r\n",
        "\r\n",
        "### automatic differentiation is useful in algorithsm like *backpropogation* for trining neural networks"
      ]
    },
    {
      "cell_type": "markdown",
      "metadata": {
        "id": "9_TFK4Gt5Cqk"
      },
      "source": [
        "## *tf.GradientTape*"
      ]
    },
    {
      "cell_type": "code",
      "metadata": {
        "colab": {
          "base_uri": "https://localhost:8080/"
        },
        "id": "AdXzb7om37Zl",
        "outputId": "22af064f-34c4-4b8c-bca1-d3d40e5fde66"
      },
      "source": [
        "# y = x ** 2\r\n",
        "# at x = 3.0, dy/dx = 2x = 6\r\n",
        "\r\n",
        "x = tf.Variable(3.0)\r\n",
        "\r\n",
        "with tf.GradientTape() as tape:\r\n",
        "  y = x ** 2\r\n",
        "\r\n",
        "tape.gradient(y, x).numpy()"
      ],
      "execution_count": null,
      "outputs": [
        {
          "output_type": "execute_result",
          "data": {
            "text/plain": [
              "6.0"
            ]
          },
          "metadata": {
            "tags": []
          },
          "execution_count": 10
        }
      ]
    },
    {
      "cell_type": "markdown",
      "metadata": {
        "id": "54aoSyhuu6Wp"
      },
      "source": [
        "### 1. Variable should be trainable\r\n",
        "### 2. If it is only tensor or variable with false trainable fails to calculate gradient\r\n",
        "\r\n",
        "## 3. Variable (trainable)\r\n",
        "### *tf.Variable(3.0)*\r\n",
        "## 4. Variable (not trainable)\r\n",
        "### *tf.Variable(3.0, trainable=False)*\r\n",
        "## 5. Variable + tensor = tensor (not trainable) \r\n",
        "### *tf.Variable(3.0) + 1.0*\r\n",
        "## 6. Constant (not a variable and trainable)\r\n",
        "### *tf.constant(3.0)*"
      ]
    },
    {
      "cell_type": "code",
      "metadata": {
        "colab": {
          "base_uri": "https://localhost:8080/"
        },
        "id": "hylYy8Oxu4yj",
        "outputId": "6922be9e-5b3f-432a-f8ba-a82e747c2a10"
      },
      "source": [
        "x = tf.constant(3.0)\r\n",
        "\r\n",
        "with tf.GradientTape() as tape1:\r\n",
        "  y = x ** 2\r\n",
        "\r\n",
        "print(tape1.gradient(y, x)) ## fails to calculate gradient\r\n",
        "\r\n",
        "with tf.GradientTape() as tape2:\r\n",
        "  tape2.watch(x)\r\n",
        "  y = x ** 2\r\n",
        "\r\n",
        "print(tape2.gradient(y, x))"
      ],
      "execution_count": null,
      "outputs": [
        {
          "output_type": "stream",
          "text": [
            "None\n",
            "tf.Tensor(6.0, shape=(), dtype=float32)\n"
          ],
          "name": "stdout"
        }
      ]
    },
    {
      "cell_type": "markdown",
      "metadata": {
        "id": "XFpbiXAqzix1"
      },
      "source": [
        "### Stop default behaviour of watching behaviour of Varible using \r\n",
        "### *watch_accessed_variables=False*"
      ]
    },
    {
      "cell_type": "code",
      "metadata": {
        "colab": {
          "base_uri": "https://localhost:8080/"
        },
        "id": "igmuBsC70C1Z",
        "outputId": "a35ab379-5e4f-4547-d4bb-4e6be64e86b8"
      },
      "source": [
        "x = tf.Variable(3.0)\r\n",
        "y = tf.Variable(6.0)\r\n",
        "z = tf.Variable(12.0)\r\n",
        "\r\n",
        "with tf.GradientTape() as tape3:\r\n",
        "  # tape3.watch(x)\r\n",
        "  y = x ** 2 + y * 28.0 +  28.0 * z\r\n",
        "  \r\n",
        "print(tape3.gradient(y, [x, y, z]))\r\n",
        "\r\n",
        "print(\"----------------------------\\n\")\r\n",
        "\r\n",
        "with tf.GradientTape(watch_accessed_variables=False) as tape4:\r\n",
        "  tape4.watch(z)\r\n",
        "  \r\n",
        "  y = x ** 2 + y * 28.0 +  28.0 * z\r\n",
        "  \r\n",
        "print(tape4.gradient(y, [x, y, z])) ## y is watched and z is made to watch by tape.watch(z) and x isnt watched as default"
      ],
      "execution_count": null,
      "outputs": [
        {
          "output_type": "stream",
          "text": [
            "[<tf.Tensor: shape=(), dtype=float32, numpy=6.0>, <tf.Tensor: shape=(), dtype=float32, numpy=1.0>, <tf.Tensor: shape=(), dtype=float32, numpy=28.0>]\n",
            "----------------------------\n",
            "\n",
            "[None, <tf.Tensor: shape=(), dtype=float32, numpy=1.0>, <tf.Tensor: shape=(), dtype=float32, numpy=28.0>]\n"
          ],
          "name": "stdout"
        }
      ]
    },
    {
      "cell_type": "markdown",
      "metadata": {
        "id": "d-Pr4i-b5Ghi"
      },
      "source": [
        "### Resources are released as soon as we call *tf.GradientTape()*\r\n",
        "### To call multiple times use\r\n",
        "## *persistence=True*"
      ]
    },
    {
      "cell_type": "code",
      "metadata": {
        "colab": {
          "base_uri": "https://localhost:8080/"
        },
        "id": "rjpT8ida5FwD",
        "outputId": "b57be0bc-32f8-4185-e644-ed2e91583f78"
      },
      "source": [
        "x5 = tf.constant([1.0, 3.0])\r\n",
        "\r\n",
        "with tf.GradientTape(persistent=True) as tape5:\r\n",
        "  tape5.watch(x5)\r\n",
        "  y5 = x5 * x5\r\n",
        "  z5 = y5 * y5\r\n",
        "\r\n",
        "print(tape5.gradient(y5, x5))\r\n",
        "print(tape5.gradient(z5, x5))\r\n",
        "print(tape5.gradient(z5, y5))\r\n",
        "\r\n",
        "del tape5 ## drop persistent reference of tape"
      ],
      "execution_count": null,
      "outputs": [
        {
          "output_type": "stream",
          "text": [
            "tf.Tensor([2. 6.], shape=(2,), dtype=float32)\n",
            "tf.Tensor([  4. 108.], shape=(2,), dtype=float32)\n",
            "tf.Tensor([ 2. 18.], shape=(2,), dtype=float32)\n"
          ],
          "name": "stdout"
        }
      ]
    },
    {
      "cell_type": "markdown",
      "metadata": {
        "id": "72d-MdLv8s6W"
      },
      "source": [
        "### Gradient of multiple targets result as sum of targets"
      ]
    },
    {
      "cell_type": "code",
      "metadata": {
        "colab": {
          "base_uri": "https://localhost:8080/"
        },
        "id": "1E4XuX7Q87Vz",
        "outputId": "326d1852-f768-4d02-e1cb-24922c5c5587"
      },
      "source": [
        "x6 = tf.constant([1.0, 3.0])\r\n",
        "\r\n",
        "with tf.GradientTape() as tape6:\r\n",
        "  tape6.watch(x6)\r\n",
        "  y6 = x6 * x6\r\n",
        "  z6 = y6 * y6\r\n",
        "\r\n",
        "print(tape6.gradient([y6, z6], x6))\r\n"
      ],
      "execution_count": null,
      "outputs": [
        {
          "output_type": "stream",
          "text": [
            "tf.Tensor([  6. 114.], shape=(2,), dtype=float32)\n"
          ],
          "name": "stdout"
        }
      ]
    },
    {
      "cell_type": "markdown",
      "metadata": {
        "id": "LqgbDNWA9WaV"
      },
      "source": [
        "### similarly, if target is not scalar then gradient of sum is calculated"
      ]
    },
    {
      "cell_type": "code",
      "metadata": {
        "colab": {
          "base_uri": "https://localhost:8080/"
        },
        "id": "7M12oCS49oa2",
        "outputId": "2b6142ca-ed55-41fa-a0b8-694c0942a505"
      },
      "source": [
        "x = tf.constant(2.0)\r\n",
        "w = tf.constant([4.0, 4.0])\r\n",
        "x2 = tf.constant([1.0, 2.0])\r\n",
        "\r\n",
        "with tf.GradientTape(persistent=True) as tape:\r\n",
        "  tape.watch([x, x2])\r\n",
        "  y = x * w\r\n",
        "  y2 = x * [4.0, 4.0]\r\n",
        "  z = x2 * w\r\n",
        "  z2 = x2 * [4.0, 4.0]\r\n",
        "\r\n",
        "print(tape.gradient(y, x))\r\n",
        "print(tape.gradient(y2, x))\r\n",
        "print(tape.gradient(z, x2))\r\n",
        "print(tape.gradient(z2, x2))"
      ],
      "execution_count": null,
      "outputs": [
        {
          "output_type": "stream",
          "text": [
            "tf.Tensor(8.0, shape=(), dtype=float32)\n",
            "tf.Tensor(8.0, shape=(), dtype=float32)\n",
            "tf.Tensor([4. 4.], shape=(2,), dtype=float32)\n",
            "tf.Tensor([4. 4.], shape=(2,), dtype=float32)\n"
          ],
          "name": "stdout"
        }
      ]
    },
    {
      "cell_type": "code",
      "metadata": {
        "id": "zbBc9ceu6YEI",
        "colab": {
          "base_uri": "https://localhost:8080/"
        },
        "outputId": "983c76e5-4a2e-4cb0-fc50-3445f0ee0edb"
      },
      "source": [
        "w = tf.random.normal([3, 2], dtype=tf.float64)\r\n",
        "x = tf.random.normal([1, 3], dtype=tf.float64)\r\n",
        "b = tf.zeros([3, 1], dtype=tf.float64)\r\n",
        "\r\n",
        "print(x)\r\n",
        "print(w)\r\n",
        "print(b)\r\n",
        "print(x @ w)\r\n",
        "with tf.GradientTape(persistent=True) as tape:\r\n",
        "  y = x @ w + b\r\n",
        "  loss = tf.reduce_sum(y**2)\r\n",
        "\r\n",
        "tape.gradient(loss, [w, b])\r\n"
      ],
      "execution_count": null,
      "outputs": [
        {
          "output_type": "stream",
          "text": [
            "tf.Tensor([[ 0.1740043  -0.58566987  0.87399677]], shape=(1, 3), dtype=float64)\n",
            "tf.Tensor(\n",
            "[[-1.14317209 -1.19400099]\n",
            " [-0.30554563  1.7611922 ]\n",
            " [-1.08032115  1.46664125]], shape=(3, 2), dtype=float64)\n",
            "tf.Tensor(\n",
            "[[0.]\n",
            " [0.]\n",
            " [0.]], shape=(3, 1), dtype=float64)\n",
            "tf.Tensor([[-0.96416518  0.0426012 ]], shape=(1, 2), dtype=float64)\n"
          ],
          "name": "stdout"
        },
        {
          "output_type": "execute_result",
          "data": {
            "text/plain": [
              "[None, None]"
            ]
          },
          "metadata": {
            "tags": []
          },
          "execution_count": 17
        }
      ]
    },
    {
      "cell_type": "code",
      "metadata": {
        "id": "W-DY4QRjAj3C"
      },
      "source": [
        "layer = tf.keras.layers.Dense(2, activation=\"relu\")\r\n",
        "x = tf.constant([[1., 2.0, 3.0]])\r\n",
        "y = layer(x)"
      ],
      "execution_count": null,
      "outputs": []
    },
    {
      "cell_type": "code",
      "metadata": {
        "id": "jGobt6IVDBiL"
      },
      "source": [
        "with tf.GradientTape() as tape:\r\n",
        "  y = layer(x)\r\n",
        "  loss = tf.reduce_mean(y**2)"
      ],
      "execution_count": null,
      "outputs": []
    },
    {
      "cell_type": "code",
      "metadata": {
        "id": "Urnzq8vp3W-J",
        "colab": {
          "base_uri": "https://localhost:8080/"
        },
        "outputId": "1ac5ece7-0a0c-4931-9fc6-c5e8df2432ee"
      },
      "source": [
        "tape.gradient(loss, layer.trainable_variables) "
      ],
      "execution_count": null,
      "outputs": [
        {
          "output_type": "execute_result",
          "data": {
            "text/plain": [
              "[<tf.Tensor: shape=(3, 2), dtype=float32, numpy=\n",
              " array([[0.        , 0.65228343],\n",
              "        [0.        , 1.3045669 ],\n",
              "        [0.        , 1.9568503 ]], dtype=float32)>,\n",
              " <tf.Tensor: shape=(2,), dtype=float32, numpy=array([0.        , 0.65228343], dtype=float32)>]"
            ]
          },
          "metadata": {
            "tags": []
          },
          "execution_count": 20
        }
      ]
    },
    {
      "cell_type": "code",
      "metadata": {
        "id": "dt620hzWBjkw"
      },
      "source": [
        "import matplotlib.pyplot as plt"
      ],
      "execution_count": null,
      "outputs": []
    },
    {
      "cell_type": "code",
      "metadata": {
        "colab": {
          "base_uri": "https://localhost:8080/",
          "height": 265
        },
        "id": "9q-tNXFVAKjD",
        "outputId": "aec501d6-d754-4fa0-db58-a134fd2f9cca"
      },
      "source": [
        "x = tf.linspace(-10, 10, 200)\r\n",
        "\r\n",
        "with tf.GradientTape() as tape:\r\n",
        "  tape.watch(x)\r\n",
        "  y = tf.nn.sigmoid(x)\r\n",
        "\r\n",
        "dy_dx = tape.gradient(y, x)\r\n",
        "\r\n",
        "plt.plot(x, y, c=\"b\", label=\"y\")\r\n",
        "plt.plot(x, dy_dx, c=\"r\", label=\"dy_dx\")\r\n",
        "plt.legend()\r\n",
        "plt.show()"
      ],
      "execution_count": null,
      "outputs": [
        {
          "output_type": "display_data",
          "data": {
            "image/png": "[encoded data removed]",
            "text/plain": [
              "<Figure size 432x288 with 1 Axes>"
            ]
          },
          "metadata": {
            "tags": [],
            "needs_background": "light"
          }
        }
      ]
    },
    {
      "cell_type": "code",
      "metadata": {
        "id": "ng3hgBaQEIuo"
      },
      "source": [
        "import numpy as np"
      ],
      "execution_count": null,
      "outputs": []
    },
    {
      "cell_type": "code",
      "metadata": {
        "colab": {
          "base_uri": "https://localhost:8080/"
        },
        "id": "zimzGxVeB8Ic",
        "outputId": "5caa5dde-b88e-42dd-c247-d226b2ee045a"
      },
      "source": [
        "x = tf.Variable([3.0, 5.0, 2.0])\r\n",
        "\r\n",
        "with tf.GradientTape() as tape:\r\n",
        "  y = x ** 2\r\n",
        "  y = np.mean(y)\r\n",
        "try:\r\n",
        "  tape.gradient(y, x)\r\n",
        "except:\r\n",
        "  print(\"cant calculate gradient since it leave flow of tensorflow\")"
      ],
      "execution_count": null,
      "outputs": [
        {
          "output_type": "stream",
          "text": [
            "cant calculate gradient since it leave flow of tensorflow\n"
          ],
          "name": "stdout"
        }
      ]
    },
    {
      "cell_type": "markdown",
      "metadata": {
        "id": "lliltM4BNXDT"
      },
      "source": [
        "# Training Loops"
      ]
    },
    {
      "cell_type": "markdown",
      "metadata": {
        "id": "rKt1mFZwNrAl"
      },
      "source": [
        "## Solving machine learning problems consists of following steps:\r\n",
        "1. Obtaining training data\r\n",
        "2. Define the model\r\n",
        "3. Define the loss function \r\n",
        "4. Run through training data and calculating loss\r\n",
        "5. Calculate the gradient for loss and use optimiser to adjust the variables to fit training data \r\n",
        "6. evaluate your model "
      ]
    },
    {
      "cell_type": "markdown",
      "metadata": {
        "id": "y_UMEYgiPJJU"
      },
      "source": [
        "## Lets create simplest model\r\n",
        "\r\n",
        "# x * w + b\r\n"
      ]
    },
    {
      "cell_type": "code",
      "metadata": {
        "id": "fzJl7uToa4Od"
      },
      "source": [
        ""
      ],
      "execution_count": null,
      "outputs": []
    },
    {
      "cell_type": "code",
      "metadata": {
        "id": "hSKRcnA6MIE7"
      },
      "source": [
        "w = 36\r\n",
        "b = 18\r\n",
        "\r\n",
        "data_points = 1000\r\n",
        "\r\n",
        "x = tf.random.normal([1000])\r\n",
        "\r\n",
        "noise = tf.random.normal([1000])\r\n",
        "\r\n",
        "y = x * w + b + noise"
      ],
      "execution_count": null,
      "outputs": []
    },
    {
      "cell_type": "code",
      "metadata": {
        "id": "yL-DkfRrP3jo"
      },
      "source": [
        "import matplotlib.pyplot as plt"
      ],
      "execution_count": null,
      "outputs": []
    },
    {
      "cell_type": "code",
      "metadata": {
        "colab": {
          "base_uri": "https://localhost:8080/",
          "height": 265
        },
        "id": "YRnV6uLwQHIq",
        "outputId": "8844ad79-4291-417d-afec-37a92df03c95"
      },
      "source": [
        "plt.scatter(x, y, c=\"b\")\r\n",
        "plt.show()"
      ],
      "execution_count": null,
      "outputs": [
        {
          "output_type": "display_data",
          "data": {
            "image/png": "[encoded data removed]",
            "text/plain": [
              "<Figure size 432x288 with 1 Axes>"
            ]
          },
          "metadata": {
            "tags": [],
            "needs_background": "light"
          }
        }
      ]
    },
    {
      "cell_type": "markdown",
      "metadata": {
        "id": "XxUoEoEpRm-G"
      },
      "source": [
        "## 1. Define the model\r\n",
        "# *tf.module* \r\n",
        "### as base class also you can use tf.keras.Model and tf.keras.layers.Layer as base class"
      ]
    },
    {
      "cell_type": "code",
      "metadata": {
        "id": "wo-2NZJ1QMyz"
      },
      "source": [
        "class MyModel(tf.Module):\r\n",
        "  def __init__(self, **kwargs):\r\n",
        "    super().__init__(*kwargs)\r\n",
        "\r\n",
        "    self.w = tf.Variable(3.0)\r\n",
        "    self.b = tf.Variable(0.0)\r\n",
        "    # self.noise = tf.random.normal([1000])\r\n",
        "\r\n",
        "  def __call__(self, x):\r\n",
        "    return self.w * x + self.b"
      ],
      "execution_count": null,
      "outputs": []
    },
    {
      "cell_type": "code",
      "metadata": {
        "id": "l8z0MSCcSl4S"
      },
      "source": [
        "m = MyModel()"
      ],
      "execution_count": null,
      "outputs": []
    },
    {
      "cell_type": "code",
      "metadata": {
        "id": "SXJzkX62S5Ve"
      },
      "source": [
        "# m(x)"
      ],
      "execution_count": null,
      "outputs": []
    },
    {
      "cell_type": "markdown",
      "metadata": {
        "id": "pxs1yghST3cj"
      },
      "source": [
        "## 2. Define the loss function"
      ]
    },
    {
      "cell_type": "code",
      "metadata": {
        "id": "SO2u6m3VTc4I"
      },
      "source": [
        "def loss(target, pred):\r\n",
        "  return tf.reduce_mean(tf.square(target - pred))"
      ],
      "execution_count": null,
      "outputs": []
    },
    {
      "cell_type": "code",
      "metadata": {
        "colab": {
          "base_uri": "https://localhost:8080/"
        },
        "id": "G1h3XE5KUKUx",
        "outputId": "bfd81e3a-8e2f-4976-ac70-20a2305b6d3a"
      },
      "source": [
        "loss(13, m(x))"
      ],
      "execution_count": null,
      "outputs": [
        {
          "output_type": "execute_result",
          "data": {
            "text/plain": [
              "<tf.Tensor: shape=(), dtype=float32, numpy=177.75352>"
            ]
          },
          "metadata": {
            "tags": []
          },
          "execution_count": 129
        }
      ]
    },
    {
      "cell_type": "markdown",
      "metadata": {
        "id": "ph8jkYaIVaea"
      },
      "source": [
        "## 3. Defining trining loop\r\n",
        "\r\n",
        "## Training loop consists following repeated tasks\r\n",
        "1. Sending batch input through model to generate output\r\n",
        "2. Calculating loss by comparing Target and Predictions\r\n",
        "3. Calculate the Gradient ( *tf.GradientTape()* )\r\n",
        "4. Use Optimiser to optimizing variables with gradients"
      ]
    },
    {
      "cell_type": "code",
      "metadata": {
        "id": "3EZgLKYKUsTM"
      },
      "source": [
        "def train(model, x, y, learning_rate=0.01):\r\n",
        "\r\n",
        "  with tf.GradientTape() as tape:\r\n",
        "    _loss = loss(y, model(x))\r\n",
        "  dw, db = tape.gradient(_loss, [model.w, model.b], unconnected_gradients=tf.UnconnectedGradients.ZERO)\r\n",
        "  # print(dw, db)\r\n",
        "  model.w.assign_sub(learning_rate * dw)\r\n",
        "  model.b.assign_sub(learning_rate * db)"
      ],
      "execution_count": null,
      "outputs": []
    },
    {
      "cell_type": "code",
      "metadata": {
        "id": "aPy2oom1XnTH"
      },
      "source": [
        "ws, bs = [], []\r\n",
        "def train_loop(model, x, y, epochs):\r\n",
        "  for epoch in range(epochs):\r\n",
        "    train(model, x, y, 0.1)\r\n",
        "    ws.append(model.w.numpy())\r\n",
        "    bs.append(model.b.numpy())\r\n",
        "    new_loss = loss(y, model(x))\r\n",
        "    print(f\"epoch{epoch}, w={ws[-1]}, b={bs[-1]}, loss={new_loss}\")"
      ],
      "execution_count": null,
      "outputs": []
    },
    {
      "cell_type": "code",
      "metadata": {
        "id": "enFjleGEZ4Vr"
      },
      "source": [
        "print(f\"w={m.w.numpy()}, b={m.b.numpy()}, loss={loss(y, m(x))}\")\r\n",
        "train_loop(m, x, y, 100)\r\n",
        "print(f\"true_w={w}, true_b={b}\")"
      ],
      "execution_count": null,
      "outputs": []
    },
    {
      "cell_type": "markdown",
      "metadata": {
        "id": "LssNGYnfVkaz"
      },
      "source": [
        "## Model using keras API\r\n"
      ]
    },
    {
      "cell_type": "code",
      "metadata": {
        "id": "Uknsj49OVj4G"
      },
      "source": [
        "class MyModelKeras(tf.keras.Model):\r\n",
        "  def __init__(self, *kwargs):\r\n",
        "    super().__init__(*kwargs)\r\n",
        "\r\n",
        "    self.w = tf.Variable(5.0)\r\n",
        "    self.b = tf.Variable(0.0)\r\n",
        "\r\n",
        "  def __call__(self, x, **kwargs):\r\n",
        "    return self.w * x + self.b\r\n"
      ],
      "execution_count": null,
      "outputs": []
    },
    {
      "cell_type": "code",
      "metadata": {
        "id": "pNsRARS2bq4m"
      },
      "source": [
        "km = MyModelKeras()"
      ],
      "execution_count": null,
      "outputs": []
    },
    {
      "cell_type": "code",
      "metadata": {
        "colab": {
          "base_uri": "https://localhost:8080/"
        },
        "id": "lmwZN9qFWTOr",
        "outputId": "ab8da9a9-21e9-49db-97a7-6e9705a6a4da"
      },
      "source": [
        "train_loop(km, x, y, 10)"
      ],
      "execution_count": null,
      "outputs": [
        {
          "output_type": "stream",
          "text": [
            "epoch0, w=11.230953216552734, b=3.6151726245880127, loss=824.360107421875\n",
            "epoch1, w=16.20889663696289, b=6.502882480621338, loss=526.4777221679688\n",
            "epoch2, w=20.18580436706543, b=8.8095121383667, loss=336.36981201171875\n",
            "epoch3, w=23.362977981567383, b=10.651989936828613, loss=215.04344177246094\n",
            "epoch4, w=25.901241302490234, b=12.123714447021484, loss=137.6131591796875\n",
            "epoch5, w=27.929075241088867, b=13.29928970336914, loss=88.19733428955078\n",
            "epoch6, w=29.549123764038086, b=14.238308906555176, loss=56.6602668762207\n",
            "epoch7, w=30.84339141845703, b=14.988372802734375, loss=36.53336715698242\n",
            "epoch8, w=31.877389907836914, b=15.587504386901855, loss=23.688425064086914\n",
            "epoch9, w=32.70345687866211, b=16.06607437133789, loss=15.490817070007324\n"
          ],
          "name": "stdout"
        }
      ]
    },
    {
      "cell_type": "markdown",
      "metadata": {
        "id": "6L0K61ZUWgAV"
      },
      "source": [
        "## Rather writting new training loop in keras, you can use keras built-in feature \r\n",
        "## ***model.compile()***"
      ]
    },
    {
      "cell_type": "code",
      "metadata": {
        "id": "9COXTgoQWXWG"
      },
      "source": [
        "km.compile(\r\n",
        "    optimizer=tf.keras.optimizers.SGD(0.1),\r\n",
        "\r\n",
        "    loss=tf.keras.losses.mean_squared_error,\r\n",
        "\r\n",
        "    run_eagerly=False\r\n",
        ")"
      ],
      "execution_count": null,
      "outputs": []
    },
    {
      "cell_type": "code",
      "metadata": {
        "colab": {
          "base_uri": "https://localhost:8080/"
        },
        "id": "dtDqGMBtYupk",
        "outputId": "b416c2db-b23d-4e5e-a9b7-459146020afd"
      },
      "source": [
        "km.fit(\r\n",
        "    x,\r\n",
        "    y, \r\n",
        "    epochs=10, \r\n",
        "    batch_size=1000\r\n",
        ")"
      ],
      "execution_count": null,
      "outputs": [
        {
          "output_type": "stream",
          "text": [
            "Epoch 1/10\n",
            "1/1 [==============================] - 0s 4ms/step - loss: 1.0307\n",
            "Epoch 2/10\n",
            "1/1 [==============================] - 0s 6ms/step - loss: 1.0307\n",
            "Epoch 3/10\n",
            "1/1 [==============================] - 0s 8ms/step - loss: 1.0307\n",
            "Epoch 4/10\n",
            "1/1 [==============================] - 0s 5ms/step - loss: 1.0307\n",
            "Epoch 5/10\n",
            "1/1 [==============================] - 0s 4ms/step - loss: 1.0307\n",
            "Epoch 6/10\n",
            "1/1 [==============================] - 0s 4ms/step - loss: 1.0307\n",
            "Epoch 7/10\n",
            "1/1 [==============================] - 0s 4ms/step - loss: 1.0307\n",
            "Epoch 8/10\n",
            "1/1 [==============================] - 0s 4ms/step - loss: 1.0307\n",
            "Epoch 9/10\n",
            "1/1 [==============================] - 0s 4ms/step - loss: 1.0307\n",
            "Epoch 10/10\n",
            "1/1 [==============================] - 0s 4ms/step - loss: 1.0307\n"
          ],
          "name": "stdout"
        },
        {
          "output_type": "execute_result",
          "data": {
            "text/plain": [
              "<tensorflow.python.keras.callbacks.History at 0x7ff56ae1b9b0>"
            ]
          },
          "metadata": {
            "tags": []
          },
          "execution_count": 159
        }
      ]
    },
    {
      "cell_type": "markdown",
      "metadata": {
        "id": "zZUSdFA6fKbZ"
      },
      "source": [
        "# Advance autodiff\r\n",
        "\r\n",
        "## advance automatic differentiation"
      ]
    },
    {
      "cell_type": "code",
      "metadata": {
        "id": "gyG5vaF3ZIO0"
      },
      "source": [
        "import matplotlib as mpl\r\n",
        "mpl.rcParams['figure.figsize'] = (8, 6)"
      ],
      "execution_count": null,
      "outputs": []
    },
    {
      "cell_type": "markdown",
      "metadata": {
        "id": "YwHlND6Fg2rv"
      },
      "source": [
        "### controlling gradient record\r\n",
        "### *tf.GradientTape().stop_recording()*"
      ]
    },
    {
      "cell_type": "code",
      "metadata": {
        "colab": {
          "base_uri": "https://localhost:8080/"
        },
        "id": "NAAE3Vxbg2MZ",
        "outputId": "dc244686-1c60-4969-b173-b6dc28acc64e"
      },
      "source": [
        "x = tf.Variable(3.0)\r\n",
        "y = tf.Variable(2.0)\r\n",
        "\r\n",
        "with tf.GradientTape() as tape:\r\n",
        "  x2 = x * x\r\n",
        "  with tape.stop_recording():\r\n",
        "    y2 = y * y\r\n",
        "  \r\n",
        "  z = x2 + y2\r\n",
        "\r\n",
        "tape.gradient(z, [x, y])\r\n"
      ],
      "execution_count": null,
      "outputs": [
        {
          "output_type": "execute_result",
          "data": {
            "text/plain": [
              "[<tf.Tensor: shape=(), dtype=float32, numpy=6.0>, None]"
            ]
          },
          "metadata": {
            "tags": []
          },
          "execution_count": 167
        }
      ]
    },
    {
      "cell_type": "markdown",
      "metadata": {
        "id": "cJp0GG0hiYtE"
      },
      "source": [
        "### reseting stop gradient"
      ]
    },
    {
      "cell_type": "code",
      "metadata": {
        "colab": {
          "base_uri": "https://localhost:8080/"
        },
        "id": "yEF7rUdrhr_W",
        "outputId": "904507c6-3457-4ed5-8df4-fe8d248c0fa6"
      },
      "source": [
        "x = tf.Variable(3.0)\r\n",
        "y = tf.Variable(2.0)\r\n",
        "\r\n",
        "with tf.GradientTape() as tape:\r\n",
        "  y2 = y * y ## strated recording\r\n",
        "\r\n",
        "  tape.reset() ## reset all recording states\r\n",
        "\r\n",
        "  x2 = x * x\r\n",
        "  \r\n",
        "  z = x2 + y2\r\n",
        "\r\n",
        "grad = tape.gradient(z, {\"x\": x, \"y\": y })\r\n",
        "\r\n",
        "print(grad[\"x\"])\r\n",
        "print(grad[\"y\"])"
      ],
      "execution_count": null,
      "outputs": [
        {
          "output_type": "stream",
          "text": [
            "tf.Tensor(6.0, shape=(), dtype=float32)\n",
            "None\n"
          ],
          "name": "stdout"
        }
      ]
    },
    {
      "cell_type": "markdown",
      "metadata": {
        "id": "_pzZwRSclR1w"
      },
      "source": [
        "### stop gradient\r\n",
        "### *tf.stop_gradient()*"
      ]
    },
    {
      "cell_type": "code",
      "metadata": {
        "colab": {
          "base_uri": "https://localhost:8080/"
        },
        "id": "ZqgAuAfsiv6M",
        "outputId": "4009e1b7-5000-4761-c934-d9df7924d3d3"
      },
      "source": [
        "x = tf.Variable(3.0)\r\n",
        "y = tf.Variable(2.0)\r\n",
        "\r\n",
        "with tf.GradientTape() as tape:\r\n",
        "  x2 = x * x\r\n",
        "  y2 = y * y\r\n",
        "  \r\n",
        "  z = x2 + tf.stop_gradient(y2)\r\n",
        "\r\n",
        "grad = tape.gradient(z, {\"x\": x, \"y\": y }, u)\r\n",
        "\r\n",
        "print(grad[\"x\"])\r\n",
        "print(grad[\"y\"])"
      ],
      "execution_count": null,
      "outputs": [
        {
          "output_type": "stream",
          "text": [
            "tf.Tensor(6.0, shape=(), dtype=float32)\n",
            "None\n"
          ],
          "name": "stdout"
        }
      ]
    }
  ]
}