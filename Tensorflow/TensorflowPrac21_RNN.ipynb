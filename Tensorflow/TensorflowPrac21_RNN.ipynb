{
  "nbformat": 4,
  "nbformat_minor": 0,
  "metadata": {
    "colab": {
      "name": "TensorflowPrac21_RNN.ipynb",
      "provenance": [],
      "collapsed_sections": [],
      "authorship_tag": "ABX9TyPAYeiKWZPDIjAeB7sZwEzg",
      "include_colab_link": true
    },
    "kernelspec": {
      "name": "python3",
      "display_name": "Python 3"
    },
    "accelerator": "GPU"
  },
  "cells": [
    {
      "cell_type": "markdown",
      "metadata": {
        "id": "view-in-github",
        "colab_type": "text"
      },
      "source": [
        "<a href=\"https://colab.research.google.com/github/Vinaypatil-Ev/vinEvPy-GoCoLab/blob/main/Tensorflow/TensorflowPrac21_RNN.ipynb\" target=\"_parent\"><img src=\"https://colab.research.google.com/assets/colab-badge.svg\" alt=\"Open In Colab\"/></a>"
      ]
    },
    {
      "cell_type": "markdown",
      "metadata": {
        "id": "KUvTHcTF-li6"
      },
      "source": [
        "# Recurrent Neural network (RNN)"
      ]
    },
    {
      "cell_type": "code",
      "metadata": {
        "id": "3L_hI_u_9_17"
      },
      "source": [
        "import tensorflow as tf"
      ],
      "execution_count": 1,
      "outputs": []
    },
    {
      "cell_type": "code",
      "metadata": {
        "id": "hDXzbgwhBpRJ"
      },
      "source": [
        "def input_model():\r\n",
        "    return tf.keras.Sequential([\r\n",
        "            tf.keras.layers.Embedding(100, 64),\r\n",
        "            tf.keras.layers.LSTM(123),\r\n",
        "            tf.keras.layers.Dense(10)\r\n",
        "    ])"
      ],
      "execution_count": 2,
      "outputs": []
    },
    {
      "cell_type": "code",
      "metadata": {
        "colab": {
          "base_uri": "https://localhost:8080/"
        },
        "id": "Md3_EhRrC9AI",
        "outputId": "490102a1-5ccc-462b-a224-5495b29ca1de"
      },
      "source": [
        "input_model().summary()"
      ],
      "execution_count": 3,
      "outputs": [
        {
          "output_type": "stream",
          "text": [
            "Model: \"sequential\"\n",
            "_________________________________________________________________\n",
            "Layer (type)                 Output Shape              Param #   \n",
            "=================================================================\n",
            "embedding (Embedding)        (None, None, 64)          6400      \n",
            "_________________________________________________________________\n",
            "lstm (LSTM)                  (None, 123)               92496     \n",
            "_________________________________________________________________\n",
            "dense (Dense)                (None, 10)                1240      \n",
            "=================================================================\n",
            "Total params: 100,136\n",
            "Trainable params: 100,136\n",
            "Non-trainable params: 0\n",
            "_________________________________________________________________\n"
          ],
          "name": "stdout"
        }
      ]
    },
    {
      "cell_type": "code",
      "metadata": {
        "id": "FMkBcQtGDBtO"
      },
      "source": [
        "def output_model():\r\n",
        "    return tf.keras.Sequential([\r\n",
        "            tf.keras.layers.Embedding(1000, 64),\r\n",
        "            tf.keras.layers.GRU(256, return_sequences=True),\r\n",
        "            tf.keras.layers.SimpleRNN(128),\r\n",
        "            tf.keras.layers.Dense(10),\r\n",
        "    ])"
      ],
      "execution_count": 4,
      "outputs": []
    },
    {
      "cell_type": "code",
      "metadata": {
        "colab": {
          "base_uri": "https://localhost:8080/"
        },
        "id": "i4tOSMJBV7qa",
        "outputId": "5aed2370-2761-4fc1-e984-3f92d9bc0bb6"
      },
      "source": [
        "output_model().summary()"
      ],
      "execution_count": 5,
      "outputs": [
        {
          "output_type": "stream",
          "text": [
            "Model: \"sequential_1\"\n",
            "_________________________________________________________________\n",
            "Layer (type)                 Output Shape              Param #   \n",
            "=================================================================\n",
            "embedding_1 (Embedding)      (None, None, 64)          64000     \n",
            "_________________________________________________________________\n",
            "gru (GRU)                    (None, None, 256)         247296    \n",
            "_________________________________________________________________\n",
            "simple_rnn (SimpleRNN)       (None, 128)               49280     \n",
            "_________________________________________________________________\n",
            "dense_1 (Dense)              (None, 10)                1290      \n",
            "=================================================================\n",
            "Total params: 361,866\n",
            "Trainable params: 361,866\n",
            "Non-trainable params: 0\n",
            "_________________________________________________________________\n"
          ],
          "name": "stdout"
        }
      ]
    },
    {
      "cell_type": "code",
      "metadata": {
        "colab": {
          "base_uri": "https://localhost:8080/"
        },
        "id": "Vhc2fmc2V-CX",
        "outputId": "c1f0ff96-5d58-47ad-b68e-83b1f1086ca4"
      },
      "source": [
        "encoder_vocab = 1000\r\n",
        "decoder_vocab = 2000\r\n",
        "\r\n",
        "encoder_input = tf.keras.Input(shape=(None, ))\r\n",
        "encoder_embedded = tf.keras.layers.Embedding(encoder_vocab, 64)(encoder_input)\r\n",
        "\r\n",
        "output, _h, _c = tf.keras.layers.LSTM(64, return_state=True, name=\"encoder\")(encoder_embedded)\r\n",
        "encoder_state = [_h, _c]\r\n",
        "\r\n",
        "decoder_input = tf.keras.Input(shape=(None, ))\r\n",
        "decoder_embedding = tf.keras.layers.Embedding(decoder_vocab, 64)(decoder_input)\r\n",
        "\r\n",
        "decoder_output = tf.keras.layers.LSTM(64, name=\"decoder\")(decoder_embedding, initial_state=encoder_state)\r\n",
        "\r\n",
        "ouput = tf.keras.layers.Dense(10)(decoder_output)\r\n",
        "\r\n",
        "model = tf.keras.Model([encoder_input, decoder_input], output)\r\n",
        "\r\n",
        "model.summary()"
      ],
      "execution_count": 6,
      "outputs": [
        {
          "output_type": "stream",
          "text": [
            "Model: \"model\"\n",
            "__________________________________________________________________________________________________\n",
            "Layer (type)                    Output Shape         Param #     Connected to                     \n",
            "==================================================================================================\n",
            "input_1 (InputLayer)            [(None, None)]       0                                            \n",
            "__________________________________________________________________________________________________\n",
            "embedding_2 (Embedding)         (None, None, 64)     64000       input_1[0][0]                    \n",
            "__________________________________________________________________________________________________\n",
            "input_2 (InputLayer)            [(None, None)]       0                                            \n",
            "__________________________________________________________________________________________________\n",
            "encoder (LSTM)                  [(None, 64), (None,  33024       embedding_2[0][0]                \n",
            "==================================================================================================\n",
            "Total params: 97,024\n",
            "Trainable params: 97,024\n",
            "Non-trainable params: 0\n",
            "__________________________________________________________________________________________________\n"
          ],
          "name": "stdout"
        }
      ]
    },
    {
      "cell_type": "markdown",
      "metadata": {
        "id": "re4iKny9cRSO"
      },
      "source": [
        "#RNN layers and RNN cells"
      ]
    },
    {
      "cell_type": "markdown",
      "metadata": {
        "id": "5b9NlrjScVjc"
      },
      "source": [
        "### RNN layers processes whole batch of input sequences while RNN cell processes only single timestep\r\n",
        "### There are three buit in RNN cells\r\n",
        "####1. *tf.keras.layers.SimpleRNNCell()*\r\n",
        "####2. *tf.keras.layers.GRUCell()*\r\n",
        "####3. *tf.keras.layers.LSTMCell()*"
      ]
    },
    {
      "cell_type": "markdown",
      "metadata": {
        "id": "IP5Gri7EeqM1"
      },
      "source": [
        "### Cross Batch statefullness\r\n",
        "#### It is used when input sequence is of infinte length\r\n",
        "#### If you have very long sequence, it is useful to break the sequence into subsequences\r\n",
        "#### But for every new batch as input to RNN, internal state of RNN layer is get reset \r\n",
        "#### To feed these subsequences of input without reseting internal state RNN you need set \r\n",
        "#### *stateful = True* \r\n"
      ]
    },
    {
      "cell_type": "code",
      "metadata": {
        "id": "fCIng9Xik5S5",
        "colab": {
          "base_uri": "https://localhost:8080/"
        },
        "outputId": "a931497f-0846-4665-8e97-e8159c76dbb0"
      },
      "source": [
        "tensor = tf.random.normal([64, 10, 10])\r\n",
        "seq = tf.data.Dataset.from_tensor_slices(tensor).batch(4)\r\n",
        "[i.shape for i in seq]"
      ],
      "execution_count": 7,
      "outputs": [
        {
          "output_type": "execute_result",
          "data": {
            "text/plain": [
              "[TensorShape([4, 10, 10]),\n",
              " TensorShape([4, 10, 10]),\n",
              " TensorShape([4, 10, 10]),\n",
              " TensorShape([4, 10, 10]),\n",
              " TensorShape([4, 10, 10]),\n",
              " TensorShape([4, 10, 10]),\n",
              " TensorShape([4, 10, 10]),\n",
              " TensorShape([4, 10, 10]),\n",
              " TensorShape([4, 10, 10]),\n",
              " TensorShape([4, 10, 10]),\n",
              " TensorShape([4, 10, 10]),\n",
              " TensorShape([4, 10, 10]),\n",
              " TensorShape([4, 10, 10]),\n",
              " TensorShape([4, 10, 10]),\n",
              " TensorShape([4, 10, 10]),\n",
              " TensorShape([4, 10, 10])]"
            ]
          },
          "metadata": {
            "tags": []
          },
          "execution_count": 7
        }
      ]
    },
    {
      "cell_type": "code",
      "metadata": {
        "id": "CTtpzaxjZKaT"
      },
      "source": [
        "lstm_layer = tf.keras.layers.LSTM(64, stateful=True,)\r\n",
        "for i in seq:\r\n",
        "    output = lstm_layer(i)"
      ],
      "execution_count": 8,
      "outputs": []
    },
    {
      "cell_type": "markdown",
      "metadata": {
        "id": "p54CF_3nfu8B"
      },
      "source": [
        "### you can reset the state after feeding all subsequeces by calling *reset_states()*"
      ]
    },
    {
      "cell_type": "code",
      "metadata": {
        "id": "wYGB_TQVgCei"
      },
      "source": [
        "# lstm_layer.reset_states()"
      ],
      "execution_count": 9,
      "outputs": []
    },
    {
      "cell_type": "markdown",
      "metadata": {
        "id": "JSC_Ndr7gJHx"
      },
      "source": [
        "### Reuse RNN states"
      ]
    },
    {
      "cell_type": "code",
      "metadata": {
        "id": "zbkGABUyl96O"
      },
      "source": [
        "existing_states = lstm_layer.states"
      ],
      "execution_count": 10,
      "outputs": []
    },
    {
      "cell_type": "code",
      "metadata": {
        "id": "qBSS0Po_md-m"
      },
      "source": [
        "seq = tf.random.normal([4, 10, 10])"
      ],
      "execution_count": 11,
      "outputs": []
    },
    {
      "cell_type": "code",
      "metadata": {
        "id": "q2Hete-NmD9Q"
      },
      "source": [
        "new_lstm_layer = tf.keras.layers.LSTM(64)\r\n",
        "new_output = new_lstm_layer(seq, initial_state=existing_states)"
      ],
      "execution_count": 12,
      "outputs": []
    },
    {
      "cell_type": "markdown",
      "metadata": {
        "id": "fn0Ob_NtrZNu"
      },
      "source": [
        "### Bidirectional RNN\r\n",
        "\r\n"
      ]
    },
    {
      "cell_type": "code",
      "metadata": {
        "id": "B6Xn8RV8mn7u"
      },
      "source": [
        "model = tf.keras.Sequential([\r\n",
        "        tf.keras.layers.Bidirectional(tf.keras.layers.LSTM(64, return_sequences=True), input_shape=(5, 10)),\r\n",
        "        tf.keras.layers.Bidirectional(tf.keras.layers.LSTM(32)),\r\n",
        "        tf.keras.layers.Dense(10),\r\n",
        "])"
      ],
      "execution_count": 13,
      "outputs": []
    },
    {
      "cell_type": "code",
      "metadata": {
        "colab": {
          "base_uri": "https://localhost:8080/"
        },
        "id": "zwOKvyLssytU",
        "outputId": "c8e519f3-417d-4fae-b3a9-1d1c57a42690"
      },
      "source": [
        "model.summary()"
      ],
      "execution_count": 14,
      "outputs": [
        {
          "output_type": "stream",
          "text": [
            "Model: \"sequential_2\"\n",
            "_________________________________________________________________\n",
            "Layer (type)                 Output Shape              Param #   \n",
            "=================================================================\n",
            "bidirectional (Bidirectional (None, 5, 128)            38400     \n",
            "_________________________________________________________________\n",
            "bidirectional_1 (Bidirection (None, 64)                41216     \n",
            "_________________________________________________________________\n",
            "dense_3 (Dense)              (None, 10)                650       \n",
            "=================================================================\n",
            "Total params: 80,266\n",
            "Trainable params: 80,266\n",
            "Non-trainable params: 0\n",
            "_________________________________________________________________\n"
          ],
          "name": "stdout"
        }
      ]
    },
    {
      "cell_type": "markdown",
      "metadata": {
        "id": "ZfnTdIIQvaTm"
      },
      "source": [
        "### Using CuDnn kernerl in RNN"
      ]
    },
    {
      "cell_type": "code",
      "metadata": {
        "id": "uc64ujWhs09L"
      },
      "source": [
        "batch_size = 64\r\n",
        "input_dim = 28\r\n",
        "units = 64\r\n",
        "output_shape = 10\r\n",
        "def build_model(allow_cudnn_kernel=True):\r\n",
        "    if allow_cudnn_kernel:\r\n",
        "        print(\"with Gpu\")\r\n",
        "        lstm_layer = tf.keras.layers.LSTM(units, input_shape=(None, input_dim))\r\n",
        "    else:\r\n",
        "        lstm_layer = tf.keras.layers.RNN(tf.keras.layers.LSTMCell(units), input_shape=(None, input_dim))\r\n",
        "\r\n",
        "    model = tf.keras.models.Sequential([\r\n",
        "            lstm_layer,\r\n",
        "            tf.keras.layers.BatchNormalization(),\r\n",
        "            tf.keras.layers.Dense(output_shape)\r\n",
        "            ])\r\n",
        "    return model"
      ],
      "execution_count": 15,
      "outputs": []
    },
    {
      "cell_type": "code",
      "metadata": {
        "colab": {
          "base_uri": "https://localhost:8080/"
        },
        "id": "lA7N_Um2wuaW",
        "outputId": "49668ba3-9f02-4e7c-b5ed-2194e1382a6a"
      },
      "source": [
        "(xtrn, ytrn), (xtst, ytst) = tf.keras.datasets.mnist.load_data()\r\n",
        "xtrn, ytrn = xtrn / 255.0, ytrn / 255.0\r\n"
      ],
      "execution_count": 16,
      "outputs": [
        {
          "output_type": "stream",
          "text": [
            "Downloading data from https://storage.googleapis.com/tensorflow/tf-keras-datasets/mnist.npz\n",
            "11493376/11490434 [==============================] - 0s 0us/step\n"
          ],
          "name": "stdout"
        }
      ]
    },
    {
      "cell_type": "code",
      "metadata": {
        "colab": {
          "base_uri": "https://localhost:8080/"
        },
        "id": "Q6AyR23exnsz",
        "outputId": "ccb7ea3d-f917-4217-a217-4282d01de81d"
      },
      "source": [
        "model = build_model(True)\r\n",
        "model.compile(optimizer=\"sgd\", \r\n",
        "              loss=tf.keras.losses.SparseCategoricalCrossentropy(True),\r\n",
        "              metrics=[\"acc\"]\r\n",
        "              )\r\n",
        "model.fit(xtrn, ytrn, validation_data=(xtst, ytst), batch_size=batch_size)"
      ],
      "execution_count": 17,
      "outputs": [
        {
          "output_type": "stream",
          "text": [
            "with Gpu\n",
            "938/938 [==============================] - 8s 5ms/step - loss: 0.5824 - acc: 0.0908 - val_loss: 10.7789 - val_acc: 0.1145\n"
          ],
          "name": "stdout"
        },
        {
          "output_type": "execute_result",
          "data": {
            "text/plain": [
              "<tensorflow.python.keras.callbacks.History at 0x7faff18d5630>"
            ]
          },
          "metadata": {
            "tags": []
          },
          "execution_count": 17
        }
      ]
    },
    {
      "cell_type": "code",
      "metadata": {
        "colab": {
          "base_uri": "https://localhost:8080/"
        },
        "id": "GAyLogUXyamM",
        "outputId": "039775f8-ac01-46e6-acbb-3cfa85c1bf5c"
      },
      "source": [
        "model = build_model(False)\r\n",
        "model.set_weights(model.get_weights())\r\n",
        "model.compile(optimizer=\"sgd\", \r\n",
        "              loss=tf.keras.losses.SparseCategoricalCrossentropy(True),\r\n",
        "              metrics=[\"acc\"]\r\n",
        "              )\r\n",
        "model.fit(xtrn, ytrn, validation_data=(xtst, ytst), batch_size=batch_size)"
      ],
      "execution_count": 18,
      "outputs": [
        {
          "output_type": "stream",
          "text": [
            "938/938 [==============================] - 43s 45ms/step - loss: 0.6510 - acc: 0.0911 - val_loss: 12.3868 - val_acc: 0.0824\n"
          ],
          "name": "stdout"
        },
        {
          "output_type": "execute_result",
          "data": {
            "text/plain": [
              "<tensorflow.python.keras.callbacks.History at 0x7fb040052828>"
            ]
          },
          "metadata": {
            "tags": []
          },
          "execution_count": 18
        }
      ]
    },
    {
      "cell_type": "code",
      "metadata": {
        "id": "veOTOonNyxSs"
      },
      "source": [
        "import matplotlib.pyplot as plt\r\n",
        "import numpy as np"
      ],
      "execution_count": 19,
      "outputs": []
    },
    {
      "cell_type": "code",
      "metadata": {
        "colab": {
          "base_uri": "https://localhost:8080/"
        },
        "id": "Se-Y6L200FH-",
        "outputId": "bada9cd4-af40-4e42-db72-e7eee89e0f05"
      },
      "source": [
        "with tf.device(\"CPU:0\"):\r\n",
        "    model = build_model(True)\r\n",
        "    model.set_weights(model.get_weights())\r\n",
        "    result = model.predict(tf.expand_dims(xtrn[0], 0))\r\n",
        "    print(f\"result {result}\")\r\n",
        "    print(tf.argmax(result, 1))\r\n",
        "    print(np.argmax(result))"
      ],
      "execution_count": 20,
      "outputs": [
        {
          "output_type": "stream",
          "text": [
            "with Gpu\n",
            "result [[ 0.02658391  0.00368165  0.06408019 -0.11469118 -0.03785234  0.10062922\n",
            "  -0.05930409  0.18749768  0.02851194 -0.04000201]]\n",
            "tf.Tensor([7], shape=(1,), dtype=int64)\n",
            "7\n"
          ],
          "name": "stdout"
        }
      ]
    },
    {
      "cell_type": "code",
      "metadata": {
        "colab": {
          "base_uri": "https://localhost:8080/",
          "height": 281
        },
        "id": "omJFpTYM0nJj",
        "outputId": "e2c86d1c-171f-42b7-aedc-78f5ce7b74b2"
      },
      "source": [
        "plt.imshow(xtrn[0])"
      ],
      "execution_count": 21,
      "outputs": [
        {
          "output_type": "execute_result",
          "data": {
            "text/plain": [
              "<matplotlib.image.AxesImage at 0x7faff017b7f0>"
            ]
          },
          "metadata": {
            "tags": []
          },
          "execution_count": 21
        },
        {
          "output_type": "display_data",
          "data": {
            "image/png": "[encoded data removed]",
            "text/plain": [
              "<Figure size 432x288 with 1 Axes>"
            ]
          },
          "metadata": {
            "tags": [],
            "needs_background": "light"
          }
        }
      ]
    },
    {
      "cell_type": "code",
      "metadata": {
        "id": "ZiFh3ViG06Oi"
      },
      "source": [
        "class NestedCell(tf.keras.layers.Layer):\r\n",
        "    def __init__(self, unit1, unit2, unit3, **kwargs):\r\n",
        "        self.unit1 = unit1\r\n",
        "        self.unit2 = unit2\r\n",
        "        self.unit3 = unit3\r\n",
        "        self.state_size = [tf.TensorShape([unit1]), tf.TensorShape([unit2, unit3])]\r\n",
        "        self.output_size = [tf.TensorShape([unit1]), tf.TensorShape([unit2, unit3])]\r\n",
        "        super(NestedCell, self).__init__(**kwargs)\r\n",
        "    def build(self, input_shape):\r\n",
        "        i1 = input_shape[0][1]\r\n",
        "        i2 = input_shape[1][1]\r\n",
        "        i3 = input_shape[1][2]\r\n",
        "        self.kernel_1 = self.add_weight(shape=(i1, self.unit1), initializer=\"uniform\", name=\"kernel_1\")\r\n",
        "        self.kernel_2_3 = self.add_weight(shape=(i2, i3, self.unit2, self.unit3), initializer=\"uniform\", name=\"kernel_2_3\")\r\n",
        "    def call(self, inputs, states):\r\n",
        "        input_1, input_2 = tf.nest.flatten(inputs)\r\n",
        "        s1, s2 = states\r\n",
        "        output_1 = tf.matmul(input_1, self.kernel_1)\r\n",
        "        output_2_3 = tf.einsum(\"bij,ijkl->bkl\", input_2, self.kernel_2_3)\r\n",
        "        state_1 = s1 + output_1\r\n",
        "        state_2_3 = s2 + output_2_3\r\n",
        "\r\n",
        "        output = (output_1, output_2_3)\r\n",
        "        new_state = (state_1, state_2_3)\r\n",
        "        return output, new_state\r\n",
        "    def get_config(self):\r\n",
        "        return {\"unit1\": self.unit1, \"unit2\": self.unit2, \"unit3\": self.unit3}"
      ],
      "execution_count": 88,
      "outputs": []
    },
    {
      "cell_type": "code",
      "metadata": {
        "id": "-QG7Xh8lt63d"
      },
      "source": [
        "unit_1 = 10\r\n",
        "unit_2 = 20\r\n",
        "unit_3 = 30\r\n",
        "\r\n",
        "i1 = 32\r\n",
        "i2 = 64\r\n",
        "i3 = 32\r\n",
        "\r\n",
        "batch_size = 64\r\n",
        "num_batches = 10\r\n",
        "timestep = 50"
      ],
      "execution_count": 89,
      "outputs": []
    },
    {
      "cell_type": "code",
      "metadata": {
        "id": "No6yn_qZuUtY"
      },
      "source": [
        "cell = NestedCell(unit_1, unit_2, unit_3)\r\n",
        "rnn = tf.keras.layers.RNN(cell)"
      ],
      "execution_count": 90,
      "outputs": []
    },
    {
      "cell_type": "code",
      "metadata": {
        "id": "axR98r2Suf89"
      },
      "source": [
        "input_1 = tf.keras.Input((None, i1))\r\n",
        "input_2 = tf.keras.Input((None, i2, i3))"
      ],
      "execution_count": 91,
      "outputs": []
    },
    {
      "cell_type": "code",
      "metadata": {
        "id": "5DbSHPqsvoRW"
      },
      "source": [
        "outputs = rnn((input_1, input_2))"
      ],
      "execution_count": 92,
      "outputs": []
    },
    {
      "cell_type": "code",
      "metadata": {
        "id": "Fw2-UaBCvyF8"
      },
      "source": [
        "model = tf.keras.Model([input_1, input_2], outputs)"
      ],
      "execution_count": 93,
      "outputs": []
    },
    {
      "cell_type": "code",
      "metadata": {
        "id": "Uup787I4w2cN"
      },
      "source": [
        "model.compile(optimizer=\"adam\", loss=\"mse\", metrics=[\"accuracy\"])"
      ],
      "execution_count": 94,
      "outputs": []
    },
    {
      "cell_type": "code",
      "metadata": {
        "id": "3fNChhnkxJmv"
      },
      "source": [
        "input_1_data = np.random.random((batch_size * num_batches, timestep, i1))\r\n",
        "input_2_data = np.random.random((batch_size * num_batches, timestep, i2, i3))\r\n",
        "target_1_data = np.random.random((batch_size * num_batches, unit_1))\r\n",
        "target_2_data = np.random.random((batch_size * num_batches, unit_2, unit_3))"
      ],
      "execution_count": 95,
      "outputs": []
    },
    {
      "cell_type": "code",
      "metadata": {
        "id": "hRGmZqbEyK4z"
      },
      "source": [
        "input_data = [input_1_data, input_2_data]\r\n",
        "target_data = [target_1_data, target_2_data]"
      ],
      "execution_count": 96,
      "outputs": []
    },
    {
      "cell_type": "code",
      "metadata": {
        "colab": {
          "base_uri": "https://localhost:8080/"
        },
        "id": "HR29EnOqyl-P",
        "outputId": "4f6bc03a-4406-4e7e-8bee-fd31e40a5d05"
      },
      "source": [
        "model.fit(input_data, target_data, batch_size=batch_size)"
      ],
      "execution_count": 97,
      "outputs": [
        {
          "output_type": "stream",
          "text": [
            "10/10 [==============================] - 1s 38ms/step - loss: 0.8712 - rnn_9_loss: 0.2946 - rnn_9_1_loss: 0.5765 - rnn_9_accuracy: 0.0991 - rnn_9_1_accuracy: 0.0288\n"
          ],
          "name": "stdout"
        },
        {
          "output_type": "execute_result",
          "data": {
            "text/plain": [
              "<tensorflow.python.keras.callbacks.History at 0x7fafc1a9aef0>"
            ]
          },
          "metadata": {
            "tags": []
          },
          "execution_count": 97
        }
      ]
    },
    {
      "cell_type": "code",
      "metadata": {
        "id": "I3pyi-eOyuIU"
      },
      "source": [
        ""
      ],
      "execution_count": null,
      "outputs": []
    }
  ]
}