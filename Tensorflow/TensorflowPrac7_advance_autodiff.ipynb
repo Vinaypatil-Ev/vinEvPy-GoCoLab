{
  "nbformat": 4,
  "nbformat_minor": 0,
  "metadata": {
    "colab": {
      "name": "TensorflowPrac7_advance autodiff.ipynb",
      "provenance": [],
      "collapsed_sections": [],
      "authorship_tag": "ABX9TyON3ib/LE7U7VBgd8TVUWx3",
      "include_colab_link": true
    },
    "kernelspec": {
      "name": "python3",
      "display_name": "Python 3"
    }
  },
  "cells": [
    {
      "cell_type": "markdown",
      "metadata": {
        "id": "view-in-github",
        "colab_type": "text"
      },
      "source": [
        "<a href=\"https://colab.research.google.com/github/Vinaypatil-Ev/vinEvPy-GoCoLab/blob/main/Tensorflow/TensorflowPrac7_advance_autodiff.ipynb\" target=\"_parent\"><img src=\"https://colab.research.google.com/assets/colab-badge.svg\" alt=\"Open In Colab\"/></a>"
      ]
    },
    {
      "cell_type": "markdown",
      "metadata": {
        "id": "_Y4ant6LVVS-"
      },
      "source": [
        "[link text](https://)# advance autodiff\r\n",
        "\r\n",
        "## advance automatic differentiation"
      ]
    },
    {
      "cell_type": "code",
      "metadata": {
        "id": "zhjuOchUW0wX"
      },
      "source": [
        "import tensorflow as tf\r\n",
        "import matplotlib as mpl\r\n",
        "import matplotlib.pyplot as plt\r\n",
        "\r\n",
        "mpl.rcParams['figure.figsize'] = (8, 6)"
      ],
      "execution_count": null,
      "outputs": []
    },
    {
      "cell_type": "markdown",
      "metadata": {
        "id": "xADIXcLlVnzg"
      },
      "source": [
        "## Controlling automactic gradient recording"
      ]
    },
    {
      "cell_type": "markdown",
      "metadata": {
        "id": "iR7l5wQS--Yb"
      },
      "source": [
        "### 1. *GradientTape().stop_recording()*"
      ]
    },
    {
      "cell_type": "code",
      "metadata": {
        "id": "we_3zXmjXH8p"
      },
      "source": [
        "x = tf.Variable(3.0)\r\n",
        "y = tf.Variable(2.0)\r\n",
        "wrt = {\"x\": x, \"y\": y}\r\n",
        "\r\n",
        "def Grad(grad):\r\n",
        "  print(grad[\"x\"])\r\n",
        "  print(grad[\"y\"])"
      ],
      "execution_count": null,
      "outputs": []
    },
    {
      "cell_type": "code",
      "metadata": {
        "id": "Q2laQqCEVlrs"
      },
      "source": [
        "with tf.GradientTape() as tape:\r\n",
        "  x2 = x * x\r\n",
        "  with tape.stop_recording():\r\n",
        "    y2 = y * y\r\n",
        "  \r\n",
        "  z = x2 + y2\r\n",
        "\r\n",
        "grad = tape.gradient(z, wrt)"
      ],
      "execution_count": null,
      "outputs": []
    },
    {
      "cell_type": "markdown",
      "metadata": {
        "id": "FY2FxsbWW_O4"
      },
      "source": [
        "### 2. GradientTape().reset()"
      ]
    },
    {
      "cell_type": "code",
      "metadata": {
        "colab": {
          "base_uri": "https://localhost:8080/"
        },
        "id": "s9zDefB7W-gY",
        "outputId": "0ffb7eb6-7ff7-480c-e987-723536caaf24"
      },
      "source": [
        "with tf.GradientTape() as tape:\r\n",
        "  y2 = y * y \r\n",
        "  tape.reset()\r\n",
        "  x2 = x * x\r\n",
        "\r\n",
        "  z = x2 + y2\r\n",
        "\r\n",
        "grad = tape.gradient(z, wrt)\r\n",
        "Grad(grad)"
      ],
      "execution_count": null,
      "outputs": [
        {
          "output_type": "stream",
          "text": [
            "tf.Tensor(6.0, shape=(), dtype=float32)\n",
            "None\n"
          ],
          "name": "stdout"
        }
      ]
    },
    {
      "cell_type": "markdown",
      "metadata": {
        "id": "LmNd8xfrX4G2"
      },
      "source": [
        "### 3. *tf.stop_gradient()*"
      ]
    },
    {
      "cell_type": "code",
      "metadata": {
        "colab": {
          "base_uri": "https://localhost:8080/"
        },
        "id": "PLYyTiRoX3Z_",
        "outputId": "6a754415-1189-4c61-e22c-d250b12b6a44"
      },
      "source": [
        "with tf.GradientTape() as tape:\r\n",
        "  x2 = x * x\r\n",
        "  y2 = y * y\r\n",
        "\r\n",
        "  z = x2 + tf.stop_gradient(y2)\r\n",
        "\r\n",
        "grad = tape.gradient(z, wrt)\r\n",
        "Grad(grad)"
      ],
      "execution_count": null,
      "outputs": [
        {
          "output_type": "stream",
          "text": [
            "tf.Tensor(6.0, shape=(), dtype=float32)\n",
            "None\n"
          ],
          "name": "stdout"
        }
      ]
    },
    {
      "cell_type": "markdown",
      "metadata": {
        "id": "3fVZlPcMYdqe"
      },
      "source": [
        "## Custom Gradients\r\n",
        "\r\n"
      ]
    },
    {
      "cell_type": "markdown",
      "metadata": {
        "id": "NFmc8hOj_BtX"
      },
      "source": [
        "### Controlling Gradient\r\n",
        "1. modify the value - \r\n",
        "  * *tf.clip_by_value()*, \r\n",
        "  * *tf.math.round()*, \r\n",
        "  * *tf.clip_by_norm()*\r\n",
        "\r\n",
        "### To write new gradient ops use\r\n",
        "  * *tf.costom_gradient* "
      ]
    },
    {
      "cell_type": "code",
      "metadata": {
        "id": "ALw8GEDY-u2W"
      },
      "source": [
        "@tf.custom_gradient\r\n",
        "def clip_gradient(y):\r\n",
        "  def backward(dy):\r\n",
        "    return tf.clip_by_norm(dy, 1)\r\n",
        "  return y, backward"
      ],
      "execution_count": null,
      "outputs": []
    },
    {
      "cell_type": "code",
      "metadata": {
        "colab": {
          "base_uri": "https://localhost:8080/"
        },
        "id": "NfUCBqbIApJ2",
        "outputId": "988dd170-5f0d-4fe0-84e0-98487b18a0ef"
      },
      "source": [
        "v = tf.Variable(5.0)\r\n",
        "with tf.GradientTape() as tape:\r\n",
        "  z = clip_gradient(v * v)\r\n",
        "\r\n",
        "tape.gradient(z, v)"
      ],
      "execution_count": null,
      "outputs": [
        {
          "output_type": "execute_result",
          "data": {
            "text/plain": [
              "<tf.Tensor: shape=(), dtype=float32, numpy=10.0>"
            ]
          },
          "metadata": {
            "tags": []
          },
          "execution_count": 7
        }
      ]
    },
    {
      "cell_type": "markdown",
      "metadata": {
        "id": "VsjrPzJeHutK"
      },
      "source": [
        "### Multiple tapes"
      ]
    },
    {
      "cell_type": "code",
      "metadata": {
        "id": "uGG_8MghDw6-"
      },
      "source": [
        "v = tf.Variable(0.0)\r\n",
        "u = tf.Variable(0.0)\r\n",
        "with tf.GradientTape() as tape1, tf.GradientTape() as tape2:\r\n",
        "  tape1.watch(u)\r\n",
        "  tape2.watch(v)\r\n",
        "\r\n",
        "  x = tf.math.sin(u)\r\n",
        "  y = tf.nn.sigmoid(v)\r\n",
        "\r\n",
        "  w = 2 * x + 6 * y ** 2\r\n",
        "\r\n",
        "  z = tf.reduce_sum(w)"
      ],
      "execution_count": null,
      "outputs": []
    },
    {
      "cell_type": "code",
      "metadata": {
        "colab": {
          "base_uri": "https://localhost:8080/"
        },
        "id": "M9xunRSaIzLx",
        "outputId": "305d7611-0280-4b66-9c0f-e30bf570684d"
      },
      "source": [
        "tape1.gradient(z, u) # 2 * d_du(x) + 6 * d_du(y ** 2) => 2 * d_du(sin(u)) + 0 => 2 * cos(0) = 2"
      ],
      "execution_count": null,
      "outputs": [
        {
          "output_type": "execute_result",
          "data": {
            "text/plain": [
              "<tf.Tensor: shape=(), dtype=float32, numpy=2.0>"
            ]
          },
          "metadata": {
            "tags": []
          },
          "execution_count": 9
        }
      ]
    },
    {
      "cell_type": "code",
      "metadata": {
        "colab": {
          "base_uri": "https://localhost:8080/"
        },
        "id": "9_NO_6AnI9jT",
        "outputId": "4eaf55f7-46de-4c42-ef9f-fb55f49c7ece"
      },
      "source": [
        "tape2.gradient(w, v) # 0 + 6 * d_dv(y ** 2) => 6 * 2 * sig(v) * sig(v)*(1 - sig(v))"
      ],
      "execution_count": null,
      "outputs": [
        {
          "output_type": "execute_result",
          "data": {
            "text/plain": [
              "<tf.Tensor: shape=(), dtype=float32, numpy=1.5>"
            ]
          },
          "metadata": {
            "tags": []
          },
          "execution_count": 10
        }
      ]
    },
    {
      "cell_type": "code",
      "metadata": {
        "colab": {
          "base_uri": "https://localhost:8080/"
        },
        "id": "LEVAGRjBJCsi",
        "outputId": "99bfacb4-9607-44be-9a3a-efd52c8c8e93"
      },
      "source": [
        "tf.nn.sigmoid(tf.Variable(0.0))"
      ],
      "execution_count": null,
      "outputs": [
        {
          "output_type": "execute_result",
          "data": {
            "text/plain": [
              "<tf.Tensor: shape=(), dtype=float32, numpy=0.5>"
            ]
          },
          "metadata": {
            "tags": []
          },
          "execution_count": 11
        }
      ]
    },
    {
      "cell_type": "code",
      "metadata": {
        "colab": {
          "base_uri": "https://localhost:8080/"
        },
        "id": "AH-LInWqKo1W",
        "outputId": "2ddf5c84-24d7-460d-d3d6-f0d682263ed5"
      },
      "source": [
        "12 * 0.5 * 0.5 * (1 - 0.5)"
      ],
      "execution_count": null,
      "outputs": [
        {
          "output_type": "execute_result",
          "data": {
            "text/plain": [
              "1.5"
            ]
          },
          "metadata": {
            "tags": []
          },
          "execution_count": 12
        }
      ]
    },
    {
      "cell_type": "markdown",
      "metadata": {
        "id": "DOiCvIsjK5Gm"
      },
      "source": [
        "### Higher order gradient"
      ]
    },
    {
      "cell_type": "code",
      "metadata": {
        "id": "4VaM8_elK1Tk"
      },
      "source": [
        "x = tf.Variable(1.0)\r\n",
        "\r\n",
        "with tf.GradientTape() as tape2:\r\n",
        "  with tf.GradientTape() as tape1:\r\n",
        "    y = x * x * x\r\n",
        "    d_dx = tape1.gradient(y, x)\r\n",
        "d2_dx2 = tape2.gradient(d_dx, x)\r\n"
      ],
      "execution_count": null,
      "outputs": []
    },
    {
      "cell_type": "code",
      "metadata": {
        "colab": {
          "base_uri": "https://localhost:8080/"
        },
        "id": "rbAYS6tsLdbW",
        "outputId": "7297b327-f20e-4fbc-9a64-9351a4356ea0"
      },
      "source": [
        "print('d_dx:', d_dx) \r\n",
        "print('d2_dx2:', d2_dx2)"
      ],
      "execution_count": null,
      "outputs": [
        {
          "output_type": "stream",
          "text": [
            "d_dx: tf.Tensor(3.0, shape=(), dtype=float32)\n",
            "d2_dx2: tf.Tensor(6.0, shape=(), dtype=float32)\n"
          ],
          "name": "stdout"
        }
      ]
    },
    {
      "cell_type": "markdown",
      "metadata": {
        "id": "xR81GigpYjZB"
      },
      "source": [
        "### Input gradient Regularization:\r\n",
        "1. calculate gradient of output with respect to input using inner tape\r\n",
        "2. calculate magnitude of that input gradient\r\n",
        "3. calculate gradient of magnitude with respect to model"
      ]
    },
    {
      "cell_type": "code",
      "metadata": {
        "id": "aezXG6nXM4TO"
      },
      "source": [
        "x = tf.random.normal([7, 6])\r\n",
        "layer = tf.keras.layers.Dense(10, activation=\"relu\")"
      ],
      "execution_count": null,
      "outputs": []
    },
    {
      "cell_type": "code",
      "metadata": {
        "colab": {
          "base_uri": "https://localhost:8080/"
        },
        "id": "JJO1ZcQzZtiD",
        "outputId": "bd9b2b4b-cf0a-415e-91d3-84d143aa95dc"
      },
      "source": [
        "with tf.GradientTape() as tape1:\r\n",
        "  with tf.GradientTape() as tape2:\r\n",
        "    tape2.watch(x)\r\n",
        "    y = layer(x)\r\n",
        "    out = tf.reduce_sum(y**2)\r\n",
        "\r\n",
        "  input = tape2.gradient(out, x)\r\n",
        "  mag = tf.norm(input)\r\n",
        "\r\n",
        "grad = tape1.gradient(mag, layer.trainable_variables)\r\n",
        "[var.shape for var in grad ]"
      ],
      "execution_count": null,
      "outputs": [
        {
          "output_type": "execute_result",
          "data": {
            "text/plain": [
              "[TensorShape([6, 10]), TensorShape([10])]"
            ]
          },
          "metadata": {
            "tags": []
          },
          "execution_count": 16
        }
      ]
    },
    {
      "cell_type": "markdown",
      "metadata": {
        "id": "8F1VtGGurc9J"
      },
      "source": [
        "## Jacobians\r\n",
        "\r\n",
        "### jacobian matrix: It is matrix of gradients of vector valued function \r\n",
        "\r\n",
        "### *GradientTape().jacobian()*"
      ]
    },
    {
      "cell_type": "markdown",
      "metadata": {
        "id": "QnI8vJoW6cYe"
      },
      "source": [
        "#### 1. scalar source"
      ]
    },
    {
      "cell_type": "markdown",
      "metadata": {
        "id": "qA9fvTIA6cSC"
      },
      "source": [
        ""
      ]
    },
    {
      "cell_type": "code",
      "metadata": {
        "colab": {
          "base_uri": "https://localhost:8080/"
        },
        "id": "GkuXRAj26bTQ",
        "outputId": "1ea59f0d-f48b-423f-a71a-26ef9a60fd0f"
      },
      "source": [
        "x = tf.linspace(-10.0, 10.0, 200+1)\r\n",
        "delta = tf.Variable(0.0)\r\n",
        "with tf.GradientTape() as tape:\r\n",
        "  y = tf.nn.sigmoid(x + delta)\r\n",
        "d_dx = tape.jacobian(y, delta)\r\n",
        "d_dx.shape"
      ],
      "execution_count": null,
      "outputs": [
        {
          "output_type": "execute_result",
          "data": {
            "text/plain": [
              "TensorShape([201])"
            ]
          },
          "metadata": {
            "tags": []
          },
          "execution_count": 17
        }
      ]
    },
    {
      "cell_type": "markdown",
      "metadata": {
        "id": "JDR-h4pV-s2c"
      },
      "source": [
        "#### 2. tensor source"
      ]
    },
    {
      "cell_type": "code",
      "metadata": {
        "colab": {
          "base_uri": "https://localhost:8080/"
        },
        "id": "K3YVtBJtxh4O",
        "outputId": "606597f6-8b57-43ac-dcec-fd08b357c641"
      },
      "source": [
        "x = tf.random.normal([7, 5])\r\n",
        "layer = tf.keras.layers.Dense(10, activation=tf.nn.relu)\r\n",
        "with tf.GradientTape() as tape:\r\n",
        "  y = layer(x)\r\n",
        "gradj = tape.jacobian(y, layer.trainable_variables)\r\n",
        "[var.shape for var in gradj]"
      ],
      "execution_count": null,
      "outputs": [
        {
          "output_type": "execute_result",
          "data": {
            "text/plain": [
              "[TensorShape([7, 10, 5, 10]), TensorShape([7, 10, 10])]"
            ]
          },
          "metadata": {
            "tags": []
          },
          "execution_count": 18
        }
      ]
    },
    {
      "cell_type": "code",
      "metadata": {
        "colab": {
          "base_uri": "https://localhost:8080/"
        },
        "id": "zmkD3ApyA9Z-",
        "outputId": "a50c1479-c2cf-43ba-8db4-ffe4deb0e76b"
      },
      "source": [
        "x = tf.random.normal([7, 5])\r\n",
        "layer = tf.keras.layers.Dense(10, activation=tf.nn.relu)\r\n",
        "with tf.GradientTape() as tape:\r\n",
        "  y = layer(x)\r\n",
        "gradk = tape.gradient(y, layer.trainable_variables)\r\n",
        "[var.shape for var in gradk]"
      ],
      "execution_count": null,
      "outputs": [
        {
          "output_type": "execute_result",
          "data": {
            "text/plain": [
              "[TensorShape([5, 10]), TensorShape([10])]"
            ]
          },
          "metadata": {
            "tags": []
          },
          "execution_count": 19
        }
      ]
    },
    {
      "cell_type": "code",
      "metadata": {
        "id": "iJgCmyGYB0C_"
      },
      "source": [
        "j = tf.reduce_sum(gradj[0], axis=[0, 1])"
      ],
      "execution_count": null,
      "outputs": []
    },
    {
      "cell_type": "code",
      "metadata": {
        "colab": {
          "base_uri": "https://localhost:8080/"
        },
        "id": "h42GWWx9C8RZ",
        "outputId": "c8085fcd-2fc9-4ebf-b3fc-f1a251ccea9d"
      },
      "source": [
        "delta = tf.reduce_max(abs(gradk[0] - j)).numpy()\r\n",
        "delta"
      ],
      "execution_count": null,
      "outputs": [
        {
          "output_type": "execute_result",
          "data": {
            "text/plain": [
              "5.967914"
            ]
          },
          "metadata": {
            "tags": []
          },
          "execution_count": 21
        }
      ]
    },
    {
      "cell_type": "markdown",
      "metadata": {
        "id": "Yity_9E_D5Jv"
      },
      "source": [
        "### Hessein matrix"
      ]
    },
    {
      "cell_type": "code",
      "metadata": {
        "id": "5G5n_9H-Dcsi"
      },
      "source": [
        "x = tf.random.normal([5, 6])\r\n",
        "layer1 = tf.keras.layers.Dense(7, activation=\"relu\")\r\n",
        "layer2 = tf.keras.layers.Dense(8, activation=\"relu\")"
      ],
      "execution_count": null,
      "outputs": []
    },
    {
      "cell_type": "code",
      "metadata": {
        "id": "B9dd9LBGEP2L"
      },
      "source": [
        "with tf.GradientTape() as tape:\r\n",
        "  with tf.GradientTape() as tapei:\r\n",
        "    x = layer1(x)\r\n",
        "    x = layer2(x)\r\n",
        "    loss = tf.reduce_mean(x**2)\r\n",
        "  \r\n",
        "  d_dx = tapei.gradient(loss, layer1.kernel)\r\n",
        "\r\n",
        "grad = tape.jacobian(d_dx, layer1.kernel)"
      ],
      "execution_count": null,
      "outputs": []
    },
    {
      "cell_type": "code",
      "metadata": {
        "colab": {
          "base_uri": "https://localhost:8080/"
        },
        "id": "zHRcQdGXE_L8",
        "outputId": "75d779a4-b9ca-47c2-ef14-8b70bd561a10"
      },
      "source": [
        "grad.shape"
      ],
      "execution_count": null,
      "outputs": [
        {
          "output_type": "execute_result",
          "data": {
            "text/plain": [
              "TensorShape([6, 7, 6, 7])"
            ]
          },
          "metadata": {
            "tags": []
          },
          "execution_count": 24
        }
      ]
    },
    {
      "cell_type": "code",
      "metadata": {
        "colab": {
          "base_uri": "https://localhost:8080/"
        },
        "id": "nhJQMNu1FZez",
        "outputId": "c91e2577-336f-4635-d1b8-e866a77a743a"
      },
      "source": [
        "layer1.kernel.shape"
      ],
      "execution_count": null,
      "outputs": [
        {
          "output_type": "execute_result",
          "data": {
            "text/plain": [
              "TensorShape([6, 7])"
            ]
          },
          "metadata": {
            "tags": []
          },
          "execution_count": 25
        }
      ]
    },
    {
      "cell_type": "code",
      "metadata": {
        "colab": {
          "base_uri": "https://localhost:8080/"
        },
        "id": "FbHs6IrxFu-l",
        "outputId": "2823d75f-549c-48ae-d258-5eb7c69cc12c"
      },
      "source": [
        "layer2.kernel.shape"
      ],
      "execution_count": null,
      "outputs": [
        {
          "output_type": "execute_result",
          "data": {
            "text/plain": [
              "TensorShape([7, 8])"
            ]
          },
          "metadata": {
            "tags": []
          },
          "execution_count": 26
        }
      ]
    },
    {
      "cell_type": "code",
      "metadata": {
        "colab": {
          "base_uri": "https://localhost:8080/"
        },
        "id": "vjWWJK_AFyfE",
        "outputId": "3fca09c9-e903-4929-aa31-c207a3d7b245"
      },
      "source": [
        "n_params = tf.reduce_prod(layer1.kernel.shape)\r\n",
        "n_params"
      ],
      "execution_count": null,
      "outputs": [
        {
          "output_type": "execute_result",
          "data": {
            "text/plain": [
              "<tf.Tensor: shape=(), dtype=int32, numpy=42>"
            ]
          },
          "metadata": {
            "tags": []
          },
          "execution_count": 27
        }
      ]
    },
    {
      "cell_type": "code",
      "metadata": {
        "id": "zH09DBTDGUM1"
      },
      "source": [
        "g = tf.reshape(d_dx, [n_params, 1])\r\n",
        "h = tf.reshape(grad, [n_params, n_params])"
      ],
      "execution_count": null,
      "outputs": []
    },
    {
      "cell_type": "code",
      "metadata": {
        "id": "zoxX062iH__E"
      },
      "source": [
        "def imshow_zero_center(image, **kwargs):\r\n",
        "  lim = tf.reduce_max(abs(image))\r\n",
        "  plt.imshow(image, vmin=-lim, vmax=lim, cmap='seismic', **kwargs)\r\n",
        "  plt.colorbar()"
      ],
      "execution_count": null,
      "outputs": []
    },
    {
      "cell_type": "code",
      "metadata": {
        "id": "CvNluurQIIT-"
      },
      "source": [
        "def hm_show(img):\r\n",
        "  lim = tf.reduce_max(abs(img))\r\n",
        "  plt.imshow(img, vmin=-lim, vmax=lim, cmap=\"seismic\")\r\n",
        "  plt.colorbar()"
      ],
      "execution_count": null,
      "outputs": []
    },
    {
      "cell_type": "code",
      "metadata": {
        "colab": {
          "base_uri": "https://localhost:8080/",
          "height": 267
        },
        "id": "b7ufDTzMIlDK",
        "outputId": "d991a30e-9a2e-4667-847e-88295d96e59d"
      },
      "source": [
        "hm_show(h)"
      ],
      "execution_count": null,
      "outputs": [
        {
          "output_type": "display_data",
          "data": {
            "image/png": "[encoded data removed]",
            "text/plain": [
              "<Figure size 432x288 with 2 Axes>"
            ]
          },
          "metadata": {
            "tags": [],
            "needs_background": "light"
          }
        }
      ]
    },
    {
      "cell_type": "code",
      "metadata": {
        "colab": {
          "base_uri": "https://localhost:8080/"
        },
        "id": "yfT9TBFZI59q",
        "outputId": "7603252e-a9fe-42e1-ac45-436c59614262"
      },
      "source": [
        "1e-2"
      ],
      "execution_count": null,
      "outputs": [
        {
          "output_type": "execute_result",
          "data": {
            "text/plain": [
              "0.01"
            ]
          },
          "metadata": {
            "tags": []
          },
          "execution_count": 32
        }
      ]
    },
    {
      "cell_type": "code",
      "metadata": {
        "id": "xmQ0YuVhI9uI"
      },
      "source": [
        "eye = tf.eye(h.shape[0]) * 1e-3"
      ],
      "execution_count": null,
      "outputs": []
    },
    {
      "cell_type": "code",
      "metadata": {
        "id": "8HE5hgwaJudp"
      },
      "source": [
        "update = tf.linalg.solve(h + eye, g)"
      ],
      "execution_count": null,
      "outputs": []
    },
    {
      "cell_type": "code",
      "metadata": {
        "id": "nTlBTayoJ4O2"
      },
      "source": [
        "_ = layer1.kernel.assign_sub(tf.reshape(update, layer1.kernel.shape))"
      ],
      "execution_count": null,
      "outputs": []
    },
    {
      "cell_type": "code",
      "metadata": {
        "colab": {
          "base_uri": "https://localhost:8080/"
        },
        "id": "BgFjcIvcKRjP",
        "outputId": "119e40a9-01da-47a4-d0de-67d47b8c8d78"
      },
      "source": [
        "layer1.kernel == update"
      ],
      "execution_count": null,
      "outputs": [
        {
          "output_type": "execute_result",
          "data": {
            "text/plain": [
              "<tf.Tensor: shape=(), dtype=bool, numpy=False>"
            ]
          },
          "metadata": {
            "tags": []
          },
          "execution_count": 36
        }
      ]
    },
    {
      "cell_type": "markdown",
      "metadata": {
        "id": "Xowf8ahhK0kx"
      },
      "source": [
        "## Batch jacobian"
      ]
    },
    {
      "cell_type": "code",
      "metadata": {
        "id": "zK36td2jQ_HB"
      },
      "source": [
        "x = tf.random.normal([6, 7]) \r\n",
        "layer1 = tf.keras.layers.Dense(10, activation=\"elu\")\r\n",
        "layer2 = tf.keras.layers.Dense(10, activation=\"elu\")"
      ],
      "execution_count": null,
      "outputs": []
    },
    {
      "cell_type": "code",
      "metadata": {
        "id": "pDsytPWkKUik"
      },
      "source": [
        "with tf.GradientTape(persistent=True, watch_accessed_variables=False) as tape:\r\n",
        "  tape.watch(x)\r\n",
        "  y = layer1(x)\r\n",
        "  y = layer2(y)"
      ],
      "execution_count": null,
      "outputs": []
    },
    {
      "cell_type": "code",
      "metadata": {
        "colab": {
          "base_uri": "https://localhost:8080/"
        },
        "id": "soOJCLufQFiR",
        "outputId": "ef5f0a9d-7fac-409c-c2c7-8f2c4bad51b6"
      },
      "source": [
        "tape.jacobian(y, x).shape"
      ],
      "execution_count": null,
      "outputs": [
        {
          "output_type": "execute_result",
          "data": {
            "text/plain": [
              "TensorShape([6, 10, 6, 7])"
            ]
          },
          "metadata": {
            "tags": []
          },
          "execution_count": 39
        }
      ]
    },
    {
      "cell_type": "code",
      "metadata": {
        "colab": {
          "base_uri": "https://localhost:8080/"
        },
        "id": "IM-RTLHcQJTt",
        "outputId": "566ff043-189b-48f1-c55e-e20f73653ba4"
      },
      "source": [
        "tape.batch_jacobian(y, x).shape"
      ],
      "execution_count": null,
      "outputs": [
        {
          "output_type": "stream",
          "text": [
            "WARNING:tensorflow:5 out of the last 5 calls to <function pfor.<locals>.f at 0x7f2a60f3eea0> triggered tf.function retracing. Tracing is expensive and the excessive number of tracings could be due to (1) creating @tf.function repeatedly in a loop, (2) passing tensors with different shapes, (3) passing Python objects instead of tensors. For (1), please define your @tf.function outside of the loop. For (2), @tf.function has experimental_relax_shapes=True option that relaxes argument shapes that can avoid unnecessary retracing. For (3), please refer to https://www.tensorflow.org/guide/function#controlling_retracing and https://www.tensorflow.org/api_docs/python/tf/function for  more details.\n"
          ],
          "name": "stdout"
        },
        {
          "output_type": "execute_result",
          "data": {
            "text/plain": [
              "TensorShape([6, 10, 7])"
            ]
          },
          "metadata": {
            "tags": []
          },
          "execution_count": 40
        }
      ]
    },
    {
      "cell_type": "code",
      "metadata": {
        "id": "lqgjsfMtQVPs"
      },
      "source": [
        "bn = tf.keras.layers.BatchNormalization()"
      ],
      "execution_count": null,
      "outputs": []
    },
    {
      "cell_type": "code",
      "metadata": {
        "id": "kkJrzdo4RJ5R"
      },
      "source": [
        "with tf.GradientTape(persistent=True, watch_accessed_variables=False) as tape:\r\n",
        "  tape.watch(x)\r\n",
        "  y = layer1(x)\r\n",
        "  y = bn(y, training=True)\r\n",
        "  y = layer2(y)"
      ],
      "execution_count": null,
      "outputs": []
    },
    {
      "cell_type": "code",
      "metadata": {
        "colab": {
          "base_uri": "https://localhost:8080/"
        },
        "id": "DLiU81wIRYsf",
        "outputId": "aa59c5e9-8feb-4906-ab02-8971bea3e196"
      },
      "source": [
        "tape.jacobian(y, x).shape"
      ],
      "execution_count": null,
      "outputs": [
        {
          "output_type": "stream",
          "text": [
            "WARNING:tensorflow:6 out of the last 6 calls to <function pfor.<locals>.f at 0x7f2a61e59488> triggered tf.function retracing. Tracing is expensive and the excessive number of tracings could be due to (1) creating @tf.function repeatedly in a loop, (2) passing tensors with different shapes, (3) passing Python objects instead of tensors. For (1), please define your @tf.function outside of the loop. For (2), @tf.function has experimental_relax_shapes=True option that relaxes argument shapes that can avoid unnecessary retracing. For (3), please refer to https://www.tensorflow.org/guide/function#controlling_retracing and https://www.tensorflow.org/api_docs/python/tf/function for  more details.\n"
          ],
          "name": "stdout"
        },
        {
          "output_type": "execute_result",
          "data": {
            "text/plain": [
              "TensorShape([6, 10, 6, 7])"
            ]
          },
          "metadata": {
            "tags": []
          },
          "execution_count": 43
        }
      ]
    },
    {
      "cell_type": "code",
      "metadata": {
        "colab": {
          "base_uri": "https://localhost:8080/"
        },
        "id": "4wCiefviRiw4",
        "outputId": "a7991fa0-b2c3-4d1d-98c0-615cd0e8b5bf"
      },
      "source": [
        "tape.batch_jacobian(y, x).shape"
      ],
      "execution_count": null,
      "outputs": [
        {
          "output_type": "stream",
          "text": [
            "WARNING:tensorflow:7 out of the last 7 calls to <function pfor.<locals>.f at 0x7f2a60f78e18> triggered tf.function retracing. Tracing is expensive and the excessive number of tracings could be due to (1) creating @tf.function repeatedly in a loop, (2) passing tensors with different shapes, (3) passing Python objects instead of tensors. For (1), please define your @tf.function outside of the loop. For (2), @tf.function has experimental_relax_shapes=True option that relaxes argument shapes that can avoid unnecessary retracing. For (3), please refer to https://www.tensorflow.org/guide/function#controlling_retracing and https://www.tensorflow.org/api_docs/python/tf/function for  more details.\n"
          ],
          "name": "stdout"
        },
        {
          "output_type": "execute_result",
          "data": {
            "text/plain": [
              "TensorShape([6, 10, 7])"
            ]
          },
          "metadata": {
            "tags": []
          },
          "execution_count": 45
        }
      ]
    },
    {
      "cell_type": "code",
      "metadata": {
        "id": "gmqFSI7_RlaB"
      },
      "source": [
        ""
      ],
      "execution_count": null,
      "outputs": []
    }
  ]
}