{
  "nbformat": 4,
  "nbformat_minor": 0,
  "metadata": {
    "colab": {
      "name": "tensorflowPrac15_Making new layers and model via subclassing.ipynb",
      "provenance": [],
      "collapsed_sections": [],
      "authorship_tag": "ABX9TyNsWkoYKUvX6BT9Kxe9DXbN",
      "include_colab_link": true
    },
    "kernelspec": {
      "name": "python3",
      "display_name": "Python 3"
    }
  },
  "cells": [
    {
      "cell_type": "markdown",
      "metadata": {
        "id": "view-in-github",
        "colab_type": "text"
      },
      "source": [
        "<a href=\"https://colab.research.google.com/github/Vinaypatil-Ev/vinEvPy-GoCoLab/blob/main/Tensorflow/tensorflowPrac15_Making_new_layers_and_model_via_subclassing.ipynb\" target=\"_parent\"><img src=\"https://colab.research.google.com/assets/colab-badge.svg\" alt=\"Open In Colab\"/></a>"
      ]
    },
    {
      "cell_type": "code",
      "metadata": {
        "id": "9BtD0NVvMe3x"
      },
      "source": [
        "import tensorflow as tf"
      ],
      "execution_count": null,
      "outputs": []
    },
    {
      "cell_type": "markdown",
      "metadata": {
        "id": "cM9cMjdlbJZF"
      },
      "source": [
        "#Making new layers and model via subclassing"
      ]
    },
    {
      "cell_type": "code",
      "metadata": {
        "id": "-v61rG-SMsO_"
      },
      "source": [
        "class CustomLayer(tf.keras.layers.Layer):\r\n",
        "    def __init__(self, units=32, input_shape=32, name=None):\r\n",
        "        super(CustomLayer, self).__init__()\r\n",
        "        winit = tf.random_normal_initializer()\r\n",
        "        self.w = tf.Variable(winit(shape=(input_shape, units), dtype=\"float32\"),trainable=True)\r\n",
        "        binit = tf.zeros_initializer()                                                                                                                          \r\n",
        "        self.b = tf.Variable(binit(shape=(units, ), dtype=\"float32\"),trainable=True)\r\n",
        "    \r\n",
        "    def call(self, inputs):\r\n",
        "        return tf.matmul(inputs, self.w) + self.b"
      ],
      "execution_count": null,
      "outputs": []
    },
    {
      "cell_type": "code",
      "metadata": {
        "colab": {
          "base_uri": "https://localhost:8080/"
        },
        "id": "UZUA34-UdMOQ",
        "outputId": "c61c4f06-1e6f-4ef8-915f-511219113aae"
      },
      "source": [
        "CustomLayer(4, 2)(tf.ones((2, 2)))"
      ],
      "execution_count": null,
      "outputs": [
        {
          "output_type": "execute_result",
          "data": {
            "text/plain": [
              "<tf.Tensor: shape=(2, 4), dtype=float32, numpy=\n",
              "array([[ 0.0108623 ,  0.04544608,  0.15549019, -0.00733429],\n",
              "       [ 0.0108623 ,  0.04544608,  0.15549019, -0.00733429]],\n",
              "      dtype=float32)>"
            ]
          },
          "metadata": {
            "tags": []
          },
          "execution_count": 21
        }
      ]
    },
    {
      "cell_type": "markdown",
      "metadata": {
        "id": "-2-h17dUijz6"
      },
      "source": [
        "## instead of tf.variable use built in method add_weights"
      ]
    },
    {
      "cell_type": "code",
      "metadata": {
        "id": "i9T1edynh0qu"
      },
      "source": [
        "class CustomLayer2(tf.keras.layers.Layer):\r\n",
        "    def __init__(self, units=32, input_shape=32, name=None):\r\n",
        "        super(CustomLayer, self).__init__()\r\n",
        "        self.w = self.add_weight(shape=(input_shape, units), initializer=\"random_normal\", trainable=True)\r\n",
        "        self.b = self.add_weight(shape=(units,), initializer=\"zeros\", trainable=True)\r\n",
        "    \r\n",
        "    def call(self, inputs):\r\n",
        "        return tf.matmul(inputs, self.w) + self.b"
      ],
      "execution_count": null,
      "outputs": []
    },
    {
      "cell_type": "code",
      "metadata": {
        "colab": {
          "base_uri": "https://localhost:8080/"
        },
        "id": "clDT68kmjgG2",
        "outputId": "5f70e549-2778-4a44-cfcd-ab9901ef5005"
      },
      "source": [
        "CustomLayer(4, 2)(tf.ones((2, 2)))"
      ],
      "execution_count": null,
      "outputs": [
        {
          "output_type": "execute_result",
          "data": {
            "text/plain": [
              "<tf.Tensor: shape=(2, 4), dtype=float32, numpy=\n",
              "array([[ 0.05506737, -0.01353997,  0.03594418,  0.10485571],\n",
              "       [ 0.05506737, -0.01353997,  0.03594418,  0.10485571]],\n",
              "      dtype=float32)>"
            ]
          },
          "metadata": {
            "tags": []
          },
          "execution_count": 24
        }
      ]
    },
    {
      "cell_type": "markdown",
      "metadata": {
        "id": "inLV4nIroUOi"
      },
      "source": [
        "## for unknown input shape use buid method"
      ]
    },
    {
      "cell_type": "code",
      "metadata": {
        "id": "9TzmIgfOmfeT"
      },
      "source": [
        "class CustomLayer3(tf.keras.layers.Layer):\r\n",
        "    def __init__(self, units):\r\n",
        "        super(CustomLayer3, self).__init__()\r\n",
        "        self.units = units\r\n",
        "    \r\n",
        "    def build(self, input_shape):\r\n",
        "        self.w = self.add_weight(\r\n",
        "            shape=(input_shape[-1], self.units),\r\n",
        "            initializer = \"random_normal\",\r\n",
        "            trainable = True)\r\n",
        "        \r\n",
        "        self.b = self.add_weight(\r\n",
        "            shape=(self.units, ),\r\n",
        "            initializer = \"zeros\", \r\n",
        "            trainable = True\r\n",
        "        )\r\n",
        "    \r\n",
        "    def call(self, inputs):\r\n",
        "        return tf.matmul(inputs, self.w) + self.b"
      ],
      "execution_count": null,
      "outputs": []
    },
    {
      "cell_type": "code",
      "metadata": {
        "colab": {
          "base_uri": "https://localhost:8080/"
        },
        "id": "Itj8TI91rn-t",
        "outputId": "98dd29cd-7658-447a-dfc1-bbda42198f0c"
      },
      "source": [
        "CustomLayer3(4)(tf.ones((2, 2)))"
      ],
      "execution_count": null,
      "outputs": [
        {
          "output_type": "execute_result",
          "data": {
            "text/plain": [
              "<tf.Tensor: shape=(2, 4), dtype=float32, numpy=\n",
              "array([[-0.08039835, -0.09639128, -0.10998103, -0.0307427 ],\n",
              "       [-0.08039835, -0.09639128, -0.10998103, -0.0307427 ]],\n",
              "      dtype=float32)>"
            ]
          },
          "metadata": {
            "tags": []
          },
          "execution_count": 31
        }
      ]
    },
    {
      "cell_type": "markdown",
      "metadata": {
        "id": "MKbn-LJ7wctz"
      },
      "source": [
        "## Layer of composite layers"
      ]
    },
    {
      "cell_type": "code",
      "metadata": {
        "id": "mieN6phgsZnW"
      },
      "source": [
        "class CustomCompositeLayer(tf.keras.layers.Layer):\r\n",
        "    def __init__(self, units=1):\r\n",
        "        super(CustomCompositeLayer, self).__init__()\r\n",
        "        self.l1 = CustomLayer3(32)\r\n",
        "        self.l2 = CustomLayer3(32)\r\n",
        "        self.l3 = CustomLayer3(units)\r\n",
        "    \r\n",
        "    def call(self, inputs):\r\n",
        "        x = self.l1(inputs)\r\n",
        "        x = tf.nn.relu(x)\r\n",
        "        x = self.l2(x)\r\n",
        "        x = tf.nn.relu(x)\r\n",
        "        return self.l3(x)"
      ],
      "execution_count": null,
      "outputs": []
    },
    {
      "cell_type": "code",
      "metadata": {
        "colab": {
          "base_uri": "https://localhost:8080/"
        },
        "id": "VwpX3CMwxVoF",
        "outputId": "7f268fee-2da5-407c-a06e-ff10fd13adff"
      },
      "source": [
        "CustomCompositeLayer(4)(tf.ones((2, 2)))"
      ],
      "execution_count": null,
      "outputs": [
        {
          "output_type": "execute_result",
          "data": {
            "text/plain": [
              "<tf.Tensor: shape=(2, 4), dtype=float32, numpy=\n",
              "array([[-0.00239614,  0.00448852, -0.00289436, -0.00010922],\n",
              "       [-0.00239614,  0.00448852, -0.00289436, -0.00010922]],\n",
              "      dtype=float32)>"
            ]
          },
          "metadata": {
            "tags": []
          },
          "execution_count": 40
        }
      ]
    },
    {
      "cell_type": "markdown",
      "metadata": {
        "id": "RIA340OYx1Sf"
      },
      "source": [
        "## add_loss method in call"
      ]
    },
    {
      "cell_type": "code",
      "metadata": {
        "id": "Vs3f2GNaxn0z"
      },
      "source": [
        "class ActivityRegularizer(tf.keras.layers.Layer):\r\n",
        "    def __init__(self, rate):\r\n",
        "        super(ActivityRegularizer, self).__init__()\r\n",
        "        self.rate = rate \r\n",
        "\r\n",
        "    def call(self, inputs):\r\n",
        "        self.add_loss(self.rate * tf.reduce_sum(inputs))\r\n",
        "        return inputs\r\n"
      ],
      "execution_count": null,
      "outputs": []
    },
    {
      "cell_type": "code",
      "metadata": {
        "id": "zY3YoGMm2dAR"
      },
      "source": [
        "class LayerWithKernelRegularizer(tf.keras.layers.Layer):\r\n",
        "    def __init__(self, units):\r\n",
        "        super(LayerWithKernelRegularizer, self).__init__()\r\n",
        "        self.dense = tf.keras.layers.Dense(units, kernel_regularizer=tf.keras.regularizers.l2(1e-2))\r\n",
        "\r\n",
        "    def call(self, inputs):\r\n",
        "        return self.dense(inputs)"
      ],
      "execution_count": null,
      "outputs": []
    },
    {
      "cell_type": "code",
      "metadata": {
        "colab": {
          "base_uri": "https://localhost:8080/"
        },
        "id": "cntKnIre3hga",
        "outputId": "7f6be77b-952a-4ca6-c37f-d90c91a48923"
      },
      "source": [
        "l = LayerWithKernelRegularizer(4)\r\n",
        "l(tf.ones((2, 2)))"
      ],
      "execution_count": null,
      "outputs": [
        {
          "output_type": "execute_result",
          "data": {
            "text/plain": [
              "<tf.Tensor: shape=(2, 4), dtype=float32, numpy=\n",
              "array([[ 0.1426003 , -0.0952816 ,  0.3554337 , -0.10063767],\n",
              "       [ 0.1426003 , -0.0952816 ,  0.3554337 , -0.10063767]],\n",
              "      dtype=float32)>"
            ]
          },
          "metadata": {
            "tags": []
          },
          "execution_count": 48
        }
      ]
    },
    {
      "cell_type": "code",
      "metadata": {
        "colab": {
          "base_uri": "https://localhost:8080/"
        },
        "id": "qvlz1Te73snB",
        "outputId": "1b1d7524-530c-45c9-afde-49134f70d3e4"
      },
      "source": [
        "l.losses"
      ],
      "execution_count": null,
      "outputs": [
        {
          "output_type": "execute_result",
          "data": {
            "text/plain": [
              "[<tf.Tensor: shape=(), dtype=float32, numpy=0.0044373358>]"
            ]
          },
          "metadata": {
            "tags": []
          },
          "execution_count": 49
        }
      ]
    },
    {
      "cell_type": "markdown",
      "metadata": {
        "id": "ajV9c9Q8E5eK"
      },
      "source": [
        "## Auto encoder model"
      ]
    },
    {
      "cell_type": "code",
      "metadata": {
        "id": "fSyFg_e0owgY"
      },
      "source": [
        "import tensorflow as tf"
      ],
      "execution_count": null,
      "outputs": []
    },
    {
      "cell_type": "code",
      "metadata": {
        "id": "PsWb5mGY9xD1"
      },
      "source": [
        "class Sampling(tf.keras.layers.Layer):\r\n",
        "    def call(self, inputs):\r\n",
        "        x, y = inputs\r\n",
        "        batch = tf.shape(x)[0]\r\n",
        "        dim = tf.shape(x)[1]\r\n",
        "        epsilon = tf.keras.backend.random_normal(shape=(batch, dim))\r\n",
        "        return x + tf.exp(0.5 * y) * epsilon\r\n",
        "\r\n",
        "class Encoder(tf.keras.layers.Layer):\r\n",
        "    def __init__(self, outerdim, innerdim, name=\"Encoder\", **kwargs):\r\n",
        "        super(Encoder, self).__init__(name=name, **kwargs)\r\n",
        "        self.In = tf.keras.layers.Dense(outerdim, activation=\"relu\")\r\n",
        "        self.elr1 = tf.keras.layers.Dense(innerdim)\r\n",
        "        self.elr2 = tf.keras.layers.Dense(innerdim)\r\n",
        "        self.sampling = Sampling()\r\n",
        "    \r\n",
        "    def call(self, inputs):\r\n",
        "        x = self.In(inputs)\r\n",
        "        zmean = self.elr1(x)\r\n",
        "        zvar = self.elr2(x)\r\n",
        "        z = Sampling((zmean, zvar))\r\n",
        "        return zmean, zvar, z"
      ],
      "execution_count": null,
      "outputs": []
    },
    {
      "cell_type": "code",
      "metadata": {
        "id": "Lo_KtvtZKnrE"
      },
      "source": [
        "class Decoder(tf.keras.layers.Layer):\r\n",
        "    def __init__(self, originaldim, outerdim, name=\"Decoder\", **kwargs):\r\n",
        "        super(Decoder, self).__init__(name=name, **kwargs)\r\n",
        "        self.dlr1 = tf.keras.layers.Dense(outerdim, activation=\"relu\")\r\n",
        "        self.Out = tf.keras.layers.Dense(originaldim, activation=\"sigmoid\") \r\n",
        "    \r\n",
        "    def call(self, inputs):\r\n",
        "        x = self.dlr1(inputs)\r\n",
        "        return self.Out(x)"
      ],
      "execution_count": null,
      "outputs": []
    },
    {
      "cell_type": "code",
      "metadata": {
        "id": "6XDJyJ_uQgM7"
      },
      "source": [
        "class VariationAutoEncoder(tf.keras.Model):\r\n",
        "    def __init__(self,originaldim, outerdim, innerdim, name=\"VAE\", **kwargs):\r\n",
        "        super(VariationAutoEncoder, self).__init__(name=name, **kwargs)\r\n",
        "        self.originaldim = originaldim\r\n",
        "        self.encoders = Encoder(outerdim, innerdim)\r\n",
        "        self.decoders = Decoder(originaldim, outerdim)\r\n",
        "    \r\n",
        "    def call(self, inputs):\r\n",
        "        zmean, zvar, z = self.encoders(inputs)\r\n",
        "        reconstructed = self.decoders(z)\r\n",
        "\r\n",
        "        kl_loss = -0.5 * tf.reduce_mean(zvar, tf.square(zmean) - tf.exp(zvar) + 1)\r\n",
        "\r\n",
        "        self.add_loss(kl_loss)\r\n",
        "        return reconstructed"
      ],
      "execution_count": null,
      "outputs": []
    },
    {
      "cell_type": "code",
      "metadata": {
        "id": "Pr9yS7YxemcK"
      },
      "source": [
        "(xtrn, _), (_, _) = tf.keras.datasets.mnist.load_data()\r\n",
        "xtrn = xtrn.reshape(60000, 784).astype(\"float32\") / 255\r\n",
        "trn_data = tf.data.Dataset.from_tensor_slices(xtrn)\r\n",
        "trn_data = trn_data.shuffle(1024).batch(64)"
      ],
      "execution_count": null,
      "outputs": []
    },
    {
      "cell_type": "code",
      "metadata": {
        "id": "N2EpH-yEpkzK"
      },
      "source": [
        ""
      ],
      "execution_count": null,
      "outputs": []
    },
    {
      "cell_type": "code",
      "metadata": {
        "colab": {
          "base_uri": "https://localhost:8080/",
          "height": 386
        },
        "id": "e8gnrelZSf64",
        "outputId": "5d74c15b-5ab9-497c-a366-86656e1c034b"
      },
      "source": [
        "originaldim = 748\r\n",
        "outerdim = 64\r\n",
        "innerdim = 32\r\n",
        "\r\n",
        "mse_loss = tf.keras.losses.MeanSquaredError()\r\n",
        "loss_metric = tf.keras.metrics.Mean()\r\n",
        "optimizer = tf.keras.optimizers.Adam(1e-3)\r\n",
        "vae = VariationAutoEncoder(784, 64, 32)\r\n",
        "\r\n",
        "epochs = 2\r\n",
        "\r\n",
        "for epoch in range(epochs):\r\n",
        "    print(f\"epoch: {epoch}\")\r\n",
        "    for steps, x_batch_train in enumerate(trn_data):\r\n",
        "        with tf.GradientTape() as tape:\r\n",
        "            reconstructed = vae(x_batch_train)\r\n",
        "            loss = mse(x_batch_train, reconstructed)\r\n",
        "            loss += sum(vae.losses)\r\n",
        "        \r\n",
        "        grad = tape.gradient(loss, vae.trainable_variables)\r\n",
        "        optimizer.apply_gradients(zip(grad, vae.trainable_variables))\r\n",
        "\r\n",
        "        loss_metric(loss)\r\n",
        "\r\n",
        "        if steps % 100 == 0:\r\n",
        "            print(\"step %d: mean loss = %0.4f\" % (steps, loss_metric.result()))"
      ],
      "execution_count": null,
      "outputs": [
        {
          "output_type": "stream",
          "text": [
            "epoch: 0\n"
          ],
          "name": "stdout"
        },
        {
          "output_type": "error",
          "ename": "TypeError",
          "evalue": "ignored",
          "traceback": [
            "\u001b[0;31m---------------------------------------------------------------------------\u001b[0m",
            "\u001b[0;31mTypeError\u001b[0m                                 Traceback (most recent call last)",
            "\u001b[0;32m<ipython-input-33-a81fcddece88>\u001b[0m in \u001b[0;36m<module>\u001b[0;34m()\u001b[0m\n\u001b[1;32m     14\u001b[0m     \u001b[0;32mfor\u001b[0m \u001b[0msteps\u001b[0m\u001b[0;34m,\u001b[0m \u001b[0mx_batch_train\u001b[0m \u001b[0;32min\u001b[0m \u001b[0menumerate\u001b[0m\u001b[0;34m(\u001b[0m\u001b[0mtrn_data\u001b[0m\u001b[0;34m)\u001b[0m\u001b[0;34m:\u001b[0m\u001b[0;34m\u001b[0m\u001b[0;34m\u001b[0m\u001b[0m\n\u001b[1;32m     15\u001b[0m         \u001b[0;32mwith\u001b[0m \u001b[0mtf\u001b[0m\u001b[0;34m.\u001b[0m\u001b[0mGradientTape\u001b[0m\u001b[0;34m(\u001b[0m\u001b[0;34m)\u001b[0m \u001b[0;32mas\u001b[0m \u001b[0mtape\u001b[0m\u001b[0;34m:\u001b[0m\u001b[0;34m\u001b[0m\u001b[0;34m\u001b[0m\u001b[0m\n\u001b[0;32m---> 16\u001b[0;31m             \u001b[0mreconstructed\u001b[0m \u001b[0;34m=\u001b[0m \u001b[0mvae\u001b[0m\u001b[0;34m(\u001b[0m\u001b[0mx_batch_train\u001b[0m\u001b[0;34m)\u001b[0m\u001b[0;34m\u001b[0m\u001b[0;34m\u001b[0m\u001b[0m\n\u001b[0m\u001b[1;32m     17\u001b[0m             \u001b[0mloss\u001b[0m \u001b[0;34m=\u001b[0m \u001b[0mmse\u001b[0m\u001b[0;34m(\u001b[0m\u001b[0mx_batch_train\u001b[0m\u001b[0;34m,\u001b[0m \u001b[0mreconstructed\u001b[0m\u001b[0;34m)\u001b[0m\u001b[0;34m\u001b[0m\u001b[0;34m\u001b[0m\u001b[0m\n\u001b[1;32m     18\u001b[0m             \u001b[0mloss\u001b[0m \u001b[0;34m+=\u001b[0m \u001b[0msum\u001b[0m\u001b[0;34m(\u001b[0m\u001b[0mvae\u001b[0m\u001b[0;34m.\u001b[0m\u001b[0mlosses\u001b[0m\u001b[0;34m)\u001b[0m\u001b[0;34m\u001b[0m\u001b[0;34m\u001b[0m\u001b[0m\n",
            "\u001b[0;32m/usr/local/lib/python3.6/dist-packages/tensorflow/python/keras/engine/base_layer.py\u001b[0m in \u001b[0;36m__call__\u001b[0;34m(self, *args, **kwargs)\u001b[0m\n\u001b[1;32m   1010\u001b[0m         with autocast_variable.enable_auto_cast_variables(\n\u001b[1;32m   1011\u001b[0m             self._compute_dtype_object):\n\u001b[0;32m-> 1012\u001b[0;31m           \u001b[0moutputs\u001b[0m \u001b[0;34m=\u001b[0m \u001b[0mcall_fn\u001b[0m\u001b[0;34m(\u001b[0m\u001b[0minputs\u001b[0m\u001b[0;34m,\u001b[0m \u001b[0;34m*\u001b[0m\u001b[0margs\u001b[0m\u001b[0;34m,\u001b[0m \u001b[0;34m**\u001b[0m\u001b[0mkwargs\u001b[0m\u001b[0;34m)\u001b[0m\u001b[0;34m\u001b[0m\u001b[0;34m\u001b[0m\u001b[0m\n\u001b[0m\u001b[1;32m   1013\u001b[0m \u001b[0;34m\u001b[0m\u001b[0m\n\u001b[1;32m   1014\u001b[0m         \u001b[0;32mif\u001b[0m \u001b[0mself\u001b[0m\u001b[0;34m.\u001b[0m\u001b[0m_activity_regularizer\u001b[0m\u001b[0;34m:\u001b[0m\u001b[0;34m\u001b[0m\u001b[0;34m\u001b[0m\u001b[0m\n",
            "\u001b[0;32m<ipython-input-31-d3079ec48587>\u001b[0m in \u001b[0;36mcall\u001b[0;34m(self, inputs)\u001b[0m\n\u001b[1;32m      8\u001b[0m     \u001b[0;32mdef\u001b[0m \u001b[0mcall\u001b[0m\u001b[0;34m(\u001b[0m\u001b[0mself\u001b[0m\u001b[0;34m,\u001b[0m \u001b[0minputs\u001b[0m\u001b[0;34m)\u001b[0m\u001b[0;34m:\u001b[0m\u001b[0;34m\u001b[0m\u001b[0;34m\u001b[0m\u001b[0m\n\u001b[1;32m      9\u001b[0m         \u001b[0mzmean\u001b[0m\u001b[0;34m,\u001b[0m \u001b[0mzvar\u001b[0m\u001b[0;34m,\u001b[0m \u001b[0mz\u001b[0m \u001b[0;34m=\u001b[0m \u001b[0mself\u001b[0m\u001b[0;34m.\u001b[0m\u001b[0mencoders\u001b[0m\u001b[0;34m(\u001b[0m\u001b[0minputs\u001b[0m\u001b[0;34m)\u001b[0m\u001b[0;34m\u001b[0m\u001b[0;34m\u001b[0m\u001b[0m\n\u001b[0;32m---> 10\u001b[0;31m         \u001b[0mreconstructed\u001b[0m \u001b[0;34m=\u001b[0m \u001b[0mself\u001b[0m\u001b[0;34m.\u001b[0m\u001b[0mdecoders\u001b[0m\u001b[0;34m(\u001b[0m\u001b[0mz\u001b[0m\u001b[0;34m)\u001b[0m\u001b[0;34m\u001b[0m\u001b[0;34m\u001b[0m\u001b[0m\n\u001b[0m\u001b[1;32m     11\u001b[0m \u001b[0;34m\u001b[0m\u001b[0m\n\u001b[1;32m     12\u001b[0m         \u001b[0mkl_loss\u001b[0m \u001b[0;34m=\u001b[0m \u001b[0;34m-\u001b[0m\u001b[0;36m0.5\u001b[0m \u001b[0;34m*\u001b[0m \u001b[0mtf\u001b[0m\u001b[0;34m.\u001b[0m\u001b[0mreduce_mean\u001b[0m\u001b[0;34m(\u001b[0m\u001b[0mzvar\u001b[0m\u001b[0;34m,\u001b[0m \u001b[0mtf\u001b[0m\u001b[0;34m.\u001b[0m\u001b[0msquare\u001b[0m\u001b[0;34m(\u001b[0m\u001b[0mzmean\u001b[0m\u001b[0;34m)\u001b[0m \u001b[0;34m-\u001b[0m \u001b[0mtf\u001b[0m\u001b[0;34m.\u001b[0m\u001b[0mexp\u001b[0m\u001b[0;34m(\u001b[0m\u001b[0mzvar\u001b[0m\u001b[0;34m)\u001b[0m \u001b[0;34m+\u001b[0m \u001b[0;36m1\u001b[0m\u001b[0;34m)\u001b[0m\u001b[0;34m\u001b[0m\u001b[0;34m\u001b[0m\u001b[0m\n",
            "\u001b[0;32m/usr/local/lib/python3.6/dist-packages/tensorflow/python/keras/engine/base_layer.py\u001b[0m in \u001b[0;36m__call__\u001b[0;34m(self, *args, **kwargs)\u001b[0m\n\u001b[1;32m   1010\u001b[0m         with autocast_variable.enable_auto_cast_variables(\n\u001b[1;32m   1011\u001b[0m             self._compute_dtype_object):\n\u001b[0;32m-> 1012\u001b[0;31m           \u001b[0moutputs\u001b[0m \u001b[0;34m=\u001b[0m \u001b[0mcall_fn\u001b[0m\u001b[0;34m(\u001b[0m\u001b[0minputs\u001b[0m\u001b[0;34m,\u001b[0m \u001b[0;34m*\u001b[0m\u001b[0margs\u001b[0m\u001b[0;34m,\u001b[0m \u001b[0;34m**\u001b[0m\u001b[0mkwargs\u001b[0m\u001b[0;34m)\u001b[0m\u001b[0;34m\u001b[0m\u001b[0;34m\u001b[0m\u001b[0m\n\u001b[0m\u001b[1;32m   1013\u001b[0m \u001b[0;34m\u001b[0m\u001b[0m\n\u001b[1;32m   1014\u001b[0m         \u001b[0;32mif\u001b[0m \u001b[0mself\u001b[0m\u001b[0;34m.\u001b[0m\u001b[0m_activity_regularizer\u001b[0m\u001b[0;34m:\u001b[0m\u001b[0;34m\u001b[0m\u001b[0;34m\u001b[0m\u001b[0m\n",
            "\u001b[0;32m<ipython-input-30-7aa4f5072e27>\u001b[0m in \u001b[0;36mcall\u001b[0;34m(self, inputs)\u001b[0m\n\u001b[1;32m      6\u001b[0m \u001b[0;34m\u001b[0m\u001b[0m\n\u001b[1;32m      7\u001b[0m     \u001b[0;32mdef\u001b[0m \u001b[0mcall\u001b[0m\u001b[0;34m(\u001b[0m\u001b[0mself\u001b[0m\u001b[0;34m,\u001b[0m \u001b[0minputs\u001b[0m\u001b[0;34m)\u001b[0m\u001b[0;34m:\u001b[0m\u001b[0;34m\u001b[0m\u001b[0;34m\u001b[0m\u001b[0m\n\u001b[0;32m----> 8\u001b[0;31m         \u001b[0mx\u001b[0m \u001b[0;34m=\u001b[0m \u001b[0mself\u001b[0m\u001b[0;34m.\u001b[0m\u001b[0mdlr1\u001b[0m\u001b[0;34m(\u001b[0m\u001b[0minputs\u001b[0m\u001b[0;34m)\u001b[0m\u001b[0;34m\u001b[0m\u001b[0;34m\u001b[0m\u001b[0m\n\u001b[0m\u001b[1;32m      9\u001b[0m         \u001b[0;32mreturn\u001b[0m \u001b[0mself\u001b[0m\u001b[0;34m.\u001b[0m\u001b[0mOut\u001b[0m\u001b[0;34m(\u001b[0m\u001b[0mx\u001b[0m\u001b[0;34m)\u001b[0m\u001b[0;34m\u001b[0m\u001b[0;34m\u001b[0m\u001b[0m\n",
            "\u001b[0;32m/usr/local/lib/python3.6/dist-packages/tensorflow/python/keras/engine/base_layer.py\u001b[0m in \u001b[0;36m__call__\u001b[0;34m(self, *args, **kwargs)\u001b[0m\n\u001b[1;32m    996\u001b[0m         \u001b[0minputs\u001b[0m \u001b[0;34m=\u001b[0m \u001b[0mself\u001b[0m\u001b[0;34m.\u001b[0m\u001b[0m_maybe_cast_inputs\u001b[0m\u001b[0;34m(\u001b[0m\u001b[0minputs\u001b[0m\u001b[0;34m,\u001b[0m \u001b[0minput_list\u001b[0m\u001b[0;34m)\u001b[0m\u001b[0;34m\u001b[0m\u001b[0;34m\u001b[0m\u001b[0m\n\u001b[1;32m    997\u001b[0m \u001b[0;34m\u001b[0m\u001b[0m\n\u001b[0;32m--> 998\u001b[0;31m       \u001b[0minput_spec\u001b[0m\u001b[0;34m.\u001b[0m\u001b[0massert_input_compatibility\u001b[0m\u001b[0;34m(\u001b[0m\u001b[0mself\u001b[0m\u001b[0;34m.\u001b[0m\u001b[0minput_spec\u001b[0m\u001b[0;34m,\u001b[0m \u001b[0minputs\u001b[0m\u001b[0;34m,\u001b[0m \u001b[0mself\u001b[0m\u001b[0;34m.\u001b[0m\u001b[0mname\u001b[0m\u001b[0;34m)\u001b[0m\u001b[0;34m\u001b[0m\u001b[0;34m\u001b[0m\u001b[0m\n\u001b[0m\u001b[1;32m    999\u001b[0m       \u001b[0;32mif\u001b[0m \u001b[0meager\u001b[0m\u001b[0;34m:\u001b[0m\u001b[0;34m\u001b[0m\u001b[0;34m\u001b[0m\u001b[0m\n\u001b[1;32m   1000\u001b[0m         \u001b[0mcall_fn\u001b[0m \u001b[0;34m=\u001b[0m \u001b[0mself\u001b[0m\u001b[0;34m.\u001b[0m\u001b[0mcall\u001b[0m\u001b[0;34m\u001b[0m\u001b[0;34m\u001b[0m\u001b[0m\n",
            "\u001b[0;32m/usr/local/lib/python3.6/dist-packages/tensorflow/python/keras/engine/input_spec.py\u001b[0m in \u001b[0;36massert_input_compatibility\u001b[0;34m(input_spec, inputs, layer_name)\u001b[0m\n\u001b[1;32m    199\u001b[0m     \u001b[0;31m# have a `shape` attribute.\u001b[0m\u001b[0;34m\u001b[0m\u001b[0;34m\u001b[0m\u001b[0;34m\u001b[0m\u001b[0m\n\u001b[1;32m    200\u001b[0m     \u001b[0;32mif\u001b[0m \u001b[0;32mnot\u001b[0m \u001b[0mhasattr\u001b[0m\u001b[0;34m(\u001b[0m\u001b[0mx\u001b[0m\u001b[0;34m,\u001b[0m \u001b[0;34m'shape'\u001b[0m\u001b[0;34m)\u001b[0m\u001b[0;34m:\u001b[0m\u001b[0;34m\u001b[0m\u001b[0;34m\u001b[0m\u001b[0m\n\u001b[0;32m--> 201\u001b[0;31m       \u001b[0;32mraise\u001b[0m \u001b[0mTypeError\u001b[0m\u001b[0;34m(\u001b[0m\u001b[0;34m'Inputs to a layer should be tensors. Got: %s'\u001b[0m \u001b[0;34m%\u001b[0m \u001b[0;34m(\u001b[0m\u001b[0mx\u001b[0m\u001b[0;34m,\u001b[0m\u001b[0;34m)\u001b[0m\u001b[0;34m)\u001b[0m\u001b[0;34m\u001b[0m\u001b[0;34m\u001b[0m\u001b[0m\n\u001b[0m\u001b[1;32m    202\u001b[0m \u001b[0;34m\u001b[0m\u001b[0m\n\u001b[1;32m    203\u001b[0m   \u001b[0;32mif\u001b[0m \u001b[0mlen\u001b[0m\u001b[0;34m(\u001b[0m\u001b[0minputs\u001b[0m\u001b[0;34m)\u001b[0m \u001b[0;34m!=\u001b[0m \u001b[0mlen\u001b[0m\u001b[0;34m(\u001b[0m\u001b[0minput_spec\u001b[0m\u001b[0;34m)\u001b[0m\u001b[0;34m:\u001b[0m\u001b[0;34m\u001b[0m\u001b[0;34m\u001b[0m\u001b[0m\n",
            "\u001b[0;31mTypeError\u001b[0m: Inputs to a layer should be tensors. Got: <__main__.Sampling object at 0x7f61dba3d828>"
          ]
        }
      ]
    },
    {
      "cell_type": "code",
      "metadata": {
        "id": "fBwVrPz3sKSK"
      },
      "source": [
        "tf.__version__"
      ],
      "execution_count": null,
      "outputs": []
    },
    {
      "cell_type": "code",
      "metadata": {
        "id": "6BfepY99sLaW"
      },
      "source": [
        ""
      ],
      "execution_count": null,
      "outputs": []
    }
  ]
}