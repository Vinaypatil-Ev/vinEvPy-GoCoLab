{
  "nbformat": 4,
  "nbformat_minor": 0,
  "metadata": {
    "colab": {
      "name": "TensorflowPrac11_TPU.ipynb",
      "provenance": [],
      "authorship_tag": "ABX9TyOBVBECi9ZOqaSLHOQC1uHh",
      "include_colab_link": true
    },
    "kernelspec": {
      "name": "python3",
      "display_name": "Python 3"
    },
    "accelerator": "TPU"
  },
  "cells": [
    {
      "cell_type": "markdown",
      "metadata": {
        "id": "view-in-github",
        "colab_type": "text"
      },
      "source": [
        "<a href=\"https://colab.research.google.com/github/Vinaypatil-Ev/vinEvPy-GoCoLab/blob/main/Tensorflow/TensorflowPrac11_TPU.ipynb\" target=\"_parent\"><img src=\"https://colab.research.google.com/assets/colab-badge.svg\" alt=\"Open In Colab\"/></a>"
      ]
    },
    {
      "cell_type": "code",
      "metadata": {
        "id": "nKk6t9nbAwUL"
      },
      "source": [
        "+import tensorflow as tf\r\n",
        "import os\r\n",
        "import tensorflow_datasets as tfds"
      ],
      "execution_count": null,
      "outputs": []
    },
    {
      "cell_type": "code",
      "metadata": {
        "id": "Uah6M1dgIrg0"
      },
      "source": [
        "cluster = tf.distribute.cluster_resolver.TPUClusterResolver(tpu=\"grpc://\" + os.environ[\"COLAB_TPU_ADDR\"])"
      ],
      "execution_count": null,
      "outputs": []
    },
    {
      "cell_type": "code",
      "metadata": {
        "id": "SrTmKMVWJzrf"
      },
      "source": [
        "tf.config.experimental_connect_to_cluster(cluster)"
      ],
      "execution_count": null,
      "outputs": []
    },
    {
      "cell_type": "code",
      "metadata": {
        "colab": {
          "base_uri": "https://localhost:8080/"
        },
        "id": "N37fnB5BJG_M",
        "outputId": "a5c51bcb-ecef-4837-dc67-9fdd922d6756"
      },
      "source": [
        "tf.config.list_logical_devices(\"TPU\")"
      ],
      "execution_count": null,
      "outputs": [
        {
          "output_type": "execute_result",
          "data": {
            "text/plain": [
              "[LogicalDevice(name='/job:worker/replica:0/task:0/device:TPU:7', device_type='TPU'),\n",
              " LogicalDevice(name='/job:worker/replica:0/task:0/device:TPU:6', device_type='TPU'),\n",
              " LogicalDevice(name='/job:worker/replica:0/task:0/device:TPU:5', device_type='TPU'),\n",
              " LogicalDevice(name='/job:worker/replica:0/task:0/device:TPU:4', device_type='TPU'),\n",
              " LogicalDevice(name='/job:worker/replica:0/task:0/device:TPU:3', device_type='TPU'),\n",
              " LogicalDevice(name='/job:worker/replica:0/task:0/device:TPU:0', device_type='TPU'),\n",
              " LogicalDevice(name='/job:worker/replica:0/task:0/device:TPU:1', device_type='TPU'),\n",
              " LogicalDevice(name='/job:worker/replica:0/task:0/device:TPU:2', device_type='TPU')]"
            ]
          },
          "metadata": {
            "tags": []
          },
          "execution_count": 4
        }
      ]
    },
    {
      "cell_type": "code",
      "metadata": {
        "colab": {
          "base_uri": "https://localhost:8080/"
        },
        "id": "kkWukqjwJuWY",
        "outputId": "568f351c-4794-462a-9025-f23045955057"
      },
      "source": [
        "tf.config.list_physical_devices()"
      ],
      "execution_count": null,
      "outputs": [
        {
          "output_type": "execute_result",
          "data": {
            "text/plain": [
              "[PhysicalDevice(name='/physical_device:CPU:0', device_type='CPU')]"
            ]
          },
          "metadata": {
            "tags": []
          },
          "execution_count": 5
        }
      ]
    },
    {
      "cell_type": "code",
      "metadata": {
        "colab": {
          "base_uri": "https://localhost:8080/"
        },
        "id": "KWd4knf2S_mS",
        "outputId": "68590732-5a3b-4f73-db1e-3b7e995a36cd"
      },
      "source": [
        "tf.tpu.experimental.initialize_tpu_system(cluster)\r\n",
        "print(\"All devices: \", tf.config.list_logical_devices('TPU'))"
      ],
      "execution_count": null,
      "outputs": [
        {
          "output_type": "stream",
          "text": [
            "INFO:tensorflow:Initializing the TPU system: grpc://10.85.225.98:8470\n"
          ],
          "name": "stdout"
        },
        {
          "output_type": "stream",
          "text": [
            "INFO:tensorflow:Initializing the TPU system: grpc://10.85.225.98:8470\n"
          ],
          "name": "stderr"
        },
        {
          "output_type": "stream",
          "text": [
            "INFO:tensorflow:Clearing out eager caches\n"
          ],
          "name": "stdout"
        },
        {
          "output_type": "stream",
          "text": [
            "INFO:tensorflow:Clearing out eager caches\n"
          ],
          "name": "stderr"
        },
        {
          "output_type": "stream",
          "text": [
            "INFO:tensorflow:Finished initializing TPU system.\n"
          ],
          "name": "stdout"
        },
        {
          "output_type": "stream",
          "text": [
            "INFO:tensorflow:Finished initializing TPU system.\n"
          ],
          "name": "stderr"
        },
        {
          "output_type": "stream",
          "text": [
            "All devices:  [LogicalDevice(name='/job:worker/replica:0/task:0/device:TPU:7', device_type='TPU'), LogicalDevice(name='/job:worker/replica:0/task:0/device:TPU:6', device_type='TPU'), LogicalDevice(name='/job:worker/replica:0/task:0/device:TPU:5', device_type='TPU'), LogicalDevice(name='/job:worker/replica:0/task:0/device:TPU:4', device_type='TPU'), LogicalDevice(name='/job:worker/replica:0/task:0/device:TPU:3', device_type='TPU'), LogicalDevice(name='/job:worker/replica:0/task:0/device:TPU:0', device_type='TPU'), LogicalDevice(name='/job:worker/replica:0/task:0/device:TPU:1', device_type='TPU'), LogicalDevice(name='/job:worker/replica:0/task:0/device:TPU:2', device_type='TPU')]\n"
          ],
          "name": "stdout"
        }
      ]
    },
    {
      "cell_type": "code",
      "metadata": {
        "colab": {
          "base_uri": "https://localhost:8080/"
        },
        "id": "20_bPdPATNUq",
        "outputId": "b1937f9a-1339-451d-cc99-0fafd4367dbe"
      },
      "source": [
        "a = tf.constant([[1.0, 2.0, 3.0], [4.0, 5.0, 6.0]])\r\n",
        "b = tf.constant([[1.0, 2.0], [3.0, 4.0], [5.0, 6.0]])\r\n",
        "\r\n",
        "with tf.device(\"/TPU:3\"):\r\n",
        "  c = tf.matmul(a, b)\r\n",
        "print(\"c device: \", c.device)\r\n",
        "print(c)"
      ],
      "execution_count": null,
      "outputs": [
        {
          "output_type": "stream",
          "text": [
            "c device:  /job:worker/replica:0/task:0/device:TPU:3\n",
            "tf.Tensor(\n",
            "[[22. 28.]\n",
            " [49. 64.]], shape=(2, 2), dtype=float32)\n"
          ],
          "name": "stdout"
        }
      ]
    },
    {
      "cell_type": "code",
      "metadata": {
        "colab": {
          "base_uri": "https://localhost:8080/"
        },
        "id": "R0XWziCUU6lL",
        "outputId": "9560c840-9ca6-4282-aec3-044923198e89"
      },
      "source": [
        "strategy = tf.distribute.TPUStrategy()"
      ],
      "execution_count": null,
      "outputs": [
        {
          "output_type": "stream",
          "text": [
            "INFO:tensorflow:Found TPU system:\n"
          ],
          "name": "stdout"
        },
        {
          "output_type": "stream",
          "text": [
            "INFO:tensorflow:Found TPU system:\n"
          ],
          "name": "stderr"
        },
        {
          "output_type": "stream",
          "text": [
            "INFO:tensorflow:*** Num TPU Cores: 8\n"
          ],
          "name": "stdout"
        },
        {
          "output_type": "stream",
          "text": [
            "INFO:tensorflow:*** Num TPU Cores: 8\n"
          ],
          "name": "stderr"
        },
        {
          "output_type": "stream",
          "text": [
            "INFO:tensorflow:*** Num TPU Workers: 1\n"
          ],
          "name": "stdout"
        },
        {
          "output_type": "stream",
          "text": [
            "INFO:tensorflow:*** Num TPU Workers: 1\n"
          ],
          "name": "stderr"
        },
        {
          "output_type": "stream",
          "text": [
            "INFO:tensorflow:*** Num TPU Cores Per Worker: 8\n"
          ],
          "name": "stdout"
        },
        {
          "output_type": "stream",
          "text": [
            "INFO:tensorflow:*** Num TPU Cores Per Worker: 8\n"
          ],
          "name": "stderr"
        },
        {
          "output_type": "stream",
          "text": [
            "INFO:tensorflow:*** Available Device: _DeviceAttributes(/job:localhost/replica:0/task:0/device:CPU:0, CPU, 0, 0)\n"
          ],
          "name": "stdout"
        },
        {
          "output_type": "stream",
          "text": [
            "INFO:tensorflow:*** Available Device: _DeviceAttributes(/job:localhost/replica:0/task:0/device:CPU:0, CPU, 0, 0)\n"
          ],
          "name": "stderr"
        },
        {
          "output_type": "stream",
          "text": [
            "INFO:tensorflow:*** Available Device: _DeviceAttributes(/job:worker/replica:0/task:0/device:CPU:0, CPU, 0, 0)\n"
          ],
          "name": "stdout"
        },
        {
          "output_type": "stream",
          "text": [
            "INFO:tensorflow:*** Available Device: _DeviceAttributes(/job:worker/replica:0/task:0/device:CPU:0, CPU, 0, 0)\n"
          ],
          "name": "stderr"
        },
        {
          "output_type": "stream",
          "text": [
            "INFO:tensorflow:*** Available Device: _DeviceAttributes(/job:worker/replica:0/task:0/device:TPU:0, TPU, 0, 0)\n"
          ],
          "name": "stdout"
        },
        {
          "output_type": "stream",
          "text": [
            "INFO:tensorflow:*** Available Device: _DeviceAttributes(/job:worker/replica:0/task:0/device:TPU:0, TPU, 0, 0)\n"
          ],
          "name": "stderr"
        },
        {
          "output_type": "stream",
          "text": [
            "INFO:tensorflow:*** Available Device: _DeviceAttributes(/job:worker/replica:0/task:0/device:TPU:1, TPU, 0, 0)\n"
          ],
          "name": "stdout"
        },
        {
          "output_type": "stream",
          "text": [
            "INFO:tensorflow:*** Available Device: _DeviceAttributes(/job:worker/replica:0/task:0/device:TPU:1, TPU, 0, 0)\n"
          ],
          "name": "stderr"
        },
        {
          "output_type": "stream",
          "text": [
            "INFO:tensorflow:*** Available Device: _DeviceAttributes(/job:worker/replica:0/task:0/device:TPU:2, TPU, 0, 0)\n"
          ],
          "name": "stdout"
        },
        {
          "output_type": "stream",
          "text": [
            "INFO:tensorflow:*** Available Device: _DeviceAttributes(/job:worker/replica:0/task:0/device:TPU:2, TPU, 0, 0)\n"
          ],
          "name": "stderr"
        },
        {
          "output_type": "stream",
          "text": [
            "INFO:tensorflow:*** Available Device: _DeviceAttributes(/job:worker/replica:0/task:0/device:TPU:3, TPU, 0, 0)\n"
          ],
          "name": "stdout"
        },
        {
          "output_type": "stream",
          "text": [
            "INFO:tensorflow:*** Available Device: _DeviceAttributes(/job:worker/replica:0/task:0/device:TPU:3, TPU, 0, 0)\n"
          ],
          "name": "stderr"
        },
        {
          "output_type": "stream",
          "text": [
            "INFO:tensorflow:*** Available Device: _DeviceAttributes(/job:worker/replica:0/task:0/device:TPU:4, TPU, 0, 0)\n"
          ],
          "name": "stdout"
        },
        {
          "output_type": "stream",
          "text": [
            "INFO:tensorflow:*** Available Device: _DeviceAttributes(/job:worker/replica:0/task:0/device:TPU:4, TPU, 0, 0)\n"
          ],
          "name": "stderr"
        },
        {
          "output_type": "stream",
          "text": [
            "INFO:tensorflow:*** Available Device: _DeviceAttributes(/job:worker/replica:0/task:0/device:TPU:5, TPU, 0, 0)\n"
          ],
          "name": "stdout"
        },
        {
          "output_type": "stream",
          "text": [
            "INFO:tensorflow:*** Available Device: _DeviceAttributes(/job:worker/replica:0/task:0/device:TPU:5, TPU, 0, 0)\n"
          ],
          "name": "stderr"
        },
        {
          "output_type": "stream",
          "text": [
            "INFO:tensorflow:*** Available Device: _DeviceAttributes(/job:worker/replica:0/task:0/device:TPU:6, TPU, 0, 0)\n"
          ],
          "name": "stdout"
        },
        {
          "output_type": "stream",
          "text": [
            "INFO:tensorflow:*** Available Device: _DeviceAttributes(/job:worker/replica:0/task:0/device:TPU:6, TPU, 0, 0)\n"
          ],
          "name": "stderr"
        },
        {
          "output_type": "stream",
          "text": [
            "INFO:tensorflow:*** Available Device: _DeviceAttributes(/job:worker/replica:0/task:0/device:TPU:7, TPU, 0, 0)\n"
          ],
          "name": "stdout"
        },
        {
          "output_type": "stream",
          "text": [
            "INFO:tensorflow:*** Available Device: _DeviceAttributes(/job:worker/replica:0/task:0/device:TPU:7, TPU, 0, 0)\n"
          ],
          "name": "stderr"
        },
        {
          "output_type": "stream",
          "text": [
            "INFO:tensorflow:*** Available Device: _DeviceAttributes(/job:worker/replica:0/task:0/device:TPU_SYSTEM:0, TPU_SYSTEM, 0, 0)\n"
          ],
          "name": "stdout"
        },
        {
          "output_type": "stream",
          "text": [
            "INFO:tensorflow:*** Available Device: _DeviceAttributes(/job:worker/replica:0/task:0/device:TPU_SYSTEM:0, TPU_SYSTEM, 0, 0)\n"
          ],
          "name": "stderr"
        },
        {
          "output_type": "stream",
          "text": [
            "INFO:tensorflow:*** Available Device: _DeviceAttributes(/job:worker/replica:0/task:0/device:XLA_CPU:0, XLA_CPU, 0, 0)\n"
          ],
          "name": "stdout"
        },
        {
          "output_type": "stream",
          "text": [
            "INFO:tensorflow:*** Available Device: _DeviceAttributes(/job:worker/replica:0/task:0/device:XLA_CPU:0, XLA_CPU, 0, 0)\n"
          ],
          "name": "stderr"
        }
      ]
    },
    {
      "cell_type": "code",
      "metadata": {
        "id": "w5802IvsWUPw"
      },
      "source": [
        "@tf.function\r\n",
        "def matmul_fn(x, y):\r\n",
        "  z = tf.matmul(x, y)\r\n",
        "  return z"
      ],
      "execution_count": null,
      "outputs": []
    },
    {
      "cell_type": "code",
      "metadata": {
        "colab": {
          "base_uri": "https://localhost:8080/"
        },
        "id": "f1um9XqaWDMU",
        "outputId": "d65979c3-8a59-4741-d64a-ed1d27301bb2"
      },
      "source": [
        "z = strategy.run(matmul_fn, args=(a, b))\r\n",
        "print(z)"
      ],
      "execution_count": null,
      "outputs": [
        {
          "output_type": "stream",
          "text": [
            "PerReplica:{\n",
            "  0: tf.Tensor(\n",
            "[[22. 28.]\n",
            " [49. 64.]], shape=(2, 2), dtype=float32),\n",
            "  1: tf.Tensor(\n",
            "[[22. 28.]\n",
            " [49. 64.]], shape=(2, 2), dtype=float32),\n",
            "  2: tf.Tensor(\n",
            "[[22. 28.]\n",
            " [49. 64.]], shape=(2, 2), dtype=float32),\n",
            "  3: tf.Tensor(\n",
            "[[22. 28.]\n",
            " [49. 64.]], shape=(2, 2), dtype=float32),\n",
            "  4: tf.Tensor(\n",
            "[[22. 28.]\n",
            " [49. 64.]], shape=(2, 2), dtype=float32),\n",
            "  5: tf.Tensor(\n",
            "[[22. 28.]\n",
            " [49. 64.]], shape=(2, 2), dtype=float32),\n",
            "  6: tf.Tensor(\n",
            "[[22. 28.]\n",
            " [49. 64.]], shape=(2, 2), dtype=float32),\n",
            "  7: tf.Tensor(\n",
            "[[22. 28.]\n",
            " [49. 64.]], shape=(2, 2), dtype=float32)\n",
            "}\n"
          ],
          "name": "stdout"
        }
      ]
    },
    {
      "cell_type": "code",
      "metadata": {
        "id": "Sj-X034CWYNU"
      },
      "source": [
        "def mul(x, y):\r\n",
        "  return tf.matmul(x, y)\r\n"
      ],
      "execution_count": null,
      "outputs": []
    },
    {
      "cell_type": "code",
      "metadata": {
        "colab": {
          "base_uri": "https://localhost:8080/"
        },
        "id": "t2vU0U-8WcZk",
        "outputId": "7590476e-51ff-4d92-8c68-510cfab7d334"
      },
      "source": [
        "strategy.run(tf.function(mul), (a, b))"
      ],
      "execution_count": null,
      "outputs": [
        {
          "output_type": "execute_result",
          "data": {
            "text/plain": [
              "PerReplica:{\n",
              "  0: <tf.Tensor: shape=(2, 2), dtype=float32, numpy=\n",
              "array([[22., 28.],\n",
              "       [49., 64.]], dtype=float32)>,\n",
              "  1: <tf.Tensor: shape=(2, 2), dtype=float32, numpy=\n",
              "array([[22., 28.],\n",
              "       [49., 64.]], dtype=float32)>,\n",
              "  2: <tf.Tensor: shape=(2, 2), dtype=float32, numpy=\n",
              "array([[22., 28.],\n",
              "       [49., 64.]], dtype=float32)>,\n",
              "  3: <tf.Tensor: shape=(2, 2), dtype=float32, numpy=\n",
              "array([[22., 28.],\n",
              "       [49., 64.]], dtype=float32)>,\n",
              "  4: <tf.Tensor: shape=(2, 2), dtype=float32, numpy=\n",
              "array([[22., 28.],\n",
              "       [49., 64.]], dtype=float32)>,\n",
              "  5: <tf.Tensor: shape=(2, 2), dtype=float32, numpy=\n",
              "array([[22., 28.],\n",
              "       [49., 64.]], dtype=float32)>,\n",
              "  6: <tf.Tensor: shape=(2, 2), dtype=float32, numpy=\n",
              "array([[22., 28.],\n",
              "       [49., 64.]], dtype=float32)>,\n",
              "  7: <tf.Tensor: shape=(2, 2), dtype=float32, numpy=\n",
              "array([[22., 28.],\n",
              "       [49., 64.]], dtype=float32)>\n",
              "}"
            ]
          },
          "metadata": {
            "tags": []
          },
          "execution_count": 12
        }
      ]
    },
    {
      "cell_type": "code",
      "metadata": {
        "id": "3Lg_bwbwckb5"
      },
      "source": [
        "def create_model():\r\n",
        "  return tf.keras.Sequential([\r\n",
        "                              tf.keras.layers.Conv2D(256, 3, activation=\"relu\", input_shape=(28, 28, 1)),\r\n",
        "                              tf.keras.layers.Conv2D(256, 3, activation=\"relu\"),\r\n",
        "                              tf.keras.layers.Flatten(),\r\n",
        "                              tf.keras.layers.Dense(256, activation=\"relu\"),\r\n",
        "                              tf.keras.layers.Dense(256, activation=\"relu\"),\r\n",
        "                              tf.keras.layers.Dense(256, activation=\"relu\"),\r\n",
        "                              tf.keras.layers.Dense(128, activation=\"relu\"),\r\n",
        "                              tf.keras.layers.Dense(10, activation=\"relu\")\r\n",
        "  ])"
      ],
      "execution_count": null,
      "outputs": []
    },
    {
      "cell_type": "code",
      "metadata": {
        "id": "-VqwFewPiF0F"
      },
      "source": [
        "def get_dataset(batch_size, is_training=True):\r\n",
        "  split = \"train\" if is_training else \"test\"\r\n",
        "  dataset, info = tfds.load(\"mnist\", split=split, with_info=True, as_supervised=True, try_gcs=True)\r\n",
        "\r\n",
        "  def scale(img, label):\r\n",
        "    img = tf.cast(img, tf.float32)\r\n",
        "    img /= 255.0\r\n",
        "    return img, label\r\n",
        "  \r\n",
        "  dataset = dataset.map(scale)\r\n",
        "\r\n",
        "  if is_training:\r\n",
        "    dataset = dataset.shuffle(1000)\r\n",
        "    dataset = dataset.repeat()\r\n",
        "\r\n",
        "  dataset = dataset.batch(batch_size)\r\n",
        "\r\n",
        "  return dataset"
      ],
      "execution_count": null,
      "outputs": []
    },
    {
      "cell_type": "code",
      "metadata": {
        "id": "Yl1BZh2kpiEl"
      },
      "source": [
        "def get_dataset(batch_size, is_training=True):\r\n",
        "  split = 'train' if is_training else 'test'\r\n",
        "  dataset, info = tfds.load(name='mnist', split=split, with_info=True,\r\n",
        "                            as_supervised=True, try_gcs=True)\r\n",
        "\r\n",
        "  def scale(image, label):\r\n",
        "    image = tf.cast(image, tf.float32)\r\n",
        "    image /= 255.0\r\n",
        "\r\n",
        "    return image, label\r\n",
        "\r\n",
        "  dataset = dataset.map(scale)\r\n",
        "\r\n",
        "  # Only shuffle and repeat the dataset in training. The advantage to have a\r\n",
        "  # infinite dataset for training is to avoid the potential last partial batch\r\n",
        "  # in each epoch, so users don't need to think about scaling the gradients\r\n",
        "  # based on the actual batch size.\r\n",
        "  if is_training:\r\n",
        "    dataset = dataset.shuffle(10000)\r\n",
        "    dataset = dataset.repeat()\r\n",
        "\r\n",
        "  dataset = dataset.batch(batch_size)\r\n",
        "\r\n",
        "  return dataset"
      ],
      "execution_count": null,
      "outputs": []
    },
    {
      "cell_type": "code",
      "metadata": {
        "id": "XjJHXVOdjpRL"
      },
      "source": [
        "with strategy.scope():\r\n",
        "  model = create_model()\r\n",
        "  model.compile(loss=\"sparse_categorical_crossentropy\", optimizer=\"adam\")"
      ],
      "execution_count": null,
      "outputs": []
    },
    {
      "cell_type": "code",
      "metadata": {
        "id": "8AqSIv4gkM_K"
      },
      "source": [
        "batch_size = 200\r\n",
        "steps_per_epoch = 60000 //batch_size\r\n",
        "validation_steps = 10000 //batch_size"
      ],
      "execution_count": null,
      "outputs": []
    },
    {
      "cell_type": "code",
      "metadata": {
        "id": "bIwNlvwykxS-"
      },
      "source": [
        "train_dataset = get_dataset(batch_size)\r\n",
        "test_dataset = get_dataset(batch_size, is_training=False)\r\n"
      ],
      "execution_count": null,
      "outputs": []
    },
    {
      "cell_type": "code",
      "metadata": {
        "colab": {
          "base_uri": "https://localhost:8080/"
        },
        "id": "vl9rCvoPk_1Q",
        "outputId": "b6249fa8-8fb3-4a66-d882-26770a652315"
      },
      "source": [
        "model.fit(train_dataset,\r\n",
        "          epochs=5,\r\n",
        "          steps_per_epoch=steps_per_epoch,\r\n",
        "          validation_data=test_dataset,\r\n",
        "          validation_steps=validation_steps)"
      ],
      "execution_count": null,
      "outputs": [
        {
          "output_type": "stream",
          "text": [
            "Epoch 1/5\n",
            "300/300 [==============================] - 11s 34ms/step - loss: 0.7008 - sparse_categorical_accuracy: 0.6979 - val_loss: 0.7287 - val_sparse_categorical_accuracy: 0.6982\n",
            "Epoch 2/5\n",
            "300/300 [==============================] - 10s 34ms/step - loss: 0.7016 - sparse_categorical_accuracy: 0.6979 - val_loss: 0.7386 - val_sparse_categorical_accuracy: 0.6938\n",
            "Epoch 3/5\n",
            "300/300 [==============================] - 11s 35ms/step - loss: 0.7021 - sparse_categorical_accuracy: 0.6977 - val_loss: 0.7357 - val_sparse_categorical_accuracy: 0.6964\n",
            "Epoch 4/5\n",
            "300/300 [==============================] - 10s 34ms/step - loss: 0.6981 - sparse_categorical_accuracy: 0.6985 - val_loss: 0.7337 - val_sparse_categorical_accuracy: 0.6954\n",
            "Epoch 5/5\n",
            "300/300 [==============================] - 10s 34ms/step - loss: 0.6963 - sparse_categorical_accuracy: 0.6989 - val_loss: 0.7336 - val_sparse_categorical_accuracy: 0.6963\n"
          ],
          "name": "stdout"
        },
        {
          "output_type": "execute_result",
          "data": {
            "text/plain": [
              "<tensorflow.python.keras.callbacks.History at 0x7fc5a6cd1940>"
            ]
          },
          "metadata": {
            "tags": []
          },
          "execution_count": 21
        }
      ]
    },
    {
      "cell_type": "code",
      "metadata": {
        "colab": {
          "base_uri": "https://localhost:8080/"
        },
        "id": "BICiXgJald7s",
        "outputId": "ff879c34-5857-4bbc-b53d-745d428df247"
      },
      "source": [
        "with strategy.scope():\r\n",
        "  model = create_model()\r\n",
        "  model.compile(optimizer='adam',\r\n",
        "                # Anything between 2 and `steps_per_epoch` could help here.\r\n",
        "                experimental_steps_per_execution = 50,\r\n",
        "                loss=tf.keras.losses.SparseCategoricalCrossentropy(from_logits=True),\r\n",
        "                metrics=['sparse_categorical_accuracy'])\r\n",
        "\r\n",
        "model.fit(train_dataset,\r\n",
        "          epochs=5,\r\n",
        "          steps_per_epoch=steps_per_epoch,\r\n",
        "          validation_data=test_dataset,\r\n",
        "          validation_steps=validation_steps)"
      ],
      "execution_count": null,
      "outputs": [
        {
          "output_type": "stream",
          "text": [
            "WARNING:tensorflow:The argument `steps_per_execution` is no longer experimental. Pass `steps_per_execution` instead of `experimental_steps_per_execution`.\n"
          ],
          "name": "stdout"
        },
        {
          "output_type": "stream",
          "text": [
            "WARNING:tensorflow:The argument `steps_per_execution` is no longer experimental. Pass `steps_per_execution` instead of `experimental_steps_per_execution`.\n"
          ],
          "name": "stderr"
        },
        {
          "output_type": "stream",
          "text": [
            "Epoch 1/5\n",
            "300/300 [==============================] - 16s 52ms/step - loss: 0.4057 - sparse_categorical_accuracy: 0.8680 - val_loss: 0.0493 - val_sparse_categorical_accuracy: 0.9839\n",
            "Epoch 2/5\n",
            "300/300 [==============================] - 5s 17ms/step - loss: 0.0463 - sparse_categorical_accuracy: 0.9861 - val_loss: 0.0390 - val_sparse_categorical_accuracy: 0.9872\n",
            "Epoch 3/5\n",
            "300/300 [==============================] - 5s 17ms/step - loss: 0.0272 - sparse_categorical_accuracy: 0.9921 - val_loss: 0.0440 - val_sparse_categorical_accuracy: 0.9864\n",
            "Epoch 4/5\n",
            "300/300 [==============================] - 5s 17ms/step - loss: 0.0197 - sparse_categorical_accuracy: 0.9941 - val_loss: 0.0497 - val_sparse_categorical_accuracy: 0.9871\n",
            "Epoch 5/5\n",
            "300/300 [==============================] - 5s 17ms/step - loss: 0.0151 - sparse_categorical_accuracy: 0.9956 - val_loss: 0.0428 - val_sparse_categorical_accuracy: 0.9889\n"
          ],
          "name": "stdout"
        },
        {
          "output_type": "execute_result",
          "data": {
            "text/plain": [
              "<tensorflow.python.keras.callbacks.History at 0x7fc5a509ed68>"
            ]
          },
          "metadata": {
            "tags": []
          },
          "execution_count": 22
        }
      ]
    },
    {
      "cell_type": "code",
      "metadata": {
        "id": "gmrslZztyglj"
      },
      "source": [
        "with strategy.scope():\r\n",
        "  model = create_model()\r\n",
        "  optimizer = tf.keras.optimizers.Adam()\r\n",
        "  training_loss = tf.keras.metrics.Mean(\"training_loss\", dtype=tf.float32)\r\n",
        "  training_accuracy = tf.keras.metrics.SparseCategoricalAccuracy(\"training_accuracy\", tf.float32)\r\n",
        "\r\n",
        "per_replica_batch_size = batch_size // strategy.num_replicas_in_sync\r\n",
        "\r\n",
        "train_dataset = strategy.distribute_datasets_from_function(\r\n",
        "    lambda _: get_dataset(per_replica_batch_size, is_training=True)\r\n",
        ")\r\n",
        "\r\n",
        "@tf.function\r\n",
        "def train_fun(iterator):\r\n",
        "  def gradient_fun(inputs):\r\n",
        "    img, labels = inputs\r\n",
        "    with tf.GradientTape() as tape:\r\n",
        "      logits = model(img, training=True)\r\n",
        "      loss = tf.keras.losses.sparse_categorical_crossentropy(\r\n",
        "          labels, logits, from_logits=True,\r\n",
        "      )\r\n",
        "      loss = tf.nn.compute_average_loss(loss, global_batch_size=batch_size)\r\n",
        "    grads = tape.gradient(loss, model.trainable_variables)\r\n",
        "    optimizer.apply_gradients(list(zip(grads, model.trainable_variables)))\r\n",
        "    training_loss.update_state(loss * strategy.num_replicas_in_sync)\r\n",
        "    training_accuracy.update_state(labels, logits)\r\n",
        "  strategy.run(gradient_fun, args=(next(iterator), ))"
      ],
      "execution_count": null,
      "outputs": []
    },
    {
      "cell_type": "code",
      "metadata": {
        "colab": {
          "base_uri": "https://localhost:8080/"
        },
        "id": "pY51qpBmzTL-",
        "outputId": "c834adee-460e-474c-ede5-c51f988b9473"
      },
      "source": [
        "strategy.num_replicas_in_sync"
      ],
      "execution_count": null,
      "outputs": [
        {
          "output_type": "execute_result",
          "data": {
            "text/plain": [
              "8"
            ]
          },
          "metadata": {
            "tags": []
          },
          "execution_count": 53
        }
      ]
    },
    {
      "cell_type": "code",
      "metadata": {
        "colab": {
          "base_uri": "https://localhost:8080/"
        },
        "id": "DXw3b7W3zUm9",
        "outputId": "c7697793-9402-4e04-a38e-1dd686b3dd4b"
      },
      "source": [
        "steps_per_eval = 10000 // batch_size\r\n",
        "\r\n",
        "train_iterator = iter(train_dataset)\r\n",
        "\r\n",
        "for epoch in range(5):\r\n",
        "  print(f\"epochs: {epoch}/5\")\r\n",
        "  for step in range(steps_per_epoch):\r\n",
        "    train_fun(train_iterator)\r\n",
        "  print(f\"current_step: {optimizer.iterations.numpy()}, \\\r\n",
        "          training_loss: {round(float(training_loss.result()), 2)}, \\\r\n",
        "          accuracy : {round(float(training_accuracy.result() * 100), 2)},\\\r\n",
        "              \")\r\n",
        "  training_loss.reset_states()\r\n",
        "  training_accuracy.reset_states()"
      ],
      "execution_count": null,
      "outputs": [
        {
          "output_type": "stream",
          "text": [
            "epochs: 0/5\n",
            "current_step: 3900,           training_loss: 0.24,           accuracy : 89.89,              \n",
            "epochs: 1/5\n",
            "current_step: 4200,           training_loss: 0.23,           accuracy : 90.0,              \n",
            "epochs: 2/5\n",
            "current_step: 4500,           training_loss: 0.23,           accuracy : 89.97,              \n",
            "epochs: 3/5\n",
            "current_step: 4800,           training_loss: 0.23,           accuracy : 89.93,              \n",
            "epochs: 4/5\n",
            "current_step: 5100,           training_loss: 0.23,           accuracy : 89.99,              \n"
          ],
          "name": "stdout"
        }
      ]
    },
    {
      "cell_type": "code",
      "metadata": {
        "colab": {
          "base_uri": "https://localhost:8080/"
        },
        "id": "XmofygWC6TDO",
        "outputId": "d8dd80a2-7451-407a-8506-838043b3adad"
      },
      "source": [
        "class CustomModel(tf.keras.models.Model):\r\n",
        "\r\n",
        "  @tf.function\r\n",
        "  def call(self, input_data):\r\n",
        "    if tf.reduce_mean(input_data) > 0:\r\n",
        "      return input_data\r\n",
        "    else:\r\n",
        "      import pdb\r\n",
        "      pdb.set_trace()\r\n",
        "      \r\n",
        "      return input_data // 2\r\n",
        "\r\n",
        "\r\n",
        "tf.config.experimental_run_functions_eagerly(True)\r\n",
        "model = CustomModel()\r\n",
        "model(tf.constant([-2, -4]))"
      ],
      "execution_count": null,
      "outputs": [
        {
          "output_type": "stream",
          "text": [
            "--KeyboardInterrupt--\n",
            "--KeyboardInterrupt--\n",
            "--KeyboardInterrupt--\n",
            "--KeyboardInterrupt--\n",
            "--KeyboardInterrupt--\n"
          ],
          "name": "stdout"
        }
      ]
    },
    {
      "cell_type": "code",
      "metadata": {
        "id": "SCUSN6KuPWE0"
      },
      "source": [
        "54\r\n",
        "4"
      ],
      "execution_count": null,
      "outputs": []
    }
  ]
}