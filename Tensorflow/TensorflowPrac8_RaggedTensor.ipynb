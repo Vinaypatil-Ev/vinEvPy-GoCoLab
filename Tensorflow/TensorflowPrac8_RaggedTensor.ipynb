{
  "nbformat": 4,
  "nbformat_minor": 0,
  "metadata": {
    "colab": {
      "name": "TensorflowPrac8_RaggedTensor.ipynb",
      "provenance": [],
      "authorship_tag": "ABX9TyOSM5tbo5mUoObPglE3eb6q",
      "include_colab_link": true
    },
    "kernelspec": {
      "name": "python3",
      "display_name": "Python 3"
    }
  },
  "cells": [
    {
      "cell_type": "markdown",
      "metadata": {
        "id": "view-in-github",
        "colab_type": "text"
      },
      "source": [
        "<a href=\"https://colab.research.google.com/github/Vinaypatil-Ev/vinEvPy-GoCoLab/blob/main/Tensorflow/TensorflowPrac8_RaggedTensor.ipynb\" target=\"_parent\"><img src=\"https://colab.research.google.com/assets/colab-badge.svg\" alt=\"Open In Colab\"/></a>"
      ]
    },
    {
      "cell_type": "markdown",
      "metadata": {
        "id": "8TfsHjEOP5_S"
      },
      "source": [
        "# Ragged Tensor\r\n",
        "### Ragged tensor are tensor of variable length nested list"
      ]
    },
    {
      "cell_type": "code",
      "metadata": {
        "id": "_Ra9C6fMRHOG"
      },
      "source": [
        "import tensorflow as tf\r\n",
        "import math"
      ],
      "execution_count": null,
      "outputs": []
    },
    {
      "cell_type": "markdown",
      "metadata": {
        "id": "TIG2bDB7QGiW"
      },
      "source": [
        "## 1. tf.ragged.constant()"
      ]
    },
    {
      "cell_type": "code",
      "metadata": {
        "id": "vak4tX8RvY1P",
        "colab": {
          "base_uri": "https://localhost:8080/"
        },
        "outputId": "343321b8-3e4e-49b3-f78b-75515e5ab107"
      },
      "source": [
        "digits = tf.ragged.constant([[3, 2, 3, 1], [3, 3, 3], [], [1, 2, 3, 4]])\r\n",
        "digits"
      ],
      "execution_count": null,
      "outputs": [
        {
          "output_type": "execute_result",
          "data": {
            "text/plain": [
              "<tf.RaggedTensor [[3, 2, 3, 1], [3, 3, 3], [], [1, 2, 3, 4]]>"
            ]
          },
          "metadata": {
            "tags": []
          },
          "execution_count": 3
        }
      ]
    },
    {
      "cell_type": "code",
      "metadata": {
        "colab": {
          "base_uri": "https://localhost:8080/"
        },
        "id": "53c-jkMFRA7_",
        "outputId": "eb56b1f5-da93-41a3-cc93-b7b29658d49c"
      },
      "source": [
        "string = tf.ragged.constant([[\"abcdef\", \"xyzaaa\", \"uvwaa\"], [], [\"abbgv\", \"bcaddd\"]])\r\n",
        "string"
      ],
      "execution_count": null,
      "outputs": [
        {
          "output_type": "execute_result",
          "data": {
            "text/plain": [
              "<tf.RaggedTensor [[b'abcdef', b'xyzaaa', b'uvwaa'], [], [b'abbgv', b'bcaddd']]>"
            ]
          },
          "metadata": {
            "tags": []
          },
          "execution_count": 4
        }
      ]
    },
    {
      "cell_type": "markdown",
      "metadata": {
        "id": "Q-kXK55aRk9a"
      },
      "source": [
        "### operation on ragged tensor\r\n",
        "### ragged tensor support thousands of operations such as,\r\n",
        "1. tf.add()\r\n",
        "2. tf.concat()\r\n",
        "3. tf.tile()\r\n",
        "4. tf.reduce_mean()\r\n",
        "5. tf.string.substr()\r\n",
        "6. tf.map_fn()\r\n",
        "7.\r\n",
        ".\r\n",
        ".\r\n",
        "."
      ]
    },
    {
      "cell_type": "code",
      "metadata": {
        "colab": {
          "base_uri": "https://localhost:8080/"
        },
        "id": "ihkw0_h_RdNp",
        "outputId": "033cfb7b-6732-4ac4-8b54-aa51fa46d29a"
      },
      "source": [
        "tf.add(digits, 5)"
      ],
      "execution_count": null,
      "outputs": [
        {
          "output_type": "execute_result",
          "data": {
            "text/plain": [
              "<tf.RaggedTensor [[8, 7, 8, 6], [8, 8, 8], [], [6, 7, 8, 9]]>"
            ]
          },
          "metadata": {
            "tags": []
          },
          "execution_count": 5
        }
      ]
    },
    {
      "cell_type": "code",
      "metadata": {
        "colab": {
          "base_uri": "https://localhost:8080/"
        },
        "id": "-2r9gvr3ShkO",
        "outputId": "a8fdc92b-d9f8-4fcd-c6d2-7bac920bf28a"
      },
      "source": [
        "tf.reduce_mean(digits, axis=1)"
      ],
      "execution_count": null,
      "outputs": [
        {
          "output_type": "execute_result",
          "data": {
            "text/plain": [
              "<tf.Tensor: shape=(4,), dtype=float64, numpy=array([2.25, 3.  ,  nan, 2.5 ])>"
            ]
          },
          "metadata": {
            "tags": []
          },
          "execution_count": 6
        }
      ]
    },
    {
      "cell_type": "code",
      "metadata": {
        "colab": {
          "base_uri": "https://localhost:8080/"
        },
        "id": "x7kI7o1mSpUQ",
        "outputId": "c51b3eb6-434b-4865-bc4f-86026e3a9a87"
      },
      "source": [
        "tf.concat([digits, [[5, 5]]], axis=0)"
      ],
      "execution_count": null,
      "outputs": [
        {
          "output_type": "execute_result",
          "data": {
            "text/plain": [
              "<tf.RaggedTensor [[3, 2, 3, 1], [3, 3, 3], [], [1, 2, 3, 4], [5, 5]]>"
            ]
          },
          "metadata": {
            "tags": []
          },
          "execution_count": 7
        }
      ]
    },
    {
      "cell_type": "code",
      "metadata": {
        "colab": {
          "base_uri": "https://localhost:8080/"
        },
        "id": "iv5mGIKzS1zi",
        "outputId": "4491aebb-35da-4f94-d335-cabfefa03095"
      },
      "source": [
        "tf.tile(digits, [1, 2])"
      ],
      "execution_count": null,
      "outputs": [
        {
          "output_type": "execute_result",
          "data": {
            "text/plain": [
              "<tf.RaggedTensor [[3, 2, 3, 1, 3, 2, 3, 1], [3, 3, 3, 3, 3, 3], [], [1, 2, 3, 4, 1, 2, 3, 4]]>"
            ]
          },
          "metadata": {
            "tags": []
          },
          "execution_count": 8
        }
      ]
    },
    {
      "cell_type": "code",
      "metadata": {
        "colab": {
          "base_uri": "https://localhost:8080/"
        },
        "id": "fyqSj7uITn-0",
        "outputId": "e8ecbd8d-98e8-40d1-811e-bd47e310bf92"
      },
      "source": [
        "tf.strings.substr(string, 0, 2)"
      ],
      "execution_count": null,
      "outputs": [
        {
          "output_type": "execute_result",
          "data": {
            "text/plain": [
              "<tf.RaggedTensor [[b'ab', b'xy', b'uv'], [], [b'ab', b'bc']]>"
            ]
          },
          "metadata": {
            "tags": []
          },
          "execution_count": 9
        }
      ]
    },
    {
      "cell_type": "code",
      "metadata": {
        "colab": {
          "base_uri": "https://localhost:8080/"
        },
        "id": "IGjUqyTHUIZy",
        "outputId": "b492f703-e32b-4628-ab84-8a6cd57aeb74"
      },
      "source": [
        "tf.map_fn(tf.math.square, digits)"
      ],
      "execution_count": null,
      "outputs": [
        {
          "output_type": "execute_result",
          "data": {
            "text/plain": [
              "<tf.RaggedTensor [[9, 4, 9, 1], [9, 9, 9], [], [1, 4, 9, 16]]>"
            ]
          },
          "metadata": {
            "tags": []
          },
          "execution_count": 10
        }
      ]
    },
    {
      "cell_type": "code",
      "metadata": {
        "colab": {
          "base_uri": "https://localhost:8080/"
        },
        "id": "aCBZwXH_2eYI",
        "outputId": "635fa485-d435-417a-c0e0-8473d79f1275"
      },
      "source": [
        "square_plus_one = lambda x: x**2 + 1\r\n",
        "tf.ragged.map_flat_values(square_plus_one, digits)"
      ],
      "execution_count": null,
      "outputs": [
        {
          "output_type": "execute_result",
          "data": {
            "text/plain": [
              "<tf.RaggedTensor [[10, 5, 10, 2], [10, 10, 10], [], [2, 5, 10, 17]]>"
            ]
          },
          "metadata": {
            "tags": []
          },
          "execution_count": 11
        }
      ]
    },
    {
      "cell_type": "code",
      "metadata": {
        "colab": {
          "base_uri": "https://localhost:8080/"
        },
        "id": "MRYkMS5YUPkJ",
        "outputId": "6fe8549e-4e8f-4046-f030-5bc71c4835e9"
      },
      "source": [
        "decode = tf.io.decode_base64(tf.ragged.constant([[\"ok\"]]))\r\n",
        "decode"
      ],
      "execution_count": null,
      "outputs": [
        {
          "output_type": "execute_result",
          "data": {
            "text/plain": [
              "<tf.RaggedTensor [[b'\\xa2']]>"
            ]
          },
          "metadata": {
            "tags": []
          },
          "execution_count": 12
        }
      ]
    },
    {
      "cell_type": "code",
      "metadata": {
        "id": "ecEZPHXtwxNR"
      },
      "source": [
        "import sys"
      ],
      "execution_count": null,
      "outputs": []
    },
    {
      "cell_type": "code",
      "metadata": {
        "colab": {
          "base_uri": "https://localhost:8080/"
        },
        "id": "7V0LkFPawzGA",
        "outputId": "e94deaef-e1e7-4b3b-904f-39e638becd23"
      },
      "source": [
        "sys.getsizeof(decode)"
      ],
      "execution_count": null,
      "outputs": [
        {
          "output_type": "execute_result",
          "data": {
            "text/plain": [
              "56"
            ]
          },
          "metadata": {
            "tags": []
          },
          "execution_count": 14
        }
      ]
    },
    {
      "cell_type": "code",
      "metadata": {
        "colab": {
          "base_uri": "https://localhost:8080/"
        },
        "id": "GGE6MH-5w5z-",
        "outputId": "e21245be-123c-409a-b8d9-0be5097ad5ee"
      },
      "source": [
        "sys.getsizeof(tf.ragged.constant([[\"oi\"]]))"
      ],
      "execution_count": null,
      "outputs": [
        {
          "output_type": "execute_result",
          "data": {
            "text/plain": [
              "56"
            ]
          },
          "metadata": {
            "tags": []
          },
          "execution_count": 15
        }
      ]
    },
    {
      "cell_type": "code",
      "metadata": {
        "colab": {
          "base_uri": "https://localhost:8080/"
        },
        "id": "FoE_DN1nXG15",
        "outputId": "ef0acfa6-461b-4115-8b85-79da697606e1"
      },
      "source": [
        "tf.io.encode_base64(decode)"
      ],
      "execution_count": null,
      "outputs": [
        {
          "output_type": "execute_result",
          "data": {
            "text/plain": [
              "<tf.RaggedTensor [[b'og']]>"
            ]
          },
          "metadata": {
            "tags": []
          },
          "execution_count": 16
        }
      ]
    },
    {
      "cell_type": "markdown",
      "metadata": {
        "id": "yiuCxgQwd5LN"
      },
      "source": [
        "### construction of ragged tensor\r\n",
        "1. *tf.ragged.constant()*\r\n",
        "2. *tf.RaggedTensor.from_value_rowids()*\r\n",
        "3. *tf.RaggedTensor.form_row_lengths()*\r\n",
        "4. *tf.RaggedTensor.from_row_splits()*\r\n",
        "\r\n"
      ]
    },
    {
      "cell_type": "code",
      "metadata": {
        "colab": {
          "base_uri": "https://localhost:8080/"
        },
        "id": "rJSW30kAY7Lc",
        "outputId": "7e638b2e-6add-4425-fcfa-65b61d3aa72c"
      },
      "source": [
        "tf.RaggedTensor.from_value_rowids(\r\n",
        "    values=[1, 2, 3, 4, 5, 6, 7],\r\n",
        "    value_rowids=[0, 0, 2, 2, 3, 3, 4]\r\n",
        "    )"
      ],
      "execution_count": null,
      "outputs": [
        {
          "output_type": "execute_result",
          "data": {
            "text/plain": [
              "<tf.RaggedTensor [[1, 2], [], [3, 4], [5, 6], [7]]>"
            ]
          },
          "metadata": {
            "tags": []
          },
          "execution_count": 17
        }
      ]
    },
    {
      "cell_type": "code",
      "metadata": {
        "colab": {
          "base_uri": "https://localhost:8080/"
        },
        "id": "I3YaUIhffUkm",
        "outputId": "b7019203-1120-4a15-924d-e4f3ad325e0d"
      },
      "source": [
        "tf.RaggedTensor.from_row_lengths(\r\n",
        "    values=[3, 3, 3, 3, 5, 6, 7, 8, 9],\r\n",
        "    row_lengths=[4, 3, 2]\r\n",
        "    )"
      ],
      "execution_count": null,
      "outputs": [
        {
          "output_type": "execute_result",
          "data": {
            "text/plain": [
              "<tf.RaggedTensor [[3, 3, 3, 3], [5, 6, 7], [8, 9]]>"
            ]
          },
          "metadata": {
            "tags": []
          },
          "execution_count": 18
        }
      ]
    },
    {
      "cell_type": "code",
      "metadata": {
        "colab": {
          "base_uri": "https://localhost:8080/"
        },
        "id": "gMCE5ZkkyOzq",
        "outputId": "f3926d09-6dea-4e9e-d28c-4d6f64d848d7"
      },
      "source": [
        "tf.RaggedTensor.from_row_splits(\r\n",
        "    values=[0, 1, 2, 3, 4, 5, 6, 7, 8, 9],\r\n",
        "    row_splits=[0, 4, 4, 7, 7, 10]\r\n",
        ")"
      ],
      "execution_count": null,
      "outputs": [
        {
          "output_type": "execute_result",
          "data": {
            "text/plain": [
              "<tf.RaggedTensor [[0, 1, 2, 3], [], [4, 5, 6], [], [7, 8, 9]]>"
            ]
          },
          "metadata": {
            "tags": []
          },
          "execution_count": 19
        }
      ]
    },
    {
      "cell_type": "markdown",
      "metadata": {
        "id": "PATm_VwFAg8C"
      },
      "source": [
        "## Use cases of ragged tensor"
      ]
    },
    {
      "cell_type": "code",
      "metadata": {
        "id": "MVLCyb07zgzZ"
      },
      "source": [
        "queries = tf.ragged.constant([[\"I\", \"am\", \"vinay\", \"patil\"],\r\n",
        "                              [\"I\", \"like\", \"voilet\", \"color\"],\r\n",
        "                              [\"How\", \"do\", \"you\", \"about\", \"myself\"],\r\n",
        "                              [\"I\", \"love\", \"ai\"]\r\n",
        "                          ])"
      ],
      "execution_count": null,
      "outputs": []
    },
    {
      "cell_type": "code",
      "metadata": {
        "colab": {
          "base_uri": "https://localhost:8080/"
        },
        "id": "7yrRe5ZzBOig",
        "outputId": "54998c21-7454-4401-9328-c985d9c645a4"
      },
      "source": [
        "queries"
      ],
      "execution_count": null,
      "outputs": [
        {
          "output_type": "execute_result",
          "data": {
            "text/plain": [
              "<tf.RaggedTensor [[b'I', b'am', b'vinay', b'patil'], [b'I', b'like', b'voilet', b'color'], [b'How', b'do', b'you', b'about', b'myself'], [b'I', b'love', b'ai']]>"
            ]
          },
          "metadata": {
            "tags": []
          },
          "execution_count": 21
        }
      ]
    },
    {
      "cell_type": "code",
      "metadata": {
        "id": "pGDFK-UnBPrB"
      },
      "source": [
        "num_buckets = 1024\r\n",
        "embedding_size = 4\r\n",
        "embedding_table = tf.Variable(tf.random.truncated_normal([num_buckets, embedding_size],\r\n",
        "                              stddev=1.0 / math.sqrt(embedding_size)))\r\n",
        "# embedding_table"
      ],
      "execution_count": null,
      "outputs": []
    },
    {
      "cell_type": "code",
      "metadata": {
        "colab": {
          "base_uri": "https://localhost:8080/"
        },
        "id": "E4lTxstdCEX5",
        "outputId": "efe27167-b4aa-49dc-a4db-88c14e029dea"
      },
      "source": [
        "w_b = tf.strings.to_hash_bucket_fast(queries, num_buckets)\r\n",
        "w_b"
      ],
      "execution_count": null,
      "outputs": [
        {
          "output_type": "execute_result",
          "data": {
            "text/plain": [
              "<tf.RaggedTensor [[68, 492, 3, 302], [68, 731, 413, 521], [135, 494, 924, 254, 812], [68, 999, 222]]>"
            ]
          },
          "metadata": {
            "tags": []
          },
          "execution_count": 23
        }
      ]
    },
    {
      "cell_type": "code",
      "metadata": {
        "colab": {
          "base_uri": "https://localhost:8080/"
        },
        "id": "ci6a4WvbCgdE",
        "outputId": "2b5b8587-64e8-4f2f-b6b7-29f080f38b94"
      },
      "source": [
        "w_eb = tf.nn.embedding_lookup(embedding_table, w_b)\r\n",
        "w_eb"
      ],
      "execution_count": null,
      "outputs": [
        {
          "output_type": "execute_result",
          "data": {
            "text/plain": [
              "<tf.RaggedTensor [[[-0.3074694275856018, 0.1387438327074051, -0.5223070979118347, 0.18394097685813904], [0.5005806684494019, -0.11261317133903503, -0.4146071672439575, -0.9394912719726562], [-0.20241416990756989, -0.37953367829322815, -0.2397526353597641, -0.4732277989387512], [0.47632691264152527, 0.6406905055046082, 0.518401026725769, -0.5452863574028015]], [[-0.3074694275856018, 0.1387438327074051, -0.5223070979118347, 0.18394097685813904], [-0.535005509853363, 0.034555207937955856, 0.0879291370511055, 0.04749893769621849], [0.5486158728599548, -0.09561555832624435, 0.3532993793487549, 0.43734487891197205], [-0.06668850779533386, -0.2533300518989563, -0.21676753461360931, 0.08614395558834076]], [[-0.5930306315422058, 0.28678014874458313, -0.12970347702503204, -0.602933406829834], [-0.4331868886947632, -0.2768113911151886, -0.22818784415721893, 0.4611639380455017], [0.24436143040657043, -0.19970650970935822, -0.22812137007713318, -0.478665828704834], [0.6626963019371033, -0.03577720746397972, -0.3842514753341675, -0.7669419646263123], [-0.17589141428470612, -0.48489874601364136, -0.808005690574646, 0.30069154500961304]], [[-0.3074694275856018, 0.1387438327074051, -0.5223070979118347, 0.18394097685813904], [-0.5436581969261169, -0.2735767960548401, -0.8357852101325989, 0.3459845781326294], [0.6871293187141418, 0.07260264456272125, 0.4443751275539398, -0.9233032464981079]]]>"
            ]
          },
          "metadata": {
            "tags": []
          },
          "execution_count": 24
        }
      ]
    },
    {
      "cell_type": "code",
      "metadata": {
        "colab": {
          "base_uri": "https://localhost:8080/"
        },
        "id": "QCaEsdFvCxJZ",
        "outputId": "c8ffaf5a-3bac-454b-b981-da0c662a016f"
      },
      "source": [
        "marker = tf.fill([queries.nrows(), 1], \"#\")\r\n",
        "marker"
      ],
      "execution_count": null,
      "outputs": [
        {
          "output_type": "execute_result",
          "data": {
            "text/plain": [
              "<tf.Tensor: shape=(4, 1), dtype=string, numpy=\n",
              "array([[b'#'],\n",
              "       [b'#'],\n",
              "       [b'#'],\n",
              "       [b'#']], dtype=object)>"
            ]
          },
          "metadata": {
            "tags": []
          },
          "execution_count": 25
        }
      ]
    },
    {
      "cell_type": "code",
      "metadata": {
        "colab": {
          "base_uri": "https://localhost:8080/"
        },
        "id": "HHuEJQdvC_qJ",
        "outputId": "2697b25c-2886-4ada-fa40-dd8e75041647"
      },
      "source": [
        "padding = tf.concat([marker, queries, marker], axis=1)\r\n",
        "padding"
      ],
      "execution_count": null,
      "outputs": [
        {
          "output_type": "execute_result",
          "data": {
            "text/plain": [
              "<tf.RaggedTensor [[b'#', b'I', b'am', b'vinay', b'patil', b'#'], [b'#', b'I', b'like', b'voilet', b'color', b'#'], [b'#', b'How', b'do', b'you', b'about', b'myself', b'#'], [b'#', b'I', b'love', b'ai', b'#']]>"
            ]
          },
          "metadata": {
            "tags": []
          },
          "execution_count": 26
        }
      ]
    },
    {
      "cell_type": "code",
      "metadata": {
        "colab": {
          "base_uri": "https://localhost:8080/"
        },
        "id": "7Aemcx-1Dwuw",
        "outputId": "ee1ef8b3-3b27-46d4-efa3-c3072c6fdae9"
      },
      "source": [
        "bigrams = tf.strings.join([padding[:,:-1], padding[:,1:]], separator=\"+\")\r\n",
        "bigrams"
      ],
      "execution_count": null,
      "outputs": [
        {
          "output_type": "execute_result",
          "data": {
            "text/plain": [
              "<tf.RaggedTensor [[b'#+I', b'I+am', b'am+vinay', b'vinay+patil', b'patil+#'], [b'#+I', b'I+like', b'like+voilet', b'voilet+color', b'color+#'], [b'#+How', b'How+do', b'do+you', b'you+about', b'about+myself', b'myself+#'], [b'#+I', b'I+love', b'love+ai', b'ai+#']]>"
            ]
          },
          "metadata": {
            "tags": []
          },
          "execution_count": 27
        }
      ]
    },
    {
      "cell_type": "code",
      "metadata": {
        "colab": {
          "base_uri": "https://localhost:8080/"
        },
        "id": "z0rudyElEeqH",
        "outputId": "a1330069-dc83-4119-92c7-9519312bfe20"
      },
      "source": [
        "bigrams_bucket = tf.strings.to_hash_bucket_fast(bigrams, num_buckets)\r\n",
        "bigrams_bucket"
      ],
      "execution_count": null,
      "outputs": [
        {
          "output_type": "execute_result",
          "data": {
            "text/plain": [
              "<tf.RaggedTensor [[915, 799, 831, 637, 521], [915, 423, 500, 869, 520], [852, 342, 454, 510, 938, 769], [915, 45, 232, 954]]>"
            ]
          },
          "metadata": {
            "tags": []
          },
          "execution_count": 28
        }
      ]
    },
    {
      "cell_type": "code",
      "metadata": {
        "colab": {
          "base_uri": "https://localhost:8080/"
        },
        "id": "UNP8jGf9Eytj",
        "outputId": "35c85b00-f918-4599-a07f-f54d865f79ee"
      },
      "source": [
        "bigrams_embedding = tf.nn.embedding_lookup(embedding_table, bigrams_bucket)\r\n",
        "bigrams_embedding"
      ],
      "execution_count": null,
      "outputs": [
        {
          "output_type": "execute_result",
          "data": {
            "text/plain": [
              "<tf.RaggedTensor [[[-0.08664236217737198, 0.4958704113960266, -0.23709915578365326, -0.08385498076677322], [0.18282854557037354, 0.5458505749702454, -0.0706811174750328, 0.48843133449554443], [0.09522805362939835, 0.1081816703081131, 0.24982547760009766, -0.058480288833379745], [0.31604552268981934, 0.3032344877719879, -0.33055636286735535, -0.518042802810669], [-0.06668850779533386, -0.2533300518989563, -0.21676753461360931, 0.08614395558834076]], [[-0.08664236217737198, 0.4958704113960266, -0.23709915578365326, -0.08385498076677322], [-0.22734308242797852, -0.21734048426151276, -0.3664870858192444, 0.1948409229516983], [-0.8057729601860046, 0.744895339012146, -0.4131231904029846, 0.3355291783809662], [0.8800925016403198, -0.06627708673477173, -0.4496087431907654, -0.16952036321163177], [0.5177002549171448, -0.0284085962921381, -0.05992792174220085, 0.44094544649124146]], [[0.2527144253253937, -0.17588211596012115, 0.21114814281463623, 0.45934146642684937], [-0.1251469999551773, 0.3765012323856354, -0.7548853158950806, -0.41177716851234436], [0.4136083424091339, 0.21131376922130585, -0.10974612087011337, 0.3150056004524231], [-0.09105106443166733, 0.9515435695648193, 0.25962257385253906, -0.06575359404087067], [0.4123736619949341, -0.3624472916126251, 0.2796165943145752, -0.07722679525613785], [0.02685088850557804, -0.502777636051178, -0.08026182651519775, -0.2976199686527252]], [[-0.08664236217737198, 0.4958704113960266, -0.23709915578365326, -0.08385498076677322], [0.516169011592865, -0.5439902544021606, -0.32273203134536743, -0.0962805300951004], [0.42573511600494385, -0.1560356169939041, -0.4786534011363983, 0.19417497515678406], [-0.6689963340759277, -0.06363308429718018, 0.38828760385513306, -0.084787517786026]]]>"
            ]
          },
          "metadata": {
            "tags": []
          },
          "execution_count": 29
        }
      ]
    },
    {
      "cell_type": "code",
      "metadata": {
        "colab": {
          "base_uri": "https://localhost:8080/"
        },
        "id": "5PsdQkqyFTtM",
        "outputId": "5a6fe32a-6326-4d77-de37-c28cd8752458"
      },
      "source": [
        "all_embedding = tf.concat([w_eb, bigrams_embedding], axis=1)\r\n",
        "all_embedding"
      ],
      "execution_count": null,
      "outputs": [
        {
          "output_type": "execute_result",
          "data": {
            "text/plain": [
              "<tf.RaggedTensor [[[-0.3074694275856018, 0.1387438327074051, -0.5223070979118347, 0.18394097685813904], [0.5005806684494019, -0.11261317133903503, -0.4146071672439575, -0.9394912719726562], [-0.20241416990756989, -0.37953367829322815, -0.2397526353597641, -0.4732277989387512], [0.47632691264152527, 0.6406905055046082, 0.518401026725769, -0.5452863574028015], [-0.08664236217737198, 0.4958704113960266, -0.23709915578365326, -0.08385498076677322], [0.18282854557037354, 0.5458505749702454, -0.0706811174750328, 0.48843133449554443], [0.09522805362939835, 0.1081816703081131, 0.24982547760009766, -0.058480288833379745], [0.31604552268981934, 0.3032344877719879, -0.33055636286735535, -0.518042802810669], [-0.06668850779533386, -0.2533300518989563, -0.21676753461360931, 0.08614395558834076]], [[-0.3074694275856018, 0.1387438327074051, -0.5223070979118347, 0.18394097685813904], [-0.535005509853363, 0.034555207937955856, 0.0879291370511055, 0.04749893769621849], [0.5486158728599548, -0.09561555832624435, 0.3532993793487549, 0.43734487891197205], [-0.06668850779533386, -0.2533300518989563, -0.21676753461360931, 0.08614395558834076], [-0.08664236217737198, 0.4958704113960266, -0.23709915578365326, -0.08385498076677322], [-0.22734308242797852, -0.21734048426151276, -0.3664870858192444, 0.1948409229516983], [-0.8057729601860046, 0.744895339012146, -0.4131231904029846, 0.3355291783809662], [0.8800925016403198, -0.06627708673477173, -0.4496087431907654, -0.16952036321163177], [0.5177002549171448, -0.0284085962921381, -0.05992792174220085, 0.44094544649124146]], [[-0.5930306315422058, 0.28678014874458313, -0.12970347702503204, -0.602933406829834], [-0.4331868886947632, -0.2768113911151886, -0.22818784415721893, 0.4611639380455017], [0.24436143040657043, -0.19970650970935822, -0.22812137007713318, -0.478665828704834], [0.6626963019371033, -0.03577720746397972, -0.3842514753341675, -0.7669419646263123], [-0.17589141428470612, -0.48489874601364136, -0.808005690574646, 0.30069154500961304], [0.2527144253253937, -0.17588211596012115, 0.21114814281463623, 0.45934146642684937], [-0.1251469999551773, 0.3765012323856354, -0.7548853158950806, -0.41177716851234436], [0.4136083424091339, 0.21131376922130585, -0.10974612087011337, 0.3150056004524231], [-0.09105106443166733, 0.9515435695648193, 0.25962257385253906, -0.06575359404087067], [0.4123736619949341, -0.3624472916126251, 0.2796165943145752, -0.07722679525613785], [0.02685088850557804, -0.502777636051178, -0.08026182651519775, -0.2976199686527252]], [[-0.3074694275856018, 0.1387438327074051, -0.5223070979118347, 0.18394097685813904], [-0.5436581969261169, -0.2735767960548401, -0.8357852101325989, 0.3459845781326294], [0.6871293187141418, 0.07260264456272125, 0.4443751275539398, -0.9233032464981079], [-0.08664236217737198, 0.4958704113960266, -0.23709915578365326, -0.08385498076677322], [0.516169011592865, -0.5439902544021606, -0.32273203134536743, -0.0962805300951004], [0.42573511600494385, -0.1560356169939041, -0.4786534011363983, 0.19417497515678406], [-0.6689963340759277, -0.06363308429718018, 0.38828760385513306, -0.084787517786026]]]>"
            ]
          },
          "metadata": {
            "tags": []
          },
          "execution_count": 30
        }
      ]
    },
    {
      "cell_type": "code",
      "metadata": {
        "id": "trKyhmpHFdUO"
      },
      "source": [
        "avg_eb = tf.reduce_mean(all_embedding, axis=1)"
      ],
      "execution_count": null,
      "outputs": []
    },
    {
      "cell_type": "code",
      "metadata": {
        "colab": {
          "base_uri": "https://localhost:8080/"
        },
        "id": "8cCy8LM3F2AW",
        "outputId": "b16bde09-84f6-449c-e47e-79e847196e21"
      },
      "source": [
        "avg_eb"
      ],
      "execution_count": null,
      "outputs": [
        {
          "output_type": "execute_result",
          "data": {
            "text/plain": [
              "<tf.Tensor: shape=(4, 4), dtype=float32, numpy=\n",
              "array([[ 0.10086613,  0.16523273, -0.14039384, -0.20665193],\n",
              "       [-0.00916813,  0.083677  , -0.20267694,  0.1636521 ],\n",
              "       [ 0.0540271 , -0.01928747, -0.17934328, -0.10588329],\n",
              "       [ 0.00318101, -0.04714555, -0.22341633, -0.06630367]],\n",
              "      dtype=float32)>"
            ]
          },
          "metadata": {
            "tags": []
          },
          "execution_count": 32
        }
      ]
    },
    {
      "cell_type": "markdown",
      "metadata": {
        "id": "5LRoCrrWGceo"
      },
      "source": [
        "## Sparse tensor"
      ]
    },
    {
      "cell_type": "code",
      "metadata": {
        "colab": {
          "base_uri": "https://localhost:8080/"
        },
        "id": "4vnIi2OxF3AW",
        "outputId": "c9a30043-11a1-4fe7-c1c3-3aa8b88f9e1c"
      },
      "source": [
        "ragged_str = tf.ragged.constant([[\"hi\", \"by\"],\r\n",
        "                                 [\"no\", \"never\", \"last\", \"road\"]])\r\n",
        "ragged_str"
      ],
      "execution_count": null,
      "outputs": [
        {
          "output_type": "execute_result",
          "data": {
            "text/plain": [
              "<tf.RaggedTensor [[b'hi', b'by'], [b'no', b'never', b'last', b'road']]>"
            ]
          },
          "metadata": {
            "tags": []
          },
          "execution_count": 33
        }
      ]
    },
    {
      "cell_type": "code",
      "metadata": {
        "id": "5oA_U2kPGvuQ"
      },
      "source": [
        "lasts = ragged_str.to_sparse()"
      ],
      "execution_count": null,
      "outputs": []
    },
    {
      "cell_type": "code",
      "metadata": {
        "id": "XzTrJDfWGyM-",
        "colab": {
          "base_uri": "https://localhost:8080/"
        },
        "outputId": "9888016d-668f-42e5-df44-43e96d2c4836"
      },
      "source": [
        "print(lasts)"
      ],
      "execution_count": null,
      "outputs": [
        {
          "output_type": "stream",
          "text": [
            "SparseTensor(indices=tf.Tensor(\n",
            "[[0 0]\n",
            " [0 1]\n",
            " [1 0]\n",
            " [1 1]\n",
            " [1 2]\n",
            " [1 3]], shape=(6, 2), dtype=int64), values=tf.Tensor([b'hi' b'by' b'no' b'never' b'last' b'road'], shape=(6,), dtype=string), dense_shape=tf.Tensor([2 4], shape=(2,), dtype=int64))\n"
          ],
          "name": "stdout"
        }
      ]
    },
    {
      "cell_type": "markdown",
      "metadata": {
        "id": "M6NnJY235DVB"
      },
      "source": [
        "## Ragged tensor in keras\r\n",
        "### you can pass RaggedTensor as input to the kearas model by setting \r\n",
        "#### *ragged=True* on \r\n",
        "#### *tf.keras.Input* and \r\n",
        "#### *tf.keras.layers.Input*"
      ]
    },
    {
      "cell_type": "code",
      "metadata": {
        "id": "a-SqUUB85JDL"
      },
      "source": [
        "question = tf.constant([\"do you know about this comic?\", \r\n",
        "                        \"yes i Know.\",\r\n",
        "                        \"Whats your Name?\",\r\n",
        "                        \"xyz\"])\r\n",
        "isquestion = tf.constant([True, False, True, False])"
      ],
      "execution_count": null,
      "outputs": []
    },
    {
      "cell_type": "code",
      "metadata": {
        "id": "qkTVddJCHBCa",
        "colab": {
          "base_uri": "https://localhost:8080/"
        },
        "outputId": "3cf3e70e-c708-41f9-825f-d2bcbe04a4e0"
      },
      "source": [
        "words = tf.strings.split(question, \" \")\r\n",
        "words"
      ],
      "execution_count": null,
      "outputs": [
        {
          "output_type": "execute_result",
          "data": {
            "text/plain": [
              "<tf.RaggedTensor [[b'do', b'you', b'know', b'about', b'this', b'comic?'], [b'yes', b'i', b'Know.'], [b'Whats', b'your', b'Name?'], [b'xyz']]>"
            ]
          },
          "metadata": {
            "tags": []
          },
          "execution_count": 37
        }
      ]
    },
    {
      "cell_type": "code",
      "metadata": {
        "colab": {
          "base_uri": "https://localhost:8080/"
        },
        "id": "RSaaxOKL6zAa",
        "outputId": "ee9b1762-821c-4c2e-bbe6-ffdca259000e"
      },
      "source": [
        "hash_words = tf.strings.to_hash_bucket_fast(words, 1000)\r\n",
        "hash_words"
      ],
      "execution_count": null,
      "outputs": [
        {
          "output_type": "execute_result",
          "data": {
            "text/plain": [
              "<tf.RaggedTensor [[134, 668, 881, 62, 19, 49], [307, 100, 276], [223, 37, 572], [420]]>"
            ]
          },
          "metadata": {
            "tags": []
          },
          "execution_count": 38
        }
      ]
    },
    {
      "cell_type": "code",
      "metadata": {
        "id": "5HSidY_v7aDb"
      },
      "source": [
        "model = tf.keras.Sequential([\r\n",
        "                             tf.keras.layers.Input(shape=[None], dtype=tf.int64, ragged=True),\r\n",
        "                             tf.keras.layers.Embedding(1000, 16),\r\n",
        "                             tf.keras.layers.LSTM(32, use_bias=False),\r\n",
        "                             tf.keras.layers.Dense(32, activation=\"relu\"),\r\n",
        "                             tf.keras.layers.Dense(1)\r\n",
        "])"
      ],
      "execution_count": null,
      "outputs": []
    },
    {
      "cell_type": "code",
      "metadata": {
        "id": "E5ZhxftZ8eJx"
      },
      "source": [
        "model.compile(\"adam\", \"binary_crossentropy\")"
      ],
      "execution_count": null,
      "outputs": []
    },
    {
      "cell_type": "code",
      "metadata": {
        "colab": {
          "base_uri": "https://localhost:8080/"
        },
        "id": "42B0JOAZ84Dm",
        "outputId": "8b80cf14-e334-47b5-b22a-992162720e2c"
      },
      "source": [
        "model.fit(hash_words, isquestion, epochs=10)"
      ],
      "execution_count": null,
      "outputs": [
        {
          "output_type": "stream",
          "text": [
            "Epoch 1/10\n"
          ],
          "name": "stdout"
        },
        {
          "output_type": "stream",
          "text": [
            "/usr/local/lib/python3.6/dist-packages/tensorflow/python/framework/indexed_slices.py:437: UserWarning: Converting sparse IndexedSlices(IndexedSlices(indices=Tensor(\"gradient_tape/sequential/lstm/RaggedToTensor/boolean_mask_1/GatherV2:0\", shape=(None,), dtype=int32), values=Tensor(\"gradient_tape/sequential/lstm/RaggedToTensor/boolean_mask/GatherV2:0\", shape=(None, 16), dtype=float32), dense_shape=Tensor(\"gradient_tape/sequential/lstm/RaggedToTensor/Shape:0\", shape=(2,), dtype=int32))) to a dense Tensor of unknown shape. This may consume a large amount of memory.\n",
            "  \"shape. This may consume a large amount of memory.\" % value)\n"
          ],
          "name": "stderr"
        },
        {
          "output_type": "stream",
          "text": [
            "1/1 [==============================] - 2s 2s/step - loss: 5.2870\n",
            "Epoch 2/10\n",
            "1/1 [==============================] - 0s 6ms/step - loss: 2.6538\n",
            "Epoch 3/10\n",
            "1/1 [==============================] - 0s 7ms/step - loss: 2.3151\n",
            "Epoch 4/10\n",
            "1/1 [==============================] - 0s 7ms/step - loss: 2.1358\n",
            "Epoch 5/10\n",
            "1/1 [==============================] - 0s 7ms/step - loss: 2.0104\n",
            "Epoch 6/10\n",
            "1/1 [==============================] - 0s 6ms/step - loss: 1.9130\n",
            "Epoch 7/10\n",
            "1/1 [==============================] - 0s 6ms/step - loss: 1.8302\n",
            "Epoch 8/10\n",
            "1/1 [==============================] - 0s 7ms/step - loss: 1.7604\n",
            "Epoch 9/10\n",
            "1/1 [==============================] - 0s 7ms/step - loss: 1.7025\n",
            "Epoch 10/10\n",
            "1/1 [==============================] - 0s 6ms/step - loss: 1.6534\n"
          ],
          "name": "stdout"
        },
        {
          "output_type": "execute_result",
          "data": {
            "text/plain": [
              "<tensorflow.python.keras.callbacks.History at 0x7f14d2d2e5f8>"
            ]
          },
          "metadata": {
            "tags": []
          },
          "execution_count": 41
        }
      ]
    },
    {
      "cell_type": "code",
      "metadata": {
        "colab": {
          "base_uri": "https://localhost:8080/"
        },
        "id": "4etVMcxA9Fm5",
        "outputId": "c9b1e241-09be-4fa1-9c02-83c9d315d3ac"
      },
      "source": [
        "model.predict(hash_words)"
      ],
      "execution_count": null,
      "outputs": [
        {
          "output_type": "execute_result",
          "data": {
            "text/plain": [
              "array([[0.04485743],\n",
              "       [0.02749132],\n",
              "       [0.03765893],\n",
              "       [0.02229887]], dtype=float32)"
            ]
          },
          "metadata": {
            "tags": []
          },
          "execution_count": 42
        }
      ]
    },
    {
      "cell_type": "markdown",
      "metadata": {
        "id": "Qv2SysQUcUO7"
      },
      "source": [
        "### *tf.Example()*"
      ]
    },
    {
      "cell_type": "code",
      "metadata": {
        "id": "K28yzO2YKlHK"
      },
      "source": [
        "import google.protobuf.text_format as pbtext"
      ],
      "execution_count": null,
      "outputs": []
    },
    {
      "cell_type": "code",
      "metadata": {
        "id": "Hm51LqgHLxXr",
        "colab": {
          "base_uri": "https://localhost:8080/"
        },
        "outputId": "e9dea90c-e575-492e-de0a-326087ef2226"
      },
      "source": [
        "tf.io.RaggedFeature(tf.string)"
      ],
      "execution_count": null,
      "outputs": [
        {
          "output_type": "execute_result",
          "data": {
            "text/plain": [
              "RaggedFeature(dtype=tf.string, value_key=None, partitions=(), row_splits_dtype=tf.int32, validate=False)"
            ]
          },
          "metadata": {
            "tags": []
          },
          "execution_count": 44
        }
      ]
    },
    {
      "cell_type": "code",
      "metadata": {
        "colab": {
          "base_uri": "https://localhost:8080/"
        },
        "id": "FGtVDQjvdloR",
        "outputId": "c7a1a42e-85a6-45f6-d67e-dde54b3a80a3"
      },
      "source": [
        "tf.io.RaggedFeature(tf.int64)"
      ],
      "execution_count": null,
      "outputs": [
        {
          "output_type": "execute_result",
          "data": {
            "text/plain": [
              "RaggedFeature(dtype=tf.int64, value_key=None, partitions=(), row_splits_dtype=tf.int32, validate=False)"
            ]
          },
          "metadata": {
            "tags": []
          },
          "execution_count": 45
        }
      ]
    },
    {
      "cell_type": "code",
      "metadata": {
        "id": "Jsu9IJgkdxt9"
      },
      "source": [
        "def build_tf_example(s):\r\n",
        "  return pbtext.Merge(s, tf.train.Example()).SerializeToString()"
      ],
      "execution_count": null,
      "outputs": []
    },
    {
      "cell_type": "code",
      "metadata": {
        "id": "dNls0lOkpPjy"
      },
      "source": [
        "example_batch = [\r\n",
        "                 build_tf_example(r'''\r\n",
        "                 features{\r\n",
        "                   feature {key: \"colors\" value {bytes_list {value : [\"red\", \"blue\"]}}}\r\n",
        "                   feature {key: \"lengths\" value {int64_list {value: [7, 9]}}}\r\n",
        "                 }'''),\r\n",
        "                 build_tf_example(r'''\r\n",
        "                 features{\r\n",
        "                   feature {key: \"colors\" value {bytes_list {value : [\"orange\"]}}}\r\n",
        "                   feature {key: \"lengths\" value {int64_list {value: [7]}}}\r\n",
        "                 }''')\r\n",
        "]"
      ],
      "execution_count": null,
      "outputs": []
    },
    {
      "cell_type": "code",
      "metadata": {
        "colab": {
          "base_uri": "https://localhost:8080/"
        },
        "id": "zqGSX-IdpWER",
        "outputId": "802df056-07cc-4c1f-8b4e-b3d5a40590a0"
      },
      "source": [
        "example_batch[0]"
      ],
      "execution_count": null,
      "outputs": [
        {
          "output_type": "execute_result",
          "data": {
            "text/plain": [
              "b'\\n,\\n\\x11\\n\\x07lengths\\x12\\x06\\x1a\\x04\\n\\x02\\x07\\t\\n\\x17\\n\\x06colors\\x12\\r\\n\\x0b\\n\\x03red\\n\\x04blue'"
            ]
          },
          "metadata": {
            "tags": []
          },
          "execution_count": 48
        }
      ]
    },
    {
      "cell_type": "code",
      "metadata": {
        "id": "Np81SYTatUqB"
      },
      "source": [
        "features = {\r\n",
        "    \"colors\" : tf.io.RaggedFeature(tf.string),\r\n",
        "    \"lengths\" : tf.io.RaggedFeature(tf.int64)\r\n",
        "}"
      ],
      "execution_count": null,
      "outputs": []
    },
    {
      "cell_type": "code",
      "metadata": {
        "colab": {
          "base_uri": "https://localhost:8080/"
        },
        "id": "jHglb9R0tvOg",
        "outputId": "b1a1901e-57d4-4451-e0f4-a470f70421a3"
      },
      "source": [
        "feature_tensor = tf.io.parse_example(example_batch, features)\r\n",
        "feature_tensor"
      ],
      "execution_count": null,
      "outputs": [
        {
          "output_type": "execute_result",
          "data": {
            "text/plain": [
              "{'colors': <tf.RaggedTensor [[b'red', b'blue'], [b'orange']]>,\n",
              " 'lengths': <tf.RaggedTensor [[7, 9], [7]]>}"
            ]
          },
          "metadata": {
            "tags": []
          },
          "execution_count": 50
        }
      ]
    },
    {
      "cell_type": "code",
      "metadata": {
        "colab": {
          "base_uri": "https://localhost:8080/"
        },
        "id": "ezBVZh_Qt6zO",
        "outputId": "e5dd054c-cfc3-4e83-f9e7-46a3507657c9"
      },
      "source": [
        "feature_tensor.get(\"colors\")"
      ],
      "execution_count": null,
      "outputs": [
        {
          "output_type": "execute_result",
          "data": {
            "text/plain": [
              "<tf.RaggedTensor [[b'red', b'blue'], [b'orange']]>"
            ]
          },
          "metadata": {
            "tags": []
          },
          "execution_count": 51
        }
      ]
    },
    {
      "cell_type": "markdown",
      "metadata": {
        "id": "Z6eePCzJRsm4"
      },
      "source": [
        "## *tf.data*\r\n",
        "### this api allows to build complex input pipline from simple and reusable pices"
      ]
    },
    {
      "cell_type": "markdown",
      "metadata": {
        "id": "MB53kusmRiP0"
      },
      "source": [
        "### *tf.data.Dataset()*"
      ]
    },
    {
      "cell_type": "code",
      "metadata": {
        "id": "XWepxwJcvOj0"
      },
      "source": [
        "def print_dataset(data):\r\n",
        "  for i, features in enumerate(data):\r\n",
        "    print(f\"feature {i}: \")\r\n",
        "    for k, v in features.items():\r\n",
        "      print(f\"{k} = {v}\")"
      ],
      "execution_count": null,
      "outputs": []
    },
    {
      "cell_type": "code",
      "metadata": {
        "id": "DsZHa6hfS4u1"
      },
      "source": [
        "dataset = tf.data.Dataset.from_tensor_slices(feature_tensor)"
      ],
      "execution_count": null,
      "outputs": []
    },
    {
      "cell_type": "code",
      "metadata": {
        "colab": {
          "base_uri": "https://localhost:8080/"
        },
        "id": "iQGrKWv1TIi2",
        "outputId": "2d7c1c24-b80b-4df2-87bb-5b3c945c4035"
      },
      "source": [
        "print_dataset(dataset)"
      ],
      "execution_count": null,
      "outputs": [
        {
          "output_type": "stream",
          "text": [
            "feature 0: \n",
            "colors = [b'red' b'blue']\n",
            "lengths = [7 9]\n",
            "feature 1: \n",
            "colors = [b'orange']\n",
            "lengths = [7]\n"
          ],
          "name": "stdout"
        }
      ]
    },
    {
      "cell_type": "markdown",
      "metadata": {
        "id": "SrPn9BYATpJT"
      },
      "source": [
        "### batching and unbatching dataset"
      ]
    },
    {
      "cell_type": "code",
      "metadata": {
        "colab": {
          "base_uri": "https://localhost:8080/"
        },
        "id": "1Idj0AP7TL0U",
        "outputId": "1e152b4a-e387-4593-e618-b02743d2a111"
      },
      "source": [
        "batch_dataset = dataset.batch(1)\r\n",
        "print_dataset(batch_dataset)"
      ],
      "execution_count": null,
      "outputs": [
        {
          "output_type": "stream",
          "text": [
            "feature 0: \n",
            "colors = <tf.RaggedTensor [[b'red', b'blue']]>\n",
            "lengths = <tf.RaggedTensor [[7, 9]]>\n",
            "feature 1: \n",
            "colors = <tf.RaggedTensor [[b'orange']]>\n",
            "lengths = <tf.RaggedTensor [[7]]>\n"
          ],
          "name": "stdout"
        }
      ]
    },
    {
      "cell_type": "code",
      "metadata": {
        "colab": {
          "base_uri": "https://localhost:8080/"
        },
        "id": "4g4uvEDvT0ww",
        "outputId": "84c5673a-1911-43d4-987a-e308215d4ef1"
      },
      "source": [
        "print_dataset(dataset)"
      ],
      "execution_count": null,
      "outputs": [
        {
          "output_type": "stream",
          "text": [
            "feature 0: \n",
            "colors = [b'red' b'blue']\n",
            "lengths = [7 9]\n",
            "feature 1: \n",
            "colors = [b'orange']\n",
            "lengths = [7]\n"
          ],
          "name": "stdout"
        }
      ]
    },
    {
      "cell_type": "markdown",
      "metadata": {
        "id": "H1M3grMwVb1_"
      },
      "source": [
        "### *tf.function()* with ragged tensor"
      ]
    },
    {
      "cell_type": "code",
      "metadata": {
        "id": "eGkyNqDaVbQV"
      },
      "source": [
        "@tf.function\r\n",
        "def make_palindrome(tensor, axis=1):\r\n",
        "  return tf.concat([tensor, tf.reverse(tensor, [axis])], axis)"
      ],
      "execution_count": null,
      "outputs": []
    },
    {
      "cell_type": "code",
      "metadata": {
        "colab": {
          "base_uri": "https://localhost:8080/"
        },
        "id": "WkyirjL7WBnN",
        "outputId": "11d4265e-c40c-4781-8923-4d83f650f062"
      },
      "source": [
        "make_palindrome(tf.ragged.constant([[1, 2], [3], [4, 5, 6]]), axis=1)"
      ],
      "execution_count": null,
      "outputs": [
        {
          "output_type": "execute_result",
          "data": {
            "text/plain": [
              "<tf.RaggedTensor [[1, 2, 2, 1], [3, 3], [4, 5, 6, 6, 5, 4]]>"
            ]
          },
          "metadata": {
            "tags": []
          },
          "execution_count": 77
        }
      ]
    },
    {
      "cell_type": "markdown",
      "metadata": {
        "id": "IMeBYYVcZpK6"
      },
      "source": [
        "### *tf.saved_model*"
      ]
    },
    {
      "cell_type": "code",
      "metadata": {
        "id": "yVA3zQcAXYm2"
      },
      "source": [
        "import tempfile"
      ],
      "execution_count": null,
      "outputs": []
    },
    {
      "cell_type": "code",
      "metadata": {
        "colab": {
          "base_uri": "https://localhost:8080/",
          "height": 35
        },
        "id": "9fMTwKb3Z22f",
        "outputId": "06e8306e-296c-4b65-a1f8-0c853b3e7d04"
      },
      "source": [
        "path = tempfile.mkdtemp()\r\n",
        "path"
      ],
      "execution_count": null,
      "outputs": [
        {
          "output_type": "execute_result",
          "data": {
            "application/vnd.google.colaboratory.intrinsic+json": {
              "type": "string"
            },
            "text/plain": [
              "'/tmp/tmpe4ro1s8b'"
            ]
          },
          "metadata": {
            "tags": []
          },
          "execution_count": 79
        }
      ]
    },
    {
      "cell_type": "code",
      "metadata": {
        "colab": {
          "base_uri": "https://localhost:8080/"
        },
        "id": "zOK1rKVjaBRB",
        "outputId": "3eeaa1d4-536e-4464-9db7-e6c43ebdeb3b"
      },
      "source": [
        "tf.saved_model.save(model, path)"
      ],
      "execution_count": null,
      "outputs": [
        {
          "output_type": "stream",
          "text": [
            "INFO:tensorflow:Assets written to: /tmp/tmpe4ro1s8b/assets\n"
          ],
          "name": "stdout"
        }
      ]
    },
    {
      "cell_type": "code",
      "metadata": {
        "id": "T749VbyNaH1w"
      },
      "source": [
        "import_model = tf.saved_model.load(path)"
      ],
      "execution_count": null,
      "outputs": []
    },
    {
      "cell_type": "code",
      "metadata": {
        "colab": {
          "base_uri": "https://localhost:8080/"
        },
        "id": "vdq3t4SnaSw7",
        "outputId": "280d1350-a1a0-4392-be85-580ccdcc1ed2"
      },
      "source": [
        "import_model(hash_words)"
      ],
      "execution_count": null,
      "outputs": [
        {
          "output_type": "execute_result",
          "data": {
            "text/plain": [
              "<tf.Tensor: shape=(4, 1), dtype=float32, numpy=\n",
              "array([[0.04485743],\n",
              "       [0.02749131],\n",
              "       [0.03765893],\n",
              "       [0.02229887]], dtype=float32)>"
            ]
          },
          "metadata": {
            "tags": []
          },
          "execution_count": 82
        }
      ]
    },
    {
      "cell_type": "markdown",
      "metadata": {
        "id": "AJktJtcmbB0c"
      },
      "source": [
        "### oprators"
      ]
    },
    {
      "cell_type": "code",
      "metadata": {
        "id": "CIaVr62raaMF"
      },
      "source": [
        "x = tf.ragged.constant([[3, 3, 5], [4], [4, 3, 4]])"
      ],
      "execution_count": null,
      "outputs": []
    },
    {
      "cell_type": "code",
      "metadata": {
        "colab": {
          "base_uri": "https://localhost:8080/"
        },
        "id": "6FmonXAebLX6",
        "outputId": "6cb57860-7660-45bf-ef12-a1f5021253d2"
      },
      "source": [
        "x + 3"
      ],
      "execution_count": null,
      "outputs": [
        {
          "output_type": "execute_result",
          "data": {
            "text/plain": [
              "<tf.RaggedTensor [[6, 6, 8], [7], [7, 6, 7]]>"
            ]
          },
          "metadata": {
            "tags": []
          },
          "execution_count": 84
        }
      ]
    },
    {
      "cell_type": "code",
      "metadata": {
        "colab": {
          "base_uri": "https://localhost:8080/"
        },
        "id": "9jEGprEqbMVd",
        "outputId": "0d1f6e08-796b-4e54-88bf-a49d031efc50"
      },
      "source": [
        "x / 2"
      ],
      "execution_count": null,
      "outputs": [
        {
          "output_type": "execute_result",
          "data": {
            "text/plain": [
              "<tf.RaggedTensor [[1.5, 1.5, 2.5], [2.0], [2.0, 1.5, 2.0]]>"
            ]
          },
          "metadata": {
            "tags": []
          },
          "execution_count": 85
        }
      ]
    },
    {
      "cell_type": "code",
      "metadata": {
        "colab": {
          "base_uri": "https://localhost:8080/"
        },
        "id": "7Q8P6oKzbPL9",
        "outputId": "c7504c8c-5088-4ba1-e5f4-aeff87c2ef6b"
      },
      "source": [
        "x - 9"
      ],
      "execution_count": null,
      "outputs": [
        {
          "output_type": "execute_result",
          "data": {
            "text/plain": [
              "<tf.RaggedTensor [[-6, -6, -4], [-5], [-5, -6, -5]]>"
            ]
          },
          "metadata": {
            "tags": []
          },
          "execution_count": 86
        }
      ]
    },
    {
      "cell_type": "markdown",
      "metadata": {
        "id": "4fuRoqUybXKL"
      },
      "source": [
        "### indexing"
      ]
    },
    {
      "cell_type": "code",
      "metadata": {
        "colab": {
          "base_uri": "https://localhost:8080/"
        },
        "id": "I1WDFbfbbQm6",
        "outputId": "76d899b2-9dd4-4e16-bb2a-427ce2e426fc"
      },
      "source": [
        "x[1]"
      ],
      "execution_count": null,
      "outputs": [
        {
          "output_type": "execute_result",
          "data": {
            "text/plain": [
              "<tf.Tensor: shape=(1,), dtype=int32, numpy=array([4], dtype=int32)>"
            ]
          },
          "metadata": {
            "tags": []
          },
          "execution_count": 87
        }
      ]
    },
    {
      "cell_type": "code",
      "metadata": {
        "colab": {
          "base_uri": "https://localhost:8080/"
        },
        "id": "IMTX-SgxbZZB",
        "outputId": "584e1727-ac3d-4938-ff63-6856da29704e"
      },
      "source": [
        "x[2, 2]"
      ],
      "execution_count": null,
      "outputs": [
        {
          "output_type": "execute_result",
          "data": {
            "text/plain": [
              "<tf.Tensor: shape=(), dtype=int32, numpy=4>"
            ]
          },
          "metadata": {
            "tags": []
          },
          "execution_count": 90
        }
      ]
    },
    {
      "cell_type": "code",
      "metadata": {
        "colab": {
          "base_uri": "https://localhost:8080/"
        },
        "id": "YKUq2Og8baty",
        "outputId": "658871d5-ba2d-4600-fff6-d4ce25cd7083"
      },
      "source": [
        "x[2:]"
      ],
      "execution_count": null,
      "outputs": [
        {
          "output_type": "execute_result",
          "data": {
            "text/plain": [
              "<tf.RaggedTensor [[4, 3, 4]]>"
            ]
          },
          "metadata": {
            "tags": []
          },
          "execution_count": 91
        }
      ]
    },
    {
      "cell_type": "code",
      "metadata": {
        "colab": {
          "base_uri": "https://localhost:8080/"
        },
        "id": "piWZ2gfUbrTT",
        "outputId": "b856c658-0808-4653-bd5d-e954de6971e3"
      },
      "source": [
        "x[:,:-1]"
      ],
      "execution_count": null,
      "outputs": [
        {
          "output_type": "execute_result",
          "data": {
            "text/plain": [
              "<tf.RaggedTensor [[3, 3], [], [4, 3]]>"
            ]
          },
          "metadata": {
            "tags": []
          },
          "execution_count": 92
        }
      ]
    },
    {
      "cell_type": "code",
      "metadata": {
        "colab": {
          "base_uri": "https://localhost:8080/"
        },
        "id": "L-AzPFAxbtj4",
        "outputId": "b4176a79-09d6-47cd-dbfc-696372be13c4"
      },
      "source": [
        "x[:,1:-1]"
      ],
      "execution_count": null,
      "outputs": [
        {
          "output_type": "execute_result",
          "data": {
            "text/plain": [
              "<tf.RaggedTensor [[3], [], [3]]>"
            ]
          },
          "metadata": {
            "tags": []
          },
          "execution_count": 95
        }
      ]
    },
    {
      "cell_type": "markdown",
      "metadata": {
        "id": "wCsNjJDDdrVd"
      },
      "source": [
        "### type conversion"
      ]
    },
    {
      "cell_type": "code",
      "metadata": {
        "colab": {
          "base_uri": "https://localhost:8080/"
        },
        "id": "1P_RY3HBbyJf",
        "outputId": "b0eee332-2bc9-4433-e1d7-e647f052840d"
      },
      "source": [
        "x.to_tensor()"
      ],
      "execution_count": null,
      "outputs": [
        {
          "output_type": "execute_result",
          "data": {
            "text/plain": [
              "<tf.Tensor: shape=(3, 3), dtype=int32, numpy=\n",
              "array([[3, 3, 5],\n",
              "       [4, 0, 0],\n",
              "       [4, 3, 4]], dtype=int32)>"
            ]
          },
          "metadata": {
            "tags": []
          },
          "execution_count": 97
        }
      ]
    },
    {
      "cell_type": "code",
      "metadata": {
        "colab": {
          "base_uri": "https://localhost:8080/"
        },
        "id": "LdwkVuLMdvO8",
        "outputId": "01426769-8f41-462e-abc9-8fccebc58315"
      },
      "source": [
        "x.to_tensor(default_value=-1)"
      ],
      "execution_count": null,
      "outputs": [
        {
          "output_type": "execute_result",
          "data": {
            "text/plain": [
              "<tf.Tensor: shape=(3, 3), dtype=int32, numpy=\n",
              "array([[ 3,  3,  5],\n",
              "       [ 4, -1, -1],\n",
              "       [ 4,  3,  4]], dtype=int32)>"
            ]
          },
          "metadata": {
            "tags": []
          },
          "execution_count": 99
        }
      ]
    },
    {
      "cell_type": "code",
      "metadata": {
        "colab": {
          "base_uri": "https://localhost:8080/"
        },
        "id": "d95TDo8_d4JM",
        "outputId": "333021e1-426c-4ea4-ce6d-a33939666139"
      },
      "source": [
        "tf.RaggedTensor.from_tensor(x.to_tensor(default_value=-1))"
      ],
      "execution_count": null,
      "outputs": [
        {
          "output_type": "execute_result",
          "data": {
            "text/plain": [
              "<tf.RaggedTensor [[3, 3, 5], [4, -1, -1], [4, 3, 4]]>"
            ]
          },
          "metadata": {
            "tags": []
          },
          "execution_count": 100
        }
      ]
    },
    {
      "cell_type": "code",
      "metadata": {
        "colab": {
          "base_uri": "https://localhost:8080/"
        },
        "id": "pVFGa6ubeLDD",
        "outputId": "ac062692-5d4a-4ad7-95e3-3d1b9b7c99d0"
      },
      "source": [
        "tf.RaggedTensor.from_tensor(x.to_tensor(default_value=-1), padding=-1)"
      ],
      "execution_count": null,
      "outputs": [
        {
          "output_type": "execute_result",
          "data": {
            "text/plain": [
              "<tf.RaggedTensor [[3, 3, 5], [4], [4, 3, 4]]>"
            ]
          },
          "metadata": {
            "tags": []
          },
          "execution_count": 101
        }
      ]
    },
    {
      "cell_type": "code",
      "metadata": {
        "colab": {
          "base_uri": "https://localhost:8080/"
        },
        "id": "E_OeEo1teOD8",
        "outputId": "449ecdbc-85b9-4968-d256-ad2733c08f1a"
      },
      "source": [
        "print(x.to_sparse())"
      ],
      "execution_count": null,
      "outputs": [
        {
          "output_type": "stream",
          "text": [
            "SparseTensor(indices=tf.Tensor(\n",
            "[[0 0]\n",
            " [0 1]\n",
            " [0 2]\n",
            " [1 0]\n",
            " [2 0]\n",
            " [2 1]\n",
            " [2 2]], shape=(7, 2), dtype=int64), values=tf.Tensor([3 3 5 4 4 3 4], shape=(7,), dtype=int32), dense_shape=tf.Tensor([3 3], shape=(2,), dtype=int64))\n"
          ],
          "name": "stdout"
        }
      ]
    },
    {
      "cell_type": "markdown",
      "metadata": {
        "id": "Q1sxwtFaebNE"
      },
      "source": [
        "### Evaluating Ragged Tensor"
      ]
    },
    {
      "cell_type": "code",
      "metadata": {
        "colab": {
          "base_uri": "https://localhost:8080/"
        },
        "id": "1riyMc7oeSCB",
        "outputId": "03d8dc99-20d4-4286-c7ec-0866a049d0a7"
      },
      "source": [
        "x.to_list()"
      ],
      "execution_count": null,
      "outputs": [
        {
          "output_type": "execute_result",
          "data": {
            "text/plain": [
              "[[3, 3, 5], [4], [4, 3, 4]]"
            ]
          },
          "metadata": {
            "tags": []
          },
          "execution_count": 105
        }
      ]
    },
    {
      "cell_type": "code",
      "metadata": {
        "colab": {
          "base_uri": "https://localhost:8080/"
        },
        "id": "RG62cwKTemcQ",
        "outputId": "0f448631-cd93-417b-d94d-3135bb57f523"
      },
      "source": [
        "x.numpy()"
      ],
      "execution_count": null,
      "outputs": [
        {
          "output_type": "stream",
          "text": [
            "/usr/local/lib/python3.6/dist-packages/tensorflow/python/ops/ragged/ragged_tensor.py:2012: VisibleDeprecationWarning: Creating an ndarray from ragged nested sequences (which is a list-or-tuple of lists-or-tuples-or ndarrays with different lengths or shapes) is deprecated. If you meant to do this, you must specify 'dtype=object' when creating the ndarray\n",
            "  return np.array(rows)\n"
          ],
          "name": "stderr"
        },
        {
          "output_type": "execute_result",
          "data": {
            "text/plain": [
              "array([array([3, 3, 5], dtype=int32), array([4], dtype=int32),\n",
              "       array([4, 3, 4], dtype=int32)], dtype=object)"
            ]
          },
          "metadata": {
            "tags": []
          },
          "execution_count": 106
        }
      ]
    },
    {
      "cell_type": "code",
      "metadata": {
        "colab": {
          "base_uri": "https://localhost:8080/"
        },
        "id": "pfrpr4gueosX",
        "outputId": "ee8052b7-7e72-47d4-c52e-4e41d8bb0776"
      },
      "source": [
        "x.row_lengths()"
      ],
      "execution_count": null,
      "outputs": [
        {
          "output_type": "execute_result",
          "data": {
            "text/plain": [
              "<tf.Tensor: shape=(3,), dtype=int64, numpy=array([3, 1, 3])>"
            ]
          },
          "metadata": {
            "tags": []
          },
          "execution_count": 107
        }
      ]
    },
    {
      "cell_type": "code",
      "metadata": {
        "colab": {
          "base_uri": "https://localhost:8080/"
        },
        "id": "ZTbOEkaGesie",
        "outputId": "123b7781-ca27-4972-a7da-cf83fc21f80c"
      },
      "source": [
        "x.row_splits"
      ],
      "execution_count": null,
      "outputs": [
        {
          "output_type": "execute_result",
          "data": {
            "text/plain": [
              "<tf.Tensor: shape=(4,), dtype=int64, numpy=array([0, 3, 4, 7])>"
            ]
          },
          "metadata": {
            "tags": []
          },
          "execution_count": 109
        }
      ]
    },
    {
      "cell_type": "markdown",
      "metadata": {
        "id": "7GoBPaVxe5dy"
      },
      "source": [
        "### Brodcasting\r\n"
      ]
    },
    {
      "cell_type": "code",
      "metadata": {
        "colab": {
          "base_uri": "https://localhost:8080/"
        },
        "id": "7LS1Qu9qexMW",
        "outputId": "811c77f1-d7b9-408e-e8fe-1a6548828c6f"
      },
      "source": [
        "x + 3"
      ],
      "execution_count": null,
      "outputs": [
        {
          "output_type": "execute_result",
          "data": {
            "text/plain": [
              "<tf.RaggedTensor [[6, 6, 8], [7], [7, 6, 7]]>"
            ]
          },
          "metadata": {
            "tags": []
          },
          "execution_count": 110
        }
      ]
    },
    {
      "cell_type": "markdown",
      "metadata": {
        "id": "9tcw7_s8fMV7"
      },
      "source": [
        "### Ragged Tensor Encoding"
      ]
    },
    {
      "cell_type": "code",
      "metadata": {
        "colab": {
          "base_uri": "https://localhost:8080/"
        },
        "id": "To3AIa0yfDdY",
        "outputId": "dca0fa50-df94-4d3f-b02c-9114baedebd7"
      },
      "source": [
        "x"
      ],
      "execution_count": null,
      "outputs": [
        {
          "output_type": "execute_result",
          "data": {
            "text/plain": [
              "<tf.RaggedTensor [[3, 3, 5], [4], [4, 3, 4]]>"
            ]
          },
          "metadata": {
            "tags": []
          },
          "execution_count": 111
        }
      ]
    },
    {
      "cell_type": "code",
      "metadata": {
        "colab": {
          "base_uri": "https://localhost:8080/"
        },
        "id": "28AljV6rffjy",
        "outputId": "90ccd132-e6f9-42ca-8423-28db18e26320"
      },
      "source": [
        "x.row_splits"
      ],
      "execution_count": null,
      "outputs": [
        {
          "output_type": "execute_result",
          "data": {
            "text/plain": [
              "<tf.Tensor: shape=(4,), dtype=int64, numpy=array([0, 3, 4, 7])>"
            ]
          },
          "metadata": {
            "tags": []
          },
          "execution_count": 112
        }
      ]
    },
    {
      "cell_type": "code",
      "metadata": {
        "colab": {
          "base_uri": "https://localhost:8080/"
        },
        "id": "fg5q5SOFfhaL",
        "outputId": "b4f85264-926c-4ee0-a8e3-9a9fb153eef9"
      },
      "source": [
        "x.value_rowids()"
      ],
      "execution_count": null,
      "outputs": [
        {
          "output_type": "execute_result",
          "data": {
            "text/plain": [
              "<tf.Tensor: shape=(7,), dtype=int64, numpy=array([0, 0, 0, 1, 2, 2, 2])>"
            ]
          },
          "metadata": {
            "tags": []
          },
          "execution_count": 113
        }
      ]
    },
    {
      "cell_type": "code",
      "metadata": {
        "colab": {
          "base_uri": "https://localhost:8080/"
        },
        "id": "5F7b012PfkBO",
        "outputId": "7dc74a25-c6e0-4bf6-b351-563b60a885ad"
      },
      "source": [
        "x.row_lengths()"
      ],
      "execution_count": null,
      "outputs": [
        {
          "output_type": "execute_result",
          "data": {
            "text/plain": [
              "<tf.Tensor: shape=(3,), dtype=int64, numpy=array([3, 1, 3])>"
            ]
          },
          "metadata": {
            "tags": []
          },
          "execution_count": 114
        }
      ]
    },
    {
      "cell_type": "code",
      "metadata": {
        "id": "BlxP0jd8fni6"
      },
      "source": [
        "x.uniform_row_length"
      ],
      "execution_count": null,
      "outputs": []
    },
    {
      "cell_type": "code",
      "metadata": {
        "colab": {
          "base_uri": "https://localhost:8080/"
        },
        "id": "sN65XwChfs3S",
        "outputId": "5c80da7c-b2f2-49ef-de34-1c4acd95957d"
      },
      "source": [
        "x.values"
      ],
      "execution_count": null,
      "outputs": [
        {
          "output_type": "execute_result",
          "data": {
            "text/plain": [
              "<tf.Tensor: shape=(7,), dtype=int32, numpy=array([3, 3, 5, 4, 4, 3, 4], dtype=int32)>"
            ]
          },
          "metadata": {
            "tags": []
          },
          "execution_count": 119
        }
      ]
    },
    {
      "cell_type": "code",
      "metadata": {
        "id": "cy8w1I5Rf5ZJ"
      },
      "source": [
        ""
      ],
      "execution_count": null,
      "outputs": []
    }
  ]
}