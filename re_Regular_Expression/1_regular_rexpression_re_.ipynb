{
  "nbformat": 4,
  "nbformat_minor": 0,
  "metadata": {
    "colab": {
      "name": "1_regular_rexpression_re_.ipynb",
      "provenance": [],
      "authorship_tag": "ABX9TyPpVyBdeUPADg3K7IDgJoI6",
      "include_colab_link": true
    },
    "kernelspec": {
      "name": "python3",
      "display_name": "Python 3"
    }
  },
  "cells": [
    {
      "cell_type": "markdown",
      "metadata": {
        "id": "view-in-github",
        "colab_type": "text"
      },
      "source": [
        "<a href=\"https://colab.research.google.com/github/Vinaypatil-Ev/vinEvPy-GoCoLab/blob/main/re_Regular_Expression/1_regular_rexpression_re_.ipynb\" target=\"_parent\"><img src=\"https://colab.research.google.com/assets/colab-badge.svg\" alt=\"Open In Colab\"/></a>"
      ]
    },
    {
      "cell_type": "markdown",
      "metadata": {
        "id": "2Iq1QQF7HlK8"
      },
      "source": [
        "# Regular Expression re_Regular_Expression"
      ]
    },
    {
      "cell_type": "code",
      "metadata": {
        "id": "hUoRdZV-HbJi"
      },
      "source": [
        "import re"
      ],
      "execution_count": 1,
      "outputs": []
    },
    {
      "cell_type": "markdown",
      "metadata": {
        "id": "u-637jqNH9eS"
      },
      "source": [
        "## Special Characters"
      ]
    },
    {
      "cell_type": "markdown",
      "metadata": {
        "id": "olel6dKBIDXQ"
      },
      "source": [
        "### 1. (Dot.)\r\n",
        "    (Dot.) matches any character except newline "
      ]
    },
    {
      "cell_type": "markdown",
      "metadata": {
        "id": "Wl-fQ70wIna8"
      },
      "source": [
        "### 2. (caret ^)\r\n",
        "    It matches start of the string"
      ]
    },
    {
      "cell_type": "markdown",
      "metadata": {
        "id": "uWWE7XIjInYM"
      },
      "source": [
        "###3. ($)\r\n",
        "    $ matches end of the string"
      ]
    },
    {
      "cell_type": "markdown",
      "metadata": {
        "id": "GrIDGdsYInWB"
      },
      "source": [
        "###4. *\r\n",
        "    It matches zero or more repetitions of preceding charcter\r\n",
        "    ex: ab* match 'a', 'ab', 'a' followed by no of b's"
      ]
    },
    {
      "cell_type": "markdown",
      "metadata": {
        "id": "QkEqTSCTInT6"
      },
      "source": [
        "### 5. +\r\n",
        "    + will match one or more repeations of preceding characters\r\n",
        "    ex: ab+ will match 'a' followed by b's but not single 'a'"
      ]
    },
    {
      "cell_type": "markdown",
      "metadata": {
        "id": "vumSlh5YInR8"
      },
      "source": [
        "###6. ?\r\n",
        "    ? matches one or more repeations of preceding character\r\n",
        "    ex: ab? will match either 'a' or 'ab'"
      ]
    },
    {
      "cell_type": "markdown",
      "metadata": {
        "id": "VQ6snvIZInPp"
      },
      "source": [
        "### 7. {m}\r\n",
        "    match only m copies of preceing character\r\n",
        "    ex: a{m} will match exactly '6' a charcter\r\n"
      ]
    },
    {
      "cell_type": "markdown",
      "metadata": {
        "id": "qxYwsRnmInNv"
      },
      "source": [
        "###8. {m, n}\r\n",
        "    match m to n copies of the preceding character\r\n",
        "    ex: a{3, 5} will match 3, 4 or 5 copies of 'a' in row\r\n",
        "    note: if m(lower limit) omitted, it considered as 0 and if n(upper limit), then n or upper limit considered as infinite"
      ]
    },
    {
      "cell_type": "markdown",
      "metadata": {
        "id": "6OnReNREOnJZ"
      },
      "source": [
        "###9. \\\r\n",
        "    \\ (backslash) matches special character such as '*', '?' ..."
      ]
    },
    {
      "cell_type": "markdown",
      "metadata": {
        "id": "aqYNJNDXOnG_"
      },
      "source": [
        ""
      ]
    },
    {
      "cell_type": "markdown",
      "metadata": {
        "id": "mw8ZClVAOnEV"
      },
      "source": [
        ""
      ]
    },
    {
      "cell_type": "markdown",
      "metadata": {
        "id": "Ho5-BjH1OnBP"
      },
      "source": [
        ""
      ]
    },
    {
      "cell_type": "markdown",
      "metadata": {
        "id": "xoPol9BVOm_G"
      },
      "source": [
        ""
      ]
    },
    {
      "cell_type": "markdown",
      "metadata": {
        "id": "mSP_6kSnOm8r"
      },
      "source": [
        ""
      ]
    }
  ]
}