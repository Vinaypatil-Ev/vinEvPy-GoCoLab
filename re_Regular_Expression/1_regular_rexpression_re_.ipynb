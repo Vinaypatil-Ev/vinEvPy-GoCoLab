{
  "nbformat": 4,
  "nbformat_minor": 0,
  "metadata": {
    "colab": {
      "name": "1_regular_rexpression_re_.ipynb",
      "provenance": [],
      "collapsed_sections": [],
      "authorship_tag": "ABX9TyNqBIs9o+Milpb/vZXWEHWE",
      "include_colab_link": true
    },
    "kernelspec": {
      "name": "python3",
      "display_name": "Python 3"
    }
  },
  "cells": [
    {
      "cell_type": "markdown",
      "metadata": {
        "id": "view-in-github",
        "colab_type": "text"
      },
      "source": [
        "<a href=\"https://colab.research.google.com/github/Vinaypatil-Ev/vinEvPy-GoCoLab/blob/main/re_Regular_Expression/1_regular_rexpression_re_.ipynb\" target=\"_parent\"><img src=\"https://colab.research.google.com/assets/colab-badge.svg\" alt=\"Open In Colab\"/></a>"
      ]
    },
    {
      "cell_type": "markdown",
      "metadata": {
        "id": "2Iq1QQF7HlK8"
      },
      "source": [
        "# Regular Expression re_Regular_Expression"
      ]
    },
    {
      "cell_type": "code",
      "metadata": {
        "id": "hUoRdZV-HbJi"
      },
      "source": [
        "import re"
      ],
      "execution_count": 1,
      "outputs": []
    },
    {
      "cell_type": "markdown",
      "metadata": {
        "id": "u-637jqNH9eS"
      },
      "source": [
        "## Special Characters"
      ]
    },
    {
      "cell_type": "markdown",
      "metadata": {
        "id": "olel6dKBIDXQ"
      },
      "source": [
        "### 1. (Dot.)\r\n",
        "    (Dot.) matches any character except newline "
      ]
    },
    {
      "cell_type": "markdown",
      "metadata": {
        "id": "Wl-fQ70wIna8"
      },
      "source": [
        "### 2. (caret ^)\r\n",
        "    It matches start of the string"
      ]
    },
    {
      "cell_type": "markdown",
      "metadata": {
        "id": "uWWE7XIjInYM"
      },
      "source": [
        "###3. $\r\n",
        "    $ matches end of the string"
      ]
    },
    {
      "cell_type": "markdown",
      "metadata": {
        "id": "GrIDGdsYInWB"
      },
      "source": [
        "###4. *\r\n",
        "    It matches zero or more repetitions of preceding charcter\r\n",
        "    ex: ab* match 'a', 'ab', 'a' followed by no of b's"
      ]
    },
    {
      "cell_type": "markdown",
      "metadata": {
        "id": "QkEqTSCTInT6"
      },
      "source": [
        "### 5. +\r\n",
        "    + will match one or more repeations of preceding characters\r\n",
        "    ex: ab+ will match 'a' followed by b's but not single 'a'"
      ]
    },
    {
      "cell_type": "markdown",
      "metadata": {
        "id": "vumSlh5YInR8"
      },
      "source": [
        "###6. ?\r\n",
        "    ? matches one or more repeations of preceding character\r\n",
        "    ex: ab? will match either 'a' or 'ab'"
      ]
    },
    {
      "cell_type": "markdown",
      "metadata": {
        "id": "VQ6snvIZInPp"
      },
      "source": [
        "### 7. {m}\r\n",
        "    match only m copies of preceing character\r\n",
        "    ex: a{m} will match exactly '6' a charcter\r\n"
      ]
    },
    {
      "cell_type": "markdown",
      "metadata": {
        "id": "qxYwsRnmInNv"
      },
      "source": [
        "###8. {m, n}\r\n",
        "    match m to n copies of the preceding character\r\n",
        "    ex: a{3, 5} will match 3, 4 or 5 copies of 'a' in row\r\n",
        "    note: if m(lower limit) omitted, it considered as 0 and if n(upper limit), then n or upper limit considered as infinite"
      ]
    },
    {
      "cell_type": "markdown",
      "metadata": {
        "id": "6OnReNREOnJZ"
      },
      "source": [
        "###9. \\\r\n",
        "    \\ (backslash) matches special character such as '*', '?' ..."
      ]
    },
    {
      "cell_type": "markdown",
      "metadata": {
        "id": "ZEo2U0TuWtkC"
      },
      "source": [
        "---\r\n",
        "\r\n",
        "\r\n"
      ]
    },
    {
      "cell_type": "markdown",
      "metadata": {
        "id": "aqYNJNDXOnG_"
      },
      "source": [
        "## [ ] \r\n",
        "    Used to indicate set of characters\r\n",
        "\r\n",
        "\r\n",
        "\r\n",
        "\r\n"
      ]
    },
    {
      "cell_type": "markdown",
      "metadata": {
        "id": "Ho5-BjH1OnBP"
      },
      "source": [
        "#### [ ' abk ' ] matches individual characters\r\n",
        "    It matches 'a', 'b', 'k'\r\n",
        "#### [ A-Z ]\r\n",
        "    It will match any capital(uppercase) letter from  to z\r\n",
        "#### [ a-z ]\r\n",
        "    It will match any lowercase letter from a to z\r\n",
        "#### [ 0-0 ][ 5-9 ]\r\n",
        "    It will match two digit no from 00 to 59\r\n",
        "#### [ 0-9A-Fa-f ]\r\n",
        "    It will mactch hexadecimal no\r\n",
        "#### [ a\\-z ]\r\n",
        "    It will match 'a-'\r\n",
        "#### [ (+*) ]\r\n",
        "    It matches any no literal character such as '(', ')', '+', '*'\r\n",
        "#### [^]\r\n",
        "    It will match all character except charcter after ^\r\n",
        "    ex: [^5] will match all charcters except 5\r\n",
        "    ex: [^^] will match all characters except ^\r\n"
      ]
    },
    {
      "cell_type": "markdown",
      "metadata": {
        "id": "p5VJ4YtM4vT6"
      },
      "source": [
        "## Examples"
      ]
    },
    {
      "cell_type": "code",
      "metadata": {
        "id": "AEvPXmYLyjJa"
      },
      "source": [
        "import re"
      ],
      "execution_count": null,
      "outputs": []
    },
    {
      "cell_type": "code",
      "metadata": {
        "id": "kfGpMbPoELFQ"
      },
      "source": [
        "x = \"id=dfadfdfsdf&vin=df\""
      ],
      "execution_count": null,
      "outputs": []
    },
    {
      "cell_type": "code",
      "metadata": {
        "colab": {
          "base_uri": "https://localhost:8080/"
        },
        "id": "DvyRf5tuE6U2",
        "outputId": "d190a353-0cf5-448c-e286-73875e5c9c0d"
      },
      "source": [
        "re.search('[^a]', x)"
      ],
      "execution_count": null,
      "outputs": [
        {
          "output_type": "execute_result",
          "data": {
            "text/plain": [
              "<_sre.SRE_Match object; span=(0, 1), match='i'>"
            ]
          },
          "metadata": {
            "tags": []
          },
          "execution_count": 14
        }
      ]
    },
    {
      "cell_type": "code",
      "metadata": {
        "colab": {
          "base_uri": "https://localhost:8080/"
        },
        "id": "KjHt8phpykeD",
        "outputId": "0a7b8776-69e8-4a2c-e93f-108ccba7f88f"
      },
      "source": [
        "re.findall('[^afdvin%]', x)"
      ],
      "execution_count": null,
      "outputs": [
        {
          "output_type": "execute_result",
          "data": {
            "text/plain": [
              "['=', 's', '=']"
            ]
          },
          "metadata": {
            "tags": []
          },
          "execution_count": 16
        }
      ]
    },
    {
      "cell_type": "code",
      "metadata": {
        "colab": {
          "base_uri": "https://localhost:8080/"
        },
        "id": "KzP0kON-0mbf",
        "outputId": "08e689ad-3cbc-461b-f885-2d0489ac8be3"
      },
      "source": [
        "re.search('[afd]', x)"
      ],
      "execution_count": null,
      "outputs": [
        {
          "output_type": "execute_result",
          "data": {
            "text/plain": [
              "<_sre.SRE_Match object; span=(1, 2), match='d'>"
            ]
          },
          "metadata": {
            "tags": []
          },
          "execution_count": 18
        }
      ]
    },
    {
      "cell_type": "code",
      "metadata": {
        "colab": {
          "base_uri": "https://localhost:8080/"
        },
        "id": "BDYspgkR09a-",
        "outputId": "cf59c1f4-f234-433e-c1e7-8c4b11d59901"
      },
      "source": [
        "re.findall(\"[afd]\", x)"
      ],
      "execution_count": null,
      "outputs": [
        {
          "output_type": "execute_result",
          "data": {
            "text/plain": [
              "['d', 'd', 'f', 'a', 'd', 'f', 'd', 'f', 'd', 'f', 'd', 'f']"
            ]
          },
          "metadata": {
            "tags": []
          },
          "execution_count": 19
        }
      ]
    },
    {
      "cell_type": "code",
      "metadata": {
        "colab": {
          "base_uri": "https://localhost:8080/"
        },
        "id": "yPf3V3ky1D_3",
        "outputId": "ff31a399-a68e-40b7-8317-be164ae5a352"
      },
      "source": [
        "re.findall(\"id=*v\", x)"
      ],
      "execution_count": null,
      "outputs": [
        {
          "output_type": "execute_result",
          "data": {
            "text/plain": [
              "[]"
            ]
          },
          "metadata": {
            "tags": []
          },
          "execution_count": 29
        }
      ]
    },
    {
      "cell_type": "code",
      "metadata": {
        "colab": {
          "base_uri": "https://localhost:8080/"
        },
        "id": "wuo48Cxf2OPw",
        "outputId": "35c83094-4526-4766-8d36-f5591dd73e63"
      },
      "source": [
        "re.findall(\"id=+v\", x)"
      ],
      "execution_count": null,
      "outputs": [
        {
          "output_type": "execute_result",
          "data": {
            "text/plain": [
              "[]"
            ]
          },
          "metadata": {
            "tags": []
          },
          "execution_count": 28
        }
      ]
    },
    {
      "cell_type": "code",
      "metadata": {
        "colab": {
          "base_uri": "https://localhost:8080/"
        },
        "id": "Sj32NejP2jrg",
        "outputId": "59a47dac-77e6-4ffa-b5f7-3814635db107"
      },
      "source": [
        "re.findall(\"id=*\", x)"
      ],
      "execution_count": null,
      "outputs": [
        {
          "output_type": "execute_result",
          "data": {
            "text/plain": [
              "['id=']"
            ]
          },
          "metadata": {
            "tags": []
          },
          "execution_count": 26
        }
      ]
    },
    {
      "cell_type": "code",
      "metadata": {
        "colab": {
          "base_uri": "https://localhost:8080/"
        },
        "id": "iDcOecfe2nLs",
        "outputId": "905e7d89-6640-4dd0-914c-62a3a44b6c38"
      },
      "source": [
        "re.findall(\"id=?v\", x)"
      ],
      "execution_count": null,
      "outputs": [
        {
          "output_type": "execute_result",
          "data": {
            "text/plain": [
              "[]"
            ]
          },
          "metadata": {
            "tags": []
          },
          "execution_count": 30
        }
      ]
    },
    {
      "cell_type": "code",
      "metadata": {
        "colab": {
          "base_uri": "https://localhost:8080/"
        },
        "id": "RTsA6CAe2wcS",
        "outputId": "76c5796e-a1f0-4d99-b7d6-ccbf6346d3ca"
      },
      "source": [
        "re.findall(\"^id=.*\", x)"
      ],
      "execution_count": null,
      "outputs": [
        {
          "output_type": "execute_result",
          "data": {
            "text/plain": [
              "['id=dfadfdfsdf&vin=df']"
            ]
          },
          "metadata": {
            "tags": []
          },
          "execution_count": 45
        }
      ]
    },
    {
      "cell_type": "code",
      "metadata": {
        "colab": {
          "base_uri": "https://localhost:8080/"
        },
        "id": "g2T5glPa23HU",
        "outputId": "756bbb07-9648-430e-a58c-8efb42ccbac6"
      },
      "source": [
        "re.findall(\"^id=.v\", x)"
      ],
      "execution_count": null,
      "outputs": [
        {
          "output_type": "execute_result",
          "data": {
            "text/plain": [
              "[]"
            ]
          },
          "metadata": {
            "tags": []
          },
          "execution_count": 50
        }
      ]
    },
    {
      "cell_type": "code",
      "metadata": {
        "colab": {
          "base_uri": "https://localhost:8080/"
        },
        "id": "q_6exAd33c3J",
        "outputId": "ab854138-32dd-45e6-eb8d-873aec1a92f6"
      },
      "source": [
        "re.findall(\"[^id=.*]\", x)"
      ],
      "execution_count": null,
      "outputs": [
        {
          "output_type": "execute_result",
          "data": {
            "text/plain": [
              "['f', 'a', 'f', 'f', 's', 'f', '&', 'v', 'n', 'f']"
            ]
          },
          "metadata": {
            "tags": []
          },
          "execution_count": 51
        }
      ]
    },
    {
      "cell_type": "code",
      "metadata": {
        "colab": {
          "base_uri": "https://localhost:8080/"
        },
        "id": "Xq8mbRjo3tgN",
        "outputId": "c05c4053-ee46-4566-c9af-323e8ba2f158"
      },
      "source": [
        "re.findall(\"[id=.*v^]\", x)"
      ],
      "execution_count": null,
      "outputs": [
        {
          "output_type": "execute_result",
          "data": {
            "text/plain": [
              "['i', 'd', '=', 'd', 'd', 'd', 'd', 'v', 'i', '=', 'd']"
            ]
          },
          "metadata": {
            "tags": []
          },
          "execution_count": 53
        }
      ]
    }
  ]
}