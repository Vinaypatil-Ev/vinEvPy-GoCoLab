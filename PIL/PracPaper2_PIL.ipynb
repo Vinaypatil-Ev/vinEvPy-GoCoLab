{
  "nbformat": 4,
  "nbformat_minor": 0,
  "metadata": {
    "colab": {
      "name": "PracPaper2_PIL.ipynb",
      "provenance": [],
      "collapsed_sections": [],
      "authorship_tag": "ABX9TyONJDDSX/vt7VDLDPbSlETA",
      "include_colab_link": true
    },
    "kernelspec": {
      "name": "python3",
      "display_name": "Python 3"
    }
  },
  "cells": [
    {
      "cell_type": "markdown",
      "metadata": {
        "id": "view-in-github",
        "colab_type": "text"
      },
      "source": [
        "<a href=\"https://colab.research.google.com/github/Vinaypatil-Ev/vinEvPy-GoCoLab/blob/main/PIL/PracPaper2_PIL.ipynb\" target=\"_parent\"><img src=\"https://colab.research.google.com/assets/colab-badge.svg\" alt=\"Open In Colab\"/></a>"
      ]
    },
    {
      "cell_type": "markdown",
      "metadata": {
        "id": "V8A74Stlye6p"
      },
      "source": [
        "# PIL\r\n"
      ]
    },
    {
      "cell_type": "code",
      "metadata": {
        "id": "kDQX-eY2mo9e"
      },
      "source": [
        "from PIL import Image"
      ],
      "execution_count": 2,
      "outputs": []
    },
    {
      "cell_type": "code",
      "metadata": {
        "id": "qV1p_RgazC0u"
      },
      "source": [
        "from google.colab.patches import cv2_imshow\r\n",
        "import cv2\r\n",
        "def imshow(path:str, by=\"cv\"):\r\n",
        "    if by == \"cv\":\r\n",
        "        im = cv2.imread(path)\r\n",
        "        cv2_imshow(im)\r\n",
        "    elif by == \"pil\":\r\n",
        "        if isinstance(path, PIL.JpegImagePlugin.JpegImageFile):\r\n",
        "            return path\r\n",
        "        im = Image.open(path)\r\n",
        "        return im\r\n",
        "        "
      ],
      "execution_count": null,
      "outputs": []
    },
    {
      "cell_type": "markdown",
      "metadata": {
        "id": "DRikHnNgyib1"
      },
      "source": [
        "## Open Image"
      ]
    },
    {
      "cell_type": "code",
      "metadata": {
        "id": "Oi-XEO__uHfz"
      },
      "source": [
        "im_path = \"2.jpg\"\r\n",
        "im = Image.open(im_path)"
      ],
      "execution_count": null,
      "outputs": []
    },
    {
      "cell_type": "code",
      "metadata": {
        "id": "Ok9yN6idTILf"
      },
      "source": [
        "type(im)"
      ],
      "execution_count": null,
      "outputs": []
    },
    {
      "cell_type": "code",
      "metadata": {
        "id": "AawZcbjQzUff"
      },
      "source": [
        "print(im)"
      ],
      "execution_count": null,
      "outputs": []
    },
    {
      "cell_type": "code",
      "metadata": {
        "id": "yyRY_Ia3ut_k"
      },
      "source": [
        "im.format"
      ],
      "execution_count": null,
      "outputs": []
    },
    {
      "cell_type": "code",
      "metadata": {
        "id": "EdC7QN46uvJS"
      },
      "source": [
        "im.size"
      ],
      "execution_count": null,
      "outputs": []
    },
    {
      "cell_type": "code",
      "metadata": {
        "id": "DGpHHsQNuz6n"
      },
      "source": [
        "im.mode"
      ],
      "execution_count": null,
      "outputs": []
    },
    {
      "cell_type": "code",
      "metadata": {
        "id": "1e9-XxwC0FbW"
      },
      "source": [
        "show_img(im_path, \"pil\")"
      ],
      "execution_count": null,
      "outputs": []
    },
    {
      "cell_type": "markdown",
      "metadata": {
        "id": "XdR3tqOoxH6B"
      },
      "source": [
        "## Create thumbnail"
      ]
    },
    {
      "cell_type": "code",
      "metadata": {
        "id": "1b9iRDAfu0sa"
      },
      "source": [
        "size = (128, 128)\r\n",
        "im.thumbnail(size)\r\n",
        "im.save(\"thumb1.jpg\", \"JPEG\")"
      ],
      "execution_count": null,
      "outputs": []
    },
    {
      "cell_type": "code",
      "metadata": {
        "id": "fQ2SoB3GxZqO"
      },
      "source": [
        "im2  = Image.open(\"thumb1.jpg\")\r\n",
        "im2.size"
      ],
      "execution_count": null,
      "outputs": []
    },
    {
      "cell_type": "code",
      "metadata": {
        "id": "RQ_s_tjix07h"
      },
      "source": [
        "print(f\"{im2.size}x{im2.mode}\")"
      ],
      "execution_count": null,
      "outputs": []
    },
    {
      "cell_type": "markdown",
      "metadata": {
        "id": "cP6WT8Hgyqh0"
      },
      "source": [
        "## Cutting \r\n",
        "## Pasting\r\n",
        "## Merging"
      ]
    },
    {
      "cell_type": "markdown",
      "metadata": {
        "id": "rKIjjZHDy6_D"
      },
      "source": [
        "### Croping subrectangle from image"
      ]
    },
    {
      "cell_type": "code",
      "metadata": {
        "id": "v3RG1b92y6mB"
      },
      "source": [
        "box = (100, 100, 400, 400)\r\n",
        "region = im.crop(box)"
      ],
      "execution_count": null,
      "outputs": []
    },
    {
      "cell_type": "code",
      "metadata": {
        "id": "XxO2gRUgyPxD"
      },
      "source": [
        "region"
      ],
      "execution_count": null,
      "outputs": []
    },
    {
      "cell_type": "code",
      "metadata": {
        "id": "fZtRDGdW0yKT"
      },
      "source": [
        "region = region.transpose(Image.ROTATE_180)\r\n",
        "region"
      ],
      "execution_count": null,
      "outputs": []
    },
    {
      "cell_type": "code",
      "metadata": {
        "id": "_9xCt7Jb1DE4"
      },
      "source": [
        "im.paste(region, box)"
      ],
      "execution_count": null,
      "outputs": []
    },
    {
      "cell_type": "code",
      "metadata": {
        "id": "Uq7kKIz_1Po6"
      },
      "source": [
        "im"
      ],
      "execution_count": null,
      "outputs": []
    },
    {
      "cell_type": "markdown",
      "metadata": {
        "id": "RSi3Njd-10K7"
      },
      "source": [
        "## Rolling an Image"
      ]
    },
    {
      "cell_type": "code",
      "metadata": {
        "id": "61840xcI1Qws"
      },
      "source": [
        "def roll(img, delta):\r\n",
        "    x, y = img.size\r\n",
        "    delta %= x\r\n",
        "    if delta == 0:\r\n",
        "        return img\r\n",
        "    \r\n",
        "    p1 = img.crop((0, 0, delta, y))\r\n",
        "    p2 = img.crop((delta, 0, x, y))\r\n",
        "    img.paste(p1, (x-delta, 0, x, y))\r\n",
        "    img.paste(p2, (0, 0, x-delta, y))\r\n",
        "    return img"
      ],
      "execution_count": null,
      "outputs": []
    },
    {
      "cell_type": "code",
      "metadata": {
        "id": "O3ZJNqRv21yz"
      },
      "source": [
        "roll(Image.open(im_path), 300)"
      ],
      "execution_count": null,
      "outputs": []
    },
    {
      "cell_type": "markdown",
      "metadata": {
        "id": "0AwV0obW4AFN"
      },
      "source": [
        "## Spliting and merging bands"
      ]
    },
    {
      "cell_type": "code",
      "metadata": {
        "id": "UYNW9Whz4GzO"
      },
      "source": [
        "im = Image.open(im_path)"
      ],
      "execution_count": null,
      "outputs": []
    },
    {
      "cell_type": "code",
      "metadata": {
        "id": "4lGsKY683TWc"
      },
      "source": [
        "r, g, b = im.split()\r\n",
        "Image.merge(\"RGB\", (b, g, r))"
      ],
      "execution_count": null,
      "outputs": []
    },
    {
      "cell_type": "code",
      "metadata": {
        "id": "9enFxR8Y4ZqS"
      },
      "source": [
        "r"
      ],
      "execution_count": null,
      "outputs": []
    },
    {
      "cell_type": "code",
      "metadata": {
        "id": "dxtfiMPe4jzt"
      },
      "source": [
        "g"
      ],
      "execution_count": null,
      "outputs": []
    },
    {
      "cell_type": "code",
      "metadata": {
        "id": "AfJK7Y8Z4kcl"
      },
      "source": [
        "b"
      ],
      "execution_count": null,
      "outputs": []
    },
    {
      "cell_type": "markdown",
      "metadata": {
        "id": "RVCpCEnn485E"
      },
      "source": [
        "## Geometrical Transform"
      ]
    },
    {
      "cell_type": "markdown",
      "metadata": {
        "id": "M1W0bDi85Dj6"
      },
      "source": [
        "### simple geometry transform"
      ]
    },
    {
      "cell_type": "code",
      "metadata": {
        "id": "-ezyIICS4kwR"
      },
      "source": [
        "im.resize((128, 128))"
      ],
      "execution_count": null,
      "outputs": []
    },
    {
      "cell_type": "code",
      "metadata": {
        "id": "NzJwXbZv5Mdr"
      },
      "source": [
        "im.rotate(45)"
      ],
      "execution_count": null,
      "outputs": []
    },
    {
      "cell_type": "code",
      "metadata": {
        "id": "IJFp-Quq5PvM"
      },
      "source": [
        "im.transpose(Image.FLIP_LEFT_RIGHT)"
      ],
      "execution_count": null,
      "outputs": []
    },
    {
      "cell_type": "code",
      "metadata": {
        "id": "psbx3qBl5yCe"
      },
      "source": [
        "im.transpose(Image.ROTATE_90)"
      ],
      "execution_count": null,
      "outputs": []
    },
    {
      "cell_type": "markdown",
      "metadata": {
        "id": "aaGDUHJG6HFh"
      },
      "source": [
        "## Color Transform"
      ]
    },
    {
      "cell_type": "markdown",
      "metadata": {
        "id": "WaaxkP6p6Fqr"
      },
      "source": [
        "### Coverting between modes"
      ]
    },
    {
      "cell_type": "code",
      "metadata": {
        "id": "PG5EwIsJ5202"
      },
      "source": [
        "im.convert(\"L\")"
      ],
      "execution_count": null,
      "outputs": []
    },
    {
      "cell_type": "markdown",
      "metadata": {
        "id": "Zc82LEuH6ha-"
      },
      "source": [
        "## Image Inhancement"
      ]
    },
    {
      "cell_type": "markdown",
      "metadata": {
        "id": "536uaxly6qpV"
      },
      "source": [
        "### Filter"
      ]
    },
    {
      "cell_type": "code",
      "metadata": {
        "id": "DObqSiMz6ydv"
      },
      "source": [
        "from PIL import ImageFilter"
      ],
      "execution_count": null,
      "outputs": []
    },
    {
      "cell_type": "code",
      "metadata": {
        "id": "2XzemrKt6TLV"
      },
      "source": [
        "im.filter(ImageFilter.DETAIL)"
      ],
      "execution_count": null,
      "outputs": []
    },
    {
      "cell_type": "markdown",
      "metadata": {
        "id": "LG79Gl_A7Aia"
      },
      "source": [
        "## Point Operations"
      ]
    },
    {
      "cell_type": "markdown",
      "metadata": {
        "id": "-2jV54UO7XcX"
      },
      "source": [
        "### Apply point transform"
      ]
    },
    {
      "cell_type": "code",
      "metadata": {
        "id": "Yg3k4_RF6-pu"
      },
      "source": [
        "im.point(lambda i: i * 1.2)"
      ],
      "execution_count": null,
      "outputs": []
    },
    {
      "cell_type": "markdown",
      "metadata": {
        "id": "Zi-Ifd5U8Bsp"
      },
      "source": [
        "### processing individual bands"
      ]
    },
    {
      "cell_type": "code",
      "metadata": {
        "id": "juLnqVEe7hAz"
      },
      "source": [
        "r, g, b = im.split()"
      ],
      "execution_count": null,
      "outputs": []
    },
    {
      "cell_type": "code",
      "metadata": {
        "id": "GgT6nEbF8Jq7"
      },
      "source": [
        "mask = r.point(lambda i: i < 100 and 255)\r\n",
        "out = g.point(lambda i: i * 0.7)\r\n",
        "g.paste(out, None, mask)\r\n",
        "Image.merge(im.mode, [r, g, b])"
      ],
      "execution_count": null,
      "outputs": []
    },
    {
      "cell_type": "markdown",
      "metadata": {
        "id": "Sc2psz9X-MDP"
      },
      "source": [
        "## More Enhancement"
      ]
    },
    {
      "cell_type": "code",
      "metadata": {
        "id": "K_G-_LiV8v5Y"
      },
      "source": [
        "from PIL import ImageEnhance"
      ],
      "execution_count": null,
      "outputs": []
    },
    {
      "cell_type": "code",
      "metadata": {
        "id": "HDP7y9kv-UXW"
      },
      "source": [
        "enh = ImageEnhance.Contrast(im)\r\n",
        "enh.enhance(1.3)"
      ],
      "execution_count": null,
      "outputs": []
    },
    {
      "cell_type": "markdown",
      "metadata": {
        "id": "6vHJm9hGFIG4"
      },
      "source": [
        "### Using the ImageSequence Iterator class"
      ]
    },
    {
      "cell_type": "code",
      "metadata": {
        "id": "06KLAhti-eFW"
      },
      "source": [
        "from PIL import ImageSequence"
      ],
      "execution_count": null,
      "outputs": []
    },
    {
      "cell_type": "code",
      "metadata": {
        "id": "IkWI90MBIUVf"
      },
      "source": [
        "gif = \"/content/drive/MyDrive/dataSet/img/3.gif\""
      ],
      "execution_count": null,
      "outputs": []
    },
    {
      "cell_type": "code",
      "metadata": {
        "id": "jJu85go5IN2E"
      },
      "source": [
        "im = Image.open(gif)\r\n",
        "# for i in range(10):\r\n",
        "#     x = im.seek(im.tell() + i)\r\n",
        "#     print(type(x))"
      ],
      "execution_count": null,
      "outputs": []
    },
    {
      "cell_type": "code",
      "metadata": {
        "id": "nWwdYZMlFbZ9"
      },
      "source": [
        "f = ImageSequence.Iterator(im)"
      ],
      "execution_count": null,
      "outputs": []
    },
    {
      "cell_type": "code",
      "metadata": {
        "id": "j3DhuRVoHTi_"
      },
      "source": [
        "next(f)"
      ],
      "execution_count": null,
      "outputs": []
    },
    {
      "cell_type": "markdown",
      "metadata": {
        "id": "NzVtRkUbJGJe"
      },
      "source": [
        "## Drawing Postscript"
      ]
    },
    {
      "cell_type": "code",
      "metadata": {
        "id": "92c1oLDJIjDB"
      },
      "source": [
        "from PIL import PSDraw"
      ],
      "execution_count": null,
      "outputs": []
    },
    {
      "cell_type": "code",
      "metadata": {
        "id": "N8hqzvezJenG"
      },
      "source": [
        "im = Image.open(im_path)"
      ],
      "execution_count": null,
      "outputs": []
    },
    {
      "cell_type": "code",
      "metadata": {
        "id": "SygpHUIWI9-i"
      },
      "source": [
        "box = (1*72, 2*72, 7*72, 10*72)\r\n",
        "title = \"iga\"\r\n",
        "ps = PSDraw.PSDraw()\r\n",
        "ps.begin_document(title)\r\n",
        "ps.image(box, im, 75)\r\n",
        "ps.rectangle(box)\r\n",
        "ps.setfont(\"HelveticaNarrow-Bold\", 36)\r\n",
        "ps.text((3*72, 4*72), title)\r\n",
        "ps.end_document()"
      ],
      "execution_count": null,
      "outputs": []
    },
    {
      "cell_type": "code",
      "metadata": {
        "id": "T4DpPC92LAnT"
      },
      "source": [
        "with Image.open(im_path) as im:\r\n",
        "    title = \"hopper\"\r\n",
        "    box = (1*72, 2*72, 7*72, 10*72) # in points\r\n",
        "\r\n",
        "    ps = PSDraw.PSDraw() # default is sys.stdout\r\n",
        "    ps.begin_document(title)\r\n",
        "\r\n",
        "    # draw the image (75 dpi)\r\n",
        "    ps.image(box, im, 75)\r\n",
        "    ps.rectangle(box)\r\n",
        "\r\n",
        "    # draw title\r\n",
        "    ps.setfont(\"HelveticaNarrow-Bold\", 36)\r\n",
        "    ps.text((3*72, 4*72), title)\r\n",
        "\r\n",
        "    ps.end_document()"
      ],
      "execution_count": null,
      "outputs": []
    },
    {
      "cell_type": "code",
      "metadata": {
        "id": "_KiW4uuGKY6t"
      },
      "source": [
        "im"
      ],
      "execution_count": null,
      "outputs": []
    },
    {
      "cell_type": "code",
      "metadata": {
        "id": "xyCwg6cNKw3m"
      },
      "source": [
        "from PIL import ImageDraw, ImageFont"
      ],
      "execution_count": null,
      "outputs": []
    },
    {
      "cell_type": "code",
      "metadata": {
        "id": "tP0--nWfVjq5"
      },
      "source": [
        "im = Image.open(im_path)"
      ],
      "execution_count": null,
      "outputs": []
    },
    {
      "cell_type": "code",
      "metadata": {
        "id": "hwLXF1a-UYjB"
      },
      "source": [
        "draw = ImageDraw.Draw(im)"
      ],
      "execution_count": null,
      "outputs": []
    },
    {
      "cell_type": "code",
      "metadata": {
        "id": "2tfHQdmlUjLg"
      },
      "source": [
        "# font = ImageFont.load(\"arial.ttf\")\r\n",
        "draw.text((10, 10), \"hello\", \"red\")\r\n"
      ],
      "execution_count": null,
      "outputs": []
    },
    {
      "cell_type": "code",
      "metadata": {
        "id": "Ei6mMsc4U-Dk"
      },
      "source": [
        "im"
      ],
      "execution_count": null,
      "outputs": []
    },
    {
      "cell_type": "code",
      "metadata": {
        "id": "l67oYRFuU-W0"
      },
      "source": [
        "import PIL"
      ],
      "execution_count": null,
      "outputs": []
    },
    {
      "cell_type": "code",
      "metadata": {
        "id": "QGLhb_EYW7AF"
      },
      "source": [
        "PIL.ImageShow.show(im)"
      ],
      "execution_count": null,
      "outputs": []
    },
    {
      "cell_type": "code",
      "metadata": {
        "id": "ZKu-I7omW9zW"
      },
      "source": [
        ""
      ],
      "execution_count": null,
      "outputs": []
    }
  ]
}